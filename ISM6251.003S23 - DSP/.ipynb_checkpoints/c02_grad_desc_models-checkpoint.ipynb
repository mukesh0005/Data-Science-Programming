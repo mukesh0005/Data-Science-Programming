{
 "cells": [
  {
   "cell_type": "markdown",
   "metadata": {},
   "source": [
    "# Gradient Descent Models\n",
    "\n",
    "We will predict the price (`price` column) of an AirBNB dataset used last week.\n",
    "\n",
    "**Therefore, our unit of analysis is an AIRBNB LISTING**"
   ]
  },
  {
   "cell_type": "markdown",
   "metadata": {},
   "source": [
    "## 1. Setup"
   ]
  },
  {
   "cell_type": "code",
   "execution_count": 1,
   "metadata": {},
   "outputs": [],
   "source": [
    "# Common imports\n",
    "import numpy as np\n",
    "import pandas as pd\n",
    "from sklearn.metrics import mean_squared_error\n",
    "from sklearn.linear_model import SGDRegressor \n",
    "from sklearn.dummy import DummyRegressor\n",
    "\n",
    "np.random.seed(1)"
   ]
  },
  {
   "cell_type": "markdown",
   "metadata": {},
   "source": [
    "# 2. Load the data"
   ]
  },
  {
   "cell_type": "markdown",
   "metadata": {},
   "source": [
    "We will use the AirBNB data that we cleaned in last class (the original, not the one that you altered for last weeks exercise)."
   ]
  },
  {
   "cell_type": "code",
   "execution_count": 2,
   "metadata": {},
   "outputs": [],
   "source": [
    "X_train = pd.read_csv(\"./data/airbnb_train_X_price.csv\")\n",
    "X_test = pd.read_csv(\"./data/airbnb_test_X_price.csv\")\n",
    "y_train = pd.read_csv(\"./data/airbnb_train_y_price.csv\")\n",
    "y_test = pd.read_csv(\"./data/airbnb_test_y_price.csv\")"
   ]
  },
  {
   "cell_type": "markdown",
   "metadata": {},
   "source": [
    "## 3. Model the data\n",
    "\n",
    "First, we will create a dataframe to hold all the results of our models."
   ]
  },
  {
   "cell_type": "code",
   "execution_count": 3,
   "metadata": {},
   "outputs": [],
   "source": [
    "results = pd.DataFrame(y_train, columns=[\"actual\"])\n",
    "\n",
    "rmses = pd.DataFrame({\"model\": [], \"rmse\": []})"
   ]
  },
  {
   "cell_type": "markdown",
   "metadata": {},
   "source": [
    "### 3.1 Fit and test the baseline Model"
   ]
  },
  {
   "cell_type": "code",
   "execution_count": 4,
   "metadata": {},
   "outputs": [],
   "source": [
    "dummy_reg = DummyRegressor(strategy=\"mean\")\n",
    "_ = dummy_reg.fit(X_train, y_train)\n",
    "\n",
    "results[\"dummy\"] = dummy_reg.predict(X_train)"
   ]
  },
  {
   "cell_type": "code",
   "execution_count": 5,
   "metadata": {},
   "outputs": [
    {
     "name": "stdout",
     "output_type": "stream",
     "text": [
      "Baseline Test RMSE: 102.625\n"
     ]
    }
   ],
   "source": [
    "#Baseline Test RMSE\n",
    "dummy_test_pred = dummy_reg.predict(X_test)\n",
    "dummy_test_rmse = np.sqrt(mean_squared_error(y_test, dummy_test_pred))\n",
    "\n",
    "rmses = pd.concat([rmses, pd.DataFrame({'model':\"baseline\", 'rmse': dummy_test_rmse}, index=[0])])\n",
    "\n",
    "print(f\"Baseline Test RMSE: {dummy_test_rmse:.3f}\")\n"
   ]
  },
  {
   "cell_type": "markdown",
   "metadata": {},
   "source": [
    "### 3.2  Fit and test a Linear Regression Using Stochastic Gradient Descent"
   ]
  },
  {
   "cell_type": "code",
   "execution_count": 6,
   "metadata": {},
   "outputs": [
    {
     "name": "stdout",
     "output_type": "stream",
     "text": [
      "Number of iterations = 46\n"
     ]
    }
   ],
   "source": [
    "#Stochastic Gradient Descent:\n",
    "# https://scikit-learn.org/stable/modules/sgd.html\n",
    "# https://scikit-learn.org/stable/modules/generated/sklearn.linear_model.SGDRegressor.html#sklearn.linear_model.SGDRegressor\n",
    "\n",
    "\n",
    "# eta0 = learning rate\n",
    "# max_iter = number of passes over training data (i.e., epochs)\n",
    "\n",
    "sgd_reg = SGDRegressor(max_iter=100, penalty=None, eta0=0.01)\n",
    "sgd_reg.fit(X_train, np.ravel(y_train))\n",
    "\n",
    "print(f\"Number of iterations = {sgd_reg.n_iter_}\")\n",
    "\n",
    "results[\"SGD_preds\"] = sgd_reg.predict(X_train)"
   ]
  },
  {
   "cell_type": "code",
   "execution_count": 7,
   "metadata": {},
   "outputs": [
    {
     "name": "stdout",
     "output_type": "stream",
     "text": [
      "SGD Test RMSE: 65.459\n"
     ]
    }
   ],
   "source": [
    "#SGD Test RMSE\n",
    "SGD_test_pred = sgd_reg.predict(X_test)\n",
    "SGD_test_rmse = np.sqrt(mean_squared_error(y_test, SGD_test_pred))\n",
    "\n",
    "rmses = pd.concat([rmses, pd.DataFrame({'model':\"SGD\", 'rmse': SGD_test_rmse}, index=[0])])\n",
    "\n",
    "print(f\"SGD Test RMSE: {SGD_test_rmse:.3f}\")"
   ]
  },
  {
   "cell_type": "markdown",
   "metadata": {},
   "source": [
    "### 3.3 Fit and test SGDRegression using L2 Regularization"
   ]
  },
  {
   "cell_type": "code",
   "execution_count": 8,
   "metadata": {},
   "outputs": [
    {
     "name": "stdout",
     "output_type": "stream",
     "text": [
      "Number of iterations = 62\n"
     ]
    }
   ],
   "source": [
    "#Stochastic Gradient with L2 regularization:\n",
    "\n",
    "# eta0 = learning rate\n",
    "# penalty = regularization term\n",
    "# alphe = regularization strength (lambda)\n",
    "# max_iter = number of passes over training data (i.e., epochs)\n",
    "\n",
    "sgd_reg_l2 = SGDRegressor(max_iter=100, penalty='l2', alpha = 0.1, eta0=0.01)\n",
    "_ = sgd_reg_l2.fit(X_train, np.ravel(y_train))\n",
    "\n",
    "print(f\"Number of iterations = {sgd_reg_l2.n_iter_}\")\n",
    "\n",
    "results[\"SGD_preds_l2\"] = sgd_reg_l2.predict(X_train)\n"
   ]
  },
  {
   "cell_type": "code",
   "execution_count": 9,
   "metadata": {},
   "outputs": [
    {
     "name": "stdout",
     "output_type": "stream",
     "text": [
      "SGD Test with l2 RMSE: 68.369\n"
     ]
    }
   ],
   "source": [
    "#Train RMSE\n",
    "#SGD Test RMSE\n",
    "SGD_test_pred_l2 = sgd_reg_l2.predict(X_test)\n",
    "SGD_test_rmse_l2 = np.sqrt(mean_squared_error(y_test, SGD_test_pred_l2))\n",
    "\n",
    "rmses = pd.concat([rmses, pd.DataFrame({'model':\"SGD L2\", 'rmse': SGD_test_rmse_l2}, index=[0])])\n",
    "\n",
    "print(f\"SGD Test with l2 RMSE: {SGD_test_rmse_l2:.3f}\")"
   ]
  },
  {
   "cell_type": "markdown",
   "metadata": {},
   "source": [
    "### 3.4 Fit and test SGDRegression Using L1 Regularization"
   ]
  },
  {
   "cell_type": "code",
   "execution_count": 10,
   "metadata": {},
   "outputs": [
    {
     "name": "stdout",
     "output_type": "stream",
     "text": [
      "Number of iterations = 46\n"
     ]
    }
   ],
   "source": [
    "#Stochastic Gradient with L1 regularization:\n",
    "\n",
    "# eta0 = learning rate\n",
    "# penalty = regularization term\n",
    "# alphe = regularization strength (lambda)\n",
    "# max_iter = number of passes over training data (i.e., epochs)\n",
    "\n",
    "sgd_reg_l1 = SGDRegressor(max_iter=100, penalty='l1', alpha = 0.1, eta0=0.01)\n",
    "_ = sgd_reg_l1.fit(X_train, np.ravel(y_train))\n",
    "\n",
    "print(f\"Number of iterations = {sgd_reg_l1.n_iter_}\")\n",
    "\n",
    "results[\"SGD_preds_l1\"] = sgd_reg_l1.predict(X_train)"
   ]
  },
  {
   "cell_type": "code",
   "execution_count": 11,
   "metadata": {},
   "outputs": [
    {
     "name": "stdout",
     "output_type": "stream",
     "text": [
      "SGD with l1 Test RMSE: 65.730\n"
     ]
    }
   ],
   "source": [
    "#Train RMSE\n",
    "#SGD Test RMSE with L1\n",
    "SGD_test_pred_l1 = sgd_reg_l1.predict(X_test)\n",
    "SGD_test_rmse_l1 = np.sqrt(mean_squared_error(y_test, SGD_test_pred_l1))\n",
    "\n",
    "rmses = pd.concat([rmses, pd.DataFrame({'model':\"SGD L1\", 'rmse': SGD_test_rmse_l1}, index=[0])])\n",
    "\n",
    "print(f\"SGD with l1 Test RMSE: {SGD_test_rmse_l1:.3f}\")"
   ]
  },
  {
   "cell_type": "markdown",
   "metadata": {},
   "source": [
    "### 3.5 Fit and test SGDRegression using ElasticNet Regularization"
   ]
  },
  {
   "cell_type": "code",
   "execution_count": 12,
   "metadata": {},
   "outputs": [
    {
     "name": "stdout",
     "output_type": "stream",
     "text": [
      "Number of iterations = 34\n"
     ]
    }
   ],
   "source": [
    "#Stochastic Gradient with Elastic Net regularization:\n",
    "\n",
    "# eta0 = learning rate\n",
    "# penalty = regularization term\n",
    "# alphe = regularization strength (lambda)\n",
    "# max_iter = number of passes over training data (i.e., epochs)\n",
    "\n",
    "sgd_reg_elastic = SGDRegressor(max_iter=100, penalty='elasticnet', l1_ratio=0.5, alpha = 0.1, eta0=0.01)\n",
    "sgd_reg_elastic.fit(X_train, np.ravel(y_train))\n",
    "\n",
    "print(f\"Number of iterations = {sgd_reg_elastic.n_iter_}\")\n",
    "\n",
    "results[\"SGD_preds_elastic\"] = sgd_reg_elastic.predict(X_train)"
   ]
  },
  {
   "cell_type": "code",
   "execution_count": 13,
   "metadata": {},
   "outputs": [
    {
     "name": "stdout",
     "output_type": "stream",
     "text": [
      "SGD wt ElasticNet Test RMSE: 67.579\n"
     ]
    }
   ],
   "source": [
    "#Train RMSE\n",
    "#SGD Test RMSE with ElasticNet\n",
    "SGD_test_pred_elastic = sgd_reg_elastic.predict(X_test)\n",
    "SGD_test_rmse_elastic = np.sqrt(mean_squared_error(y_test, SGD_test_pred_elastic))\n",
    "\n",
    "rmses = pd.concat([rmses, pd.DataFrame({'model':\"SGD Elastic\", 'rmse': SGD_test_rmse_elastic}, index=[0])])\n",
    "\n",
    "print(f\"SGD wt ElasticNet Test RMSE: {SGD_test_rmse_elastic:.3f}\")"
   ]
  },
  {
   "cell_type": "markdown",
   "metadata": {},
   "source": [
    "### 3.6 Fit and test SGDRegression using Early Stopping "
   ]
  },
  {
   "cell_type": "code",
   "execution_count": 14,
   "metadata": {},
   "outputs": [
    {
     "name": "stdout",
     "output_type": "stream",
     "text": [
      "Number of iterations = 8\n"
     ]
    }
   ],
   "source": [
    "#Stochastic Gradient with Early Stopping regularization:\n",
    "# \n",
    "# # tol is the early stopping criteria\n",
    "\n",
    "sgd_reg_es = SGDRegressor(max_iter=500, early_stopping=True, n_iter_no_change=5, tol=0.0001, validation_fraction=0.2, eta0=0.01)\n",
    "sgd_reg_es.fit(X_train, np.ravel(y_train))\n",
    "\n",
    "print(f\"Number of iterations = {sgd_reg_es.n_iter_}\")\n",
    "\n",
    "results[\"SGD_preds_es\"] = sgd_reg_es.predict(X_train)"
   ]
  },
  {
   "cell_type": "code",
   "execution_count": 15,
   "metadata": {},
   "outputs": [
    {
     "name": "stdout",
     "output_type": "stream",
     "text": [
      "SGD wt Early Stopping Test RMSE: 68.107\n"
     ]
    }
   ],
   "source": [
    "#Train RMSE\n",
    "#SGD Test RMSE with Eaarly Stopping\n",
    "SGD_test_pred_es = sgd_reg_es.predict(X_test)\n",
    "SGD_test_rmse_es = np.sqrt(mean_squared_error(y_test, SGD_test_pred_es))\n",
    "\n",
    "rmses = pd.concat([rmses, pd.DataFrame({'model':\"SGD ES\", 'rmse': SGD_test_rmse_es}, index=[0])])\n",
    "\n",
    "print(f\"SGD wt Early Stopping Test RMSE: {SGD_test_rmse_es:.3f}\")"
   ]
  },
  {
   "cell_type": "markdown",
   "metadata": {},
   "source": [
    "## 4.0 Polynomial Regression\n",
    "\n",
    "We've already seen an example of this. Let's now try applying this to our AirBnb data.\n",
    "\n",
    "This is done by creating the polynomial \"variables\" of the existing variables, then fitting them in a regular regression model"
   ]
  },
  {
   "cell_type": "code",
   "execution_count": 16,
   "metadata": {},
   "outputs": [],
   "source": [
    "from sklearn.preprocessing import PolynomialFeatures\n",
    "\n",
    "# Create second degree terms and interaction terms\n",
    "poly_features = PolynomialFeatures(degree=2).fit(X_train)\n",
    "X_train_poly = poly_features.transform(X_train)\n",
    "X_test_poly = poly_features.transform(X_test)\n",
    "\n",
    "#This will create the polynomial terms of the categorical variables too (since they are encoded as numbers)\n",
    "\n",
    "#if degree=3, then it creates all combinations: a, a^2, a^3, b, b^2, b^3, a.b, a^2.b, a.b^2, a^2.b^2 "
   ]
  },
  {
   "cell_type": "code",
   "execution_count": 17,
   "metadata": {},
   "outputs": [
    {
     "name": "stdout",
     "output_type": "stream",
     "text": [
      "Number of iterations = 6\n"
     ]
    }
   ],
   "source": [
    "#We still fit a linear regression model\n",
    "\n",
    "poly_lin_reg = SGDRegressor(max_iter=1000, penalty=None, eta0=0.01) \n",
    "poly_lin_reg.fit(X_train_poly, np.ravel(y_train))\n",
    "\n",
    "print(f\"Number of iterations = {poly_lin_reg.n_iter_}\")\n",
    "\n",
    "results[\"SGD_preds_ using polynomial\"] = poly_lin_reg.predict(X_train_poly)"
   ]
  },
  {
   "cell_type": "code",
   "execution_count": 18,
   "metadata": {},
   "outputs": [
    {
     "name": "stdout",
     "output_type": "stream",
     "text": [
      "SGD wt Polynomial input Test RMSE: 1714113453796.395\n"
     ]
    }
   ],
   "source": [
    "# Train RMSE\n",
    "# SGD with polynomial input\n",
    "poly_test_pred = poly_lin_reg.predict(X_test_poly)\n",
    "poly_test_rmse = np.sqrt(mean_squared_error(y_test, poly_test_pred))\n",
    "\n",
    "rmses = pd.concat([rmses, pd.DataFrame({'model':\"SGD Poly\", 'rmse': poly_test_rmse}, index=[0])])\n",
    "\n",
    "print(f\"SGD wt Polynomial input Test RMSE: {poly_test_rmse:.3f}\")"
   ]
  },
  {
   "cell_type": "markdown",
   "metadata": {},
   "source": []
  },
  {
   "cell_type": "markdown",
   "metadata": {},
   "source": [
    "The RMSE result from the polynomial is very large, a strong indicator that this may not be a good model. The problem is most likely related to having mamy coeficients that are not significant. We can use Lasso to reduce the size of some of the coeficients, or reduce the degree of the polynomial."
   ]
  },
  {
   "cell_type": "code",
   "execution_count": 19,
   "metadata": {},
   "outputs": [
    {
     "name": "stdout",
     "output_type": "stream",
     "text": [
      "Number of iterations = 14\n",
      "SGD wt Polynomial input l1 regularization Test RMSE: 278357632941.825\n"
     ]
    }
   ],
   "source": [
    "poly_lin_reg_l1 = SGDRegressor(max_iter=1000, penalty='l1', alpha=0.5,  eta0=0.01) \n",
    "poly_lin_reg_l1.fit(X_train_poly, np.ravel(y_train))\n",
    "\n",
    "print(f\"Number of iterations = {poly_lin_reg_l1.n_iter_}\")\n",
    "\n",
    "results[\"SGD_preds_ using polynomial with l1\"] = poly_lin_reg_l1.predict(X_train_poly)\n",
    "\n",
    "poly_test_pred_l1 = poly_lin_reg_l1.predict(X_test_poly)\n",
    "poly_test_rmse_l1 = np.sqrt(mean_squared_error(y_test, poly_test_pred_l1))\n",
    "\n",
    "rmses = pd.concat([rmses, pd.DataFrame({'model':\"SGD Poly l1\", 'rmse': poly_test_rmse_l1}, index=[0])])\n",
    "\n",
    "print(f\"SGD wt Polynomial input l1 regularization Test RMSE: {poly_test_rmse_l1:.3f}\")"
   ]
  },
  {
   "cell_type": "code",
   "execution_count": 20,
   "metadata": {},
   "outputs": [
    {
     "name": "stdout",
     "output_type": "stream",
     "text": [
      "Number of iterations = 10\n",
      "SGD wt Polynomial input l2 regularization Test RMSE: 1031453569474.263\n"
     ]
    }
   ],
   "source": [
    "poly_lin_reg_l2 = SGDRegressor(max_iter=1000, penalty='l2', alpha=0.5,  eta0=0.01) \n",
    "poly_lin_reg_l2.fit(X_train_poly, np.ravel(y_train))\n",
    "\n",
    "print(f\"Number of iterations = {poly_lin_reg_l2.n_iter_}\")\n",
    "\n",
    "results[\"SGD_preds_ using polynomial with l2\"] = poly_lin_reg_l2.predict(X_train_poly)\n",
    "\n",
    "poly_test_pred_l2 = poly_lin_reg_l2.predict(X_test_poly)\n",
    "poly_test_rmse_l2 = np.sqrt(mean_squared_error(y_test, poly_test_pred_l2))\n",
    "\n",
    "rmses = pd.concat([rmses, pd.DataFrame({'model':\"SGD Poly l2\", 'rmse': poly_test_rmse_l2}, index=[0])])\n",
    "\n",
    "print(f\"SGD wt Polynomial input l2 regularization Test RMSE: {poly_test_rmse_l2:.3f}\")"
   ]
  },
  {
   "cell_type": "code",
   "execution_count": 21,
   "metadata": {},
   "outputs": [
    {
     "name": "stdout",
     "output_type": "stream",
     "text": [
      "Number of iterations = 6\n",
      "SGD wt Polynomial input elastic net regularization Test RMSE: 278357632941.825\n"
     ]
    }
   ],
   "source": [
    "poly_lin_reg_elastic = SGDRegressor(max_iter=1000, penalty='elasticnet', l1_ratio=.5, alpha=0.5,  eta0=0.01) \n",
    "poly_lin_reg_elastic.fit(X_train_poly, np.ravel(y_train))\n",
    "\n",
    "print(f\"Number of iterations = {poly_lin_reg_elastic.n_iter_}\")\n",
    "\n",
    "results[\"SGD_preds_ using polynomial with elastic net\"] = poly_lin_reg_elastic.predict(X_train_poly)\n",
    "\n",
    "poly_test_pred_elastic = poly_lin_reg_l1.predict(X_test_poly)\n",
    "poly_test_rmse_elastic= np.sqrt(mean_squared_error(y_test, poly_test_pred_elastic))\n",
    "\n",
    "rmses = pd.concat([rmses, pd.DataFrame({'model':\"SGD Poly elastic\", 'rmse': poly_test_rmse_elastic}, index=[0])])\n",
    "\n",
    "print(f\"SGD wt Polynomial input elastic net regularization Test RMSE: {poly_test_rmse_elastic:.3f}\")"
   ]
  },
  {
   "cell_type": "markdown",
   "metadata": {},
   "source": [
    "### 4.1 Fit and test SGDRegression using Early Stopping "
   ]
  },
  {
   "cell_type": "code",
   "execution_count": 22,
   "metadata": {},
   "outputs": [
    {
     "name": "stdout",
     "output_type": "stream",
     "text": [
      "Number of iterations = 15\n"
     ]
    }
   ],
   "source": [
    "#Stochastic Gradient with Early Stopping regularization:\n",
    "# \n",
    "# # tol is the early stopping criteria\n",
    "\n",
    "poly_sgd_reg_es = SGDRegressor(max_iter=500, early_stopping=True, n_iter_no_change=5, tol=0.0001, validation_fraction=0.2, eta0=0.01)\n",
    "poly_sgd_reg_es.fit(X_train_poly, np.ravel(y_train))\n",
    "\n",
    "print(f\"Number of iterations = {poly_sgd_reg_es.n_iter_}\")\n",
    "\n",
    "results[\"POLY_SGD_preds_es\"] = poly_sgd_reg_es.predict(X_train_poly)"
   ]
  },
  {
   "cell_type": "code",
   "execution_count": 23,
   "metadata": {},
   "outputs": [
    {
     "name": "stdout",
     "output_type": "stream",
     "text": [
      "SGD wt Early Stopping Test RMSE: 594744529656.351\n"
     ]
    }
   ],
   "source": [
    "#Train RMSE\n",
    "#SGD Test RMSE with Early Stopping\n",
    "poly_SGD_test_pred_es = poly_sgd_reg_es.predict(X_test_poly)\n",
    "poly_SGD_test_rmse_es = np.sqrt(mean_squared_error(y_test, poly_SGD_test_pred_es))\n",
    "\n",
    "rmses = pd.concat([rmses, pd.DataFrame({'model':\"poly SGD ES\", 'rmse': poly_SGD_test_rmse_es}, index=[0])])\n",
    "\n",
    "print(f\"SGD wt Early Stopping Test RMSE: {poly_SGD_test_rmse_es:.3f}\")"
   ]
  },
  {
   "cell_type": "markdown",
   "metadata": {},
   "source": [
    "## 5.0 Summary"
   ]
  },
  {
   "cell_type": "code",
   "execution_count": 24,
   "metadata": {},
   "outputs": [
    {
     "data": {
      "text/html": [
       "<div>\n",
       "<style scoped>\n",
       "    .dataframe tbody tr th:only-of-type {\n",
       "        vertical-align: middle;\n",
       "    }\n",
       "\n",
       "    .dataframe tbody tr th {\n",
       "        vertical-align: top;\n",
       "    }\n",
       "\n",
       "    .dataframe thead th {\n",
       "        text-align: right;\n",
       "    }\n",
       "</style>\n",
       "<table border=\"1\" class=\"dataframe\">\n",
       "  <thead>\n",
       "    <tr style=\"text-align: right;\">\n",
       "      <th></th>\n",
       "      <th>model</th>\n",
       "      <th>rmse</th>\n",
       "    </tr>\n",
       "  </thead>\n",
       "  <tbody>\n",
       "    <tr>\n",
       "      <th>0</th>\n",
       "      <td>SGD</td>\n",
       "      <td>6.545902e+01</td>\n",
       "    </tr>\n",
       "    <tr>\n",
       "      <th>0</th>\n",
       "      <td>SGD L1</td>\n",
       "      <td>6.573027e+01</td>\n",
       "    </tr>\n",
       "    <tr>\n",
       "      <th>0</th>\n",
       "      <td>SGD Elastic</td>\n",
       "      <td>6.757895e+01</td>\n",
       "    </tr>\n",
       "    <tr>\n",
       "      <th>0</th>\n",
       "      <td>SGD ES</td>\n",
       "      <td>6.810702e+01</td>\n",
       "    </tr>\n",
       "    <tr>\n",
       "      <th>0</th>\n",
       "      <td>SGD L2</td>\n",
       "      <td>6.836941e+01</td>\n",
       "    </tr>\n",
       "    <tr>\n",
       "      <th>0</th>\n",
       "      <td>baseline</td>\n",
       "      <td>1.026252e+02</td>\n",
       "    </tr>\n",
       "    <tr>\n",
       "      <th>0</th>\n",
       "      <td>SGD Poly l1</td>\n",
       "      <td>2.783576e+11</td>\n",
       "    </tr>\n",
       "    <tr>\n",
       "      <th>0</th>\n",
       "      <td>SGD Poly elastic</td>\n",
       "      <td>2.783576e+11</td>\n",
       "    </tr>\n",
       "    <tr>\n",
       "      <th>0</th>\n",
       "      <td>poly SGD ES</td>\n",
       "      <td>5.947445e+11</td>\n",
       "    </tr>\n",
       "    <tr>\n",
       "      <th>0</th>\n",
       "      <td>SGD Poly l2</td>\n",
       "      <td>1.031454e+12</td>\n",
       "    </tr>\n",
       "    <tr>\n",
       "      <th>0</th>\n",
       "      <td>SGD Poly</td>\n",
       "      <td>1.714113e+12</td>\n",
       "    </tr>\n",
       "  </tbody>\n",
       "</table>\n",
       "</div>"
      ],
      "text/plain": [
       "              model          rmse\n",
       "0               SGD  6.545902e+01\n",
       "0            SGD L1  6.573027e+01\n",
       "0       SGD Elastic  6.757895e+01\n",
       "0            SGD ES  6.810702e+01\n",
       "0            SGD L2  6.836941e+01\n",
       "0          baseline  1.026252e+02\n",
       "0       SGD Poly l1  2.783576e+11\n",
       "0  SGD Poly elastic  2.783576e+11\n",
       "0       poly SGD ES  5.947445e+11\n",
       "0       SGD Poly l2  1.031454e+12\n",
       "0          SGD Poly  1.714113e+12"
      ]
     },
     "execution_count": 24,
     "metadata": {},
     "output_type": "execute_result"
    }
   ],
   "source": [
    "rmses.sort_values(by=['rmse'])"
   ]
  },
  {
   "cell_type": "code",
   "execution_count": null,
   "metadata": {},
   "outputs": [],
   "source": []
  }
 ],
 "metadata": {
  "kernelspec": {
   "display_name": "Python 3 (ipykernel)",
   "language": "python",
   "name": "python3"
  },
  "language_info": {
   "codemirror_mode": {
    "name": "ipython",
    "version": 3
   },
   "file_extension": ".py",
   "mimetype": "text/x-python",
   "name": "python",
   "nbconvert_exporter": "python",
   "pygments_lexer": "ipython3",
   "version": "3.9.13"
  },
  "nav_menu": {
   "height": "279px",
   "width": "309px"
  },
  "toc": {
   "base_numbering": 1,
   "nav_menu": {},
   "number_sections": false,
   "sideBar": true,
   "skip_h1_title": false,
   "title_cell": "Table of Contents",
   "title_sidebar": "Contents",
   "toc_cell": false,
   "toc_position": {
    "height": "calc(100% - 180px)",
    "left": "10px",
    "top": "150px",
    "width": "283.398px"
   },
   "toc_section_display": "block",
   "toc_window_display": false
  },
  "varInspector": {
   "cols": {
    "lenName": 16,
    "lenType": 16,
    "lenVar": 40
   },
   "kernels_config": {
    "python": {
     "delete_cmd_postfix": "",
     "delete_cmd_prefix": "del ",
     "library": "var_list.py",
     "varRefreshCmd": "print(var_dic_list())"
    },
    "r": {
     "delete_cmd_postfix": ") ",
     "delete_cmd_prefix": "rm(",
     "library": "var_list.r",
     "varRefreshCmd": "cat(var_dic_list()) "
    }
   },
   "types_to_exclude": [
    "module",
    "function",
    "builtin_function_or_method",
    "instance",
    "_Feature"
   ],
   "window_display": false
  },
  "vscode": {
   "interpreter": {
    "hash": "b056086e24cb5602cbcb82122035cd3d6ee2ccbf5df29c16e348c108b0f83be3"
   }
  }
 },
 "nbformat": 4,
 "nbformat_minor": 4
}
