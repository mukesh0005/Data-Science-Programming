{
 "cells": [
  {
   "cell_type": "markdown",
   "metadata": {},
   "source": [
    "# Tutorial 1 - RNN Sequence classifier"
   ]
  },
  {
   "cell_type": "markdown",
   "metadata": {},
   "source": [
    "In this notebook, we will predict the winner of a basketball game based on the scores observed in the first 3 quarters of the game. Each column represents the beginning of a minute during the game. (There are 12 minutes in each quarter. There are  3 quarters in the data, so we have 36 columns as input variables in chronological order.) The values captured in each column represent the score difference observed at that minute (home score minus away score)<br><br>\n",
    "\n",
    "The last column `W` represents whether the home team (1) or the away team (0) won the game. This is the target variable. <br><br>\n",
    "**Our unit of analysis is a single game.**"
   ]
  },
  {
   "cell_type": "code",
   "execution_count": 1,
   "metadata": {},
   "outputs": [],
   "source": [
    "# Common imports\n",
    "import numpy as np\n",
    "import tensorflow as tf\n",
    "from tensorflow import keras\n",
    "import pandas as pd\n",
    "\n",
    "np.random.seed(1)\n",
    "tf.random.set_seed(1)"
   ]
  },
  {
   "cell_type": "markdown",
   "metadata": {},
   "source": [
    "## Get the data"
   ]
  },
  {
   "cell_type": "code",
   "execution_count": 2,
   "metadata": {},
   "outputs": [],
   "source": [
    "data = pd.read_csv(\"./data/basketball.csv\")"
   ]
  },
  {
   "cell_type": "code",
   "execution_count": 3,
   "metadata": {},
   "outputs": [
    {
     "data": {
      "text/plain": [
       "(1230, 37)"
      ]
     },
     "execution_count": 3,
     "metadata": {},
     "output_type": "execute_result"
    }
   ],
   "source": [
    "data.shape"
   ]
  },
  {
   "cell_type": "code",
   "execution_count": 4,
   "metadata": {},
   "outputs": [
    {
     "data": {
      "text/html": [
       "<div>\n",
       "<style scoped>\n",
       "    .dataframe tbody tr th:only-of-type {\n",
       "        vertical-align: middle;\n",
       "    }\n",
       "\n",
       "    .dataframe tbody tr th {\n",
       "        vertical-align: top;\n",
       "    }\n",
       "\n",
       "    .dataframe thead th {\n",
       "        text-align: right;\n",
       "    }\n",
       "</style>\n",
       "<table border=\"1\" class=\"dataframe\">\n",
       "  <thead>\n",
       "    <tr style=\"text-align: right;\">\n",
       "      <th></th>\n",
       "      <th>M1</th>\n",
       "      <th>M2</th>\n",
       "      <th>M3</th>\n",
       "      <th>M4</th>\n",
       "      <th>M5</th>\n",
       "      <th>M6</th>\n",
       "      <th>M7</th>\n",
       "      <th>M8</th>\n",
       "      <th>M9</th>\n",
       "      <th>M10</th>\n",
       "      <th>...</th>\n",
       "      <th>M28</th>\n",
       "      <th>M29</th>\n",
       "      <th>M30</th>\n",
       "      <th>M31</th>\n",
       "      <th>M32</th>\n",
       "      <th>M33</th>\n",
       "      <th>M34</th>\n",
       "      <th>M35</th>\n",
       "      <th>M36</th>\n",
       "      <th>W</th>\n",
       "    </tr>\n",
       "  </thead>\n",
       "  <tbody>\n",
       "    <tr>\n",
       "      <th>0</th>\n",
       "      <td>-2</td>\n",
       "      <td>-1</td>\n",
       "      <td>1</td>\n",
       "      <td>1</td>\n",
       "      <td>-1</td>\n",
       "      <td>-3</td>\n",
       "      <td>-1</td>\n",
       "      <td>0</td>\n",
       "      <td>3</td>\n",
       "      <td>6</td>\n",
       "      <td>...</td>\n",
       "      <td>9</td>\n",
       "      <td>11</td>\n",
       "      <td>10</td>\n",
       "      <td>7</td>\n",
       "      <td>7</td>\n",
       "      <td>4</td>\n",
       "      <td>6</td>\n",
       "      <td>2</td>\n",
       "      <td>1</td>\n",
       "      <td>1</td>\n",
       "    </tr>\n",
       "    <tr>\n",
       "      <th>1</th>\n",
       "      <td>0</td>\n",
       "      <td>2</td>\n",
       "      <td>7</td>\n",
       "      <td>6</td>\n",
       "      <td>10</td>\n",
       "      <td>8</td>\n",
       "      <td>8</td>\n",
       "      <td>6</td>\n",
       "      <td>0</td>\n",
       "      <td>6</td>\n",
       "      <td>...</td>\n",
       "      <td>7</td>\n",
       "      <td>11</td>\n",
       "      <td>11</td>\n",
       "      <td>14</td>\n",
       "      <td>14</td>\n",
       "      <td>15</td>\n",
       "      <td>13</td>\n",
       "      <td>13</td>\n",
       "      <td>13</td>\n",
       "      <td>0</td>\n",
       "    </tr>\n",
       "    <tr>\n",
       "      <th>2</th>\n",
       "      <td>0</td>\n",
       "      <td>-2</td>\n",
       "      <td>2</td>\n",
       "      <td>0</td>\n",
       "      <td>5</td>\n",
       "      <td>4</td>\n",
       "      <td>5</td>\n",
       "      <td>3</td>\n",
       "      <td>5</td>\n",
       "      <td>3</td>\n",
       "      <td>...</td>\n",
       "      <td>9</td>\n",
       "      <td>11</td>\n",
       "      <td>13</td>\n",
       "      <td>13</td>\n",
       "      <td>12</td>\n",
       "      <td>17</td>\n",
       "      <td>15</td>\n",
       "      <td>15</td>\n",
       "      <td>12</td>\n",
       "      <td>1</td>\n",
       "    </tr>\n",
       "    <tr>\n",
       "      <th>3</th>\n",
       "      <td>0</td>\n",
       "      <td>2</td>\n",
       "      <td>0</td>\n",
       "      <td>3</td>\n",
       "      <td>4</td>\n",
       "      <td>3</td>\n",
       "      <td>5</td>\n",
       "      <td>4</td>\n",
       "      <td>3</td>\n",
       "      <td>1</td>\n",
       "      <td>...</td>\n",
       "      <td>10</td>\n",
       "      <td>6</td>\n",
       "      <td>7</td>\n",
       "      <td>7</td>\n",
       "      <td>8</td>\n",
       "      <td>8</td>\n",
       "      <td>8</td>\n",
       "      <td>8</td>\n",
       "      <td>8</td>\n",
       "      <td>1</td>\n",
       "    </tr>\n",
       "    <tr>\n",
       "      <th>4</th>\n",
       "      <td>0</td>\n",
       "      <td>-2</td>\n",
       "      <td>-2</td>\n",
       "      <td>0</td>\n",
       "      <td>3</td>\n",
       "      <td>-2</td>\n",
       "      <td>-7</td>\n",
       "      <td>-5</td>\n",
       "      <td>-7</td>\n",
       "      <td>-4</td>\n",
       "      <td>...</td>\n",
       "      <td>10</td>\n",
       "      <td>10</td>\n",
       "      <td>15</td>\n",
       "      <td>13</td>\n",
       "      <td>11</td>\n",
       "      <td>11</td>\n",
       "      <td>11</td>\n",
       "      <td>13</td>\n",
       "      <td>10</td>\n",
       "      <td>1</td>\n",
       "    </tr>\n",
       "  </tbody>\n",
       "</table>\n",
       "<p>5 rows × 37 columns</p>\n",
       "</div>"
      ],
      "text/plain": [
       "   M1  M2  M3  M4  M5  M6  M7  M8  M9  M10  ...  M28  M29  M30  M31  M32  M33   \n",
       "0  -2  -1   1   1  -1  -3  -1   0   3    6  ...    9   11   10    7    7    4  \\\n",
       "1   0   2   7   6  10   8   8   6   0    6  ...    7   11   11   14   14   15   \n",
       "2   0  -2   2   0   5   4   5   3   5    3  ...    9   11   13   13   12   17   \n",
       "3   0   2   0   3   4   3   5   4   3    1  ...   10    6    7    7    8    8   \n",
       "4   0  -2  -2   0   3  -2  -7  -5  -7   -4  ...   10   10   15   13   11   11   \n",
       "\n",
       "   M34  M35  M36  W  \n",
       "0    6    2    1  1  \n",
       "1   13   13   13  0  \n",
       "2   15   15   12  1  \n",
       "3    8    8    8  1  \n",
       "4   11   13   10  1  \n",
       "\n",
       "[5 rows x 37 columns]"
      ]
     },
     "execution_count": 4,
     "metadata": {},
     "output_type": "execute_result"
    }
   ],
   "source": [
    "data.head()"
   ]
  },
  {
   "cell_type": "code",
   "execution_count": 5,
   "metadata": {},
   "outputs": [],
   "source": [
    "y = data['W']\n",
    "X = data.drop('W', axis=1)"
   ]
  },
  {
   "cell_type": "markdown",
   "metadata": {},
   "source": [
    "## Split the data"
   ]
  },
  {
   "cell_type": "code",
   "execution_count": 6,
   "metadata": {},
   "outputs": [],
   "source": [
    "from sklearn.model_selection import train_test_split\n",
    "\n",
    "X_train, X_test, y_train, y_test = train_test_split(X, y, test_size=0.3)"
   ]
  },
  {
   "cell_type": "markdown",
   "metadata": {},
   "source": [
    "## Data Transformation"
   ]
  },
  {
   "cell_type": "code",
   "execution_count": 7,
   "metadata": {},
   "outputs": [],
   "source": [
    "#Target variables need to be an array with integer type\n",
    "y_train = np.array(y_train)\n",
    "y_test = np.array(y_test)\n",
    "\n",
    "y_train = y_train.astype(np.int32)\n",
    "y_test = y_test.astype(np.int32)"
   ]
  },
  {
   "cell_type": "code",
   "execution_count": 8,
   "metadata": {
    "scrolled": true
   },
   "outputs": [
    {
     "data": {
      "text/plain": [
       "array([1, 1, 0, 0, 1, 1, 1, 0, 1, 0], dtype=int32)"
      ]
     },
     "execution_count": 8,
     "metadata": {},
     "output_type": "execute_result"
    }
   ],
   "source": [
    "#Check the first 10 values of the train_y data set\n",
    "y_train[0:10]"
   ]
  },
  {
   "cell_type": "code",
   "execution_count": 9,
   "metadata": {},
   "outputs": [],
   "source": [
    "#Convert input variables to a 2-D array with float data type\n",
    "X_train = np.array(X_train)\n",
    "X_test = np.array(X_test)\n",
    "\n",
    "X_train = X_train.astype(np.float32)\n",
    "X_test = X_test.astype(np.float32)"
   ]
  },
  {
   "cell_type": "code",
   "execution_count": 10,
   "metadata": {},
   "outputs": [
    {
     "data": {
      "text/plain": [
       "array([[  1.,   2.,   7., ...,   6.,   2.,   4.],\n",
       "       [  2.,   2.,   1., ...,  18.,  23.,  21.],\n",
       "       [ -4.,  -4.,  -6., ..., -14., -14., -16.],\n",
       "       ...,\n",
       "       [ -3.,  -5.,  -2., ...,  14.,  13.,   9.],\n",
       "       [ -2.,  -2.,  -2., ...,  13.,  15.,  12.],\n",
       "       [  0.,  -5.,  -9., ...,  -3.,  -3.,  -5.]], dtype=float32)"
      ]
     },
     "execution_count": 10,
     "metadata": {},
     "output_type": "execute_result"
    }
   ],
   "source": [
    "X_train"
   ]
  },
  {
   "cell_type": "code",
   "execution_count": 11,
   "metadata": {},
   "outputs": [],
   "source": [
    "#Keras expects a different input format:\n",
    "#Data needs to have 3 dimensions\n",
    "\n",
    "X_train = np.reshape(X_train, (X_train.shape[0], X_train.shape[1], 1))\n",
    "X_test = np.reshape(X_test, (X_test.shape[0], X_test.shape[1], 1))"
   ]
  },
  {
   "cell_type": "code",
   "execution_count": 12,
   "metadata": {},
   "outputs": [
    {
     "data": {
      "text/plain": [
       "((861, 36, 1), (861,))"
      ]
     },
     "execution_count": 12,
     "metadata": {},
     "output_type": "execute_result"
    }
   ],
   "source": [
    "X_train.shape, y_train.shape"
   ]
  },
  {
   "cell_type": "code",
   "execution_count": 13,
   "metadata": {},
   "outputs": [
    {
     "data": {
      "text/plain": [
       "array([[[  1.],\n",
       "        [  2.],\n",
       "        [  7.],\n",
       "        ...,\n",
       "        [  6.],\n",
       "        [  2.],\n",
       "        [  4.]],\n",
       "\n",
       "       [[  2.],\n",
       "        [  2.],\n",
       "        [  1.],\n",
       "        ...,\n",
       "        [ 18.],\n",
       "        [ 23.],\n",
       "        [ 21.]],\n",
       "\n",
       "       [[ -4.],\n",
       "        [ -4.],\n",
       "        [ -6.],\n",
       "        ...,\n",
       "        [-14.],\n",
       "        [-14.],\n",
       "        [-16.]],\n",
       "\n",
       "       ...,\n",
       "\n",
       "       [[ -3.],\n",
       "        [ -5.],\n",
       "        [ -2.],\n",
       "        ...,\n",
       "        [ 14.],\n",
       "        [ 13.],\n",
       "        [  9.]],\n",
       "\n",
       "       [[ -2.],\n",
       "        [ -2.],\n",
       "        [ -2.],\n",
       "        ...,\n",
       "        [ 13.],\n",
       "        [ 15.],\n",
       "        [ 12.]],\n",
       "\n",
       "       [[  0.],\n",
       "        [ -5.],\n",
       "        [ -9.],\n",
       "        ...,\n",
       "        [ -3.],\n",
       "        [ -3.],\n",
       "        [ -5.]]], dtype=float32)"
      ]
     },
     "execution_count": 13,
     "metadata": {},
     "output_type": "execute_result"
    }
   ],
   "source": [
    "X_train"
   ]
  },
  {
   "cell_type": "markdown",
   "metadata": {},
   "source": [
    "# A normal (cross-sectional) NN\n",
    "\n",
    "This model assumes that the data is NOT a time-series data set. It treats the data as cross-sectional and the columns being independent of each other."
   ]
  },
  {
   "cell_type": "code",
   "execution_count": 14,
   "metadata": {},
   "outputs": [],
   "source": [
    "model = keras.models.Sequential([\n",
    "    \n",
    "    keras.layers.Flatten(input_shape=[36, 1]),\n",
    "    keras.layers.Dense(36, activation='relu'),\n",
    "    keras.layers.Dense(1, activation='sigmoid')\n",
    "    \n",
    "])"
   ]
  },
  {
   "cell_type": "code",
   "execution_count": 15,
   "metadata": {
    "scrolled": true
   },
   "outputs": [
    {
     "name": "stdout",
     "output_type": "stream",
     "text": [
      "Epoch 1/50\n"
     ]
    },
    {
     "name": "stderr",
     "output_type": "stream",
     "text": [
      "2023-04-16 17:28:54.037006: W tensorflow/tsl/platform/profile_utils/cpu_utils.cc:128] Failed to get CPU frequency: 0 Hz\n"
     ]
    },
    {
     "name": "stdout",
     "output_type": "stream",
     "text": [
      "27/27 [==============================] - 0s 4ms/step - loss: 0.7840 - accuracy: 0.7271 - val_loss: 0.4976 - val_accuracy: 0.7751\n",
      "Epoch 2/50\n",
      "27/27 [==============================] - 0s 1ms/step - loss: 0.5022 - accuracy: 0.7689 - val_loss: 0.4337 - val_accuracy: 0.8076\n",
      "Epoch 3/50\n",
      "27/27 [==============================] - 0s 1ms/step - loss: 0.4814 - accuracy: 0.7758 - val_loss: 0.4125 - val_accuracy: 0.8211\n",
      "Epoch 4/50\n",
      "27/27 [==============================] - 0s 1ms/step - loss: 0.4306 - accuracy: 0.8002 - val_loss: 0.4192 - val_accuracy: 0.7995\n",
      "Epoch 5/50\n",
      "27/27 [==============================] - 0s 1ms/step - loss: 0.4020 - accuracy: 0.8188 - val_loss: 0.4710 - val_accuracy: 0.7805\n",
      "Epoch 6/50\n",
      "27/27 [==============================] - 0s 1ms/step - loss: 0.3960 - accuracy: 0.8165 - val_loss: 0.4073 - val_accuracy: 0.8157\n",
      "Epoch 7/50\n",
      "27/27 [==============================] - 0s 1ms/step - loss: 0.3828 - accuracy: 0.8177 - val_loss: 0.4315 - val_accuracy: 0.7967\n",
      "Epoch 8/50\n",
      "27/27 [==============================] - 0s 1ms/step - loss: 0.3861 - accuracy: 0.8200 - val_loss: 0.4246 - val_accuracy: 0.8184\n",
      "Epoch 9/50\n",
      "27/27 [==============================] - 0s 1ms/step - loss: 0.3741 - accuracy: 0.8142 - val_loss: 0.6091 - val_accuracy: 0.7209\n",
      "Epoch 10/50\n",
      "27/27 [==============================] - 0s 1ms/step - loss: 0.4180 - accuracy: 0.8107 - val_loss: 0.4237 - val_accuracy: 0.8103\n",
      "Epoch 11/50\n",
      "27/27 [==============================] - 0s 1ms/step - loss: 0.3592 - accuracy: 0.8386 - val_loss: 0.4459 - val_accuracy: 0.7995\n",
      "Epoch 12/50\n",
      "27/27 [==============================] - 0s 1ms/step - loss: 0.3552 - accuracy: 0.8397 - val_loss: 0.4161 - val_accuracy: 0.8238\n",
      "Epoch 13/50\n",
      "27/27 [==============================] - 0s 1ms/step - loss: 0.3452 - accuracy: 0.8455 - val_loss: 0.4217 - val_accuracy: 0.7995\n",
      "Epoch 14/50\n",
      "27/27 [==============================] - 0s 1ms/step - loss: 0.3639 - accuracy: 0.8420 - val_loss: 0.5361 - val_accuracy: 0.7534\n",
      "Epoch 15/50\n",
      "27/27 [==============================] - 0s 1ms/step - loss: 0.3733 - accuracy: 0.8374 - val_loss: 0.4457 - val_accuracy: 0.7886\n",
      "Epoch 16/50\n",
      "27/27 [==============================] - 0s 1ms/step - loss: 0.3375 - accuracy: 0.8537 - val_loss: 0.5009 - val_accuracy: 0.7561\n",
      "Epoch 17/50\n",
      "27/27 [==============================] - 0s 1ms/step - loss: 0.3433 - accuracy: 0.8490 - val_loss: 0.4230 - val_accuracy: 0.7967\n",
      "Epoch 18/50\n",
      "27/27 [==============================] - 0s 1ms/step - loss: 0.3272 - accuracy: 0.8537 - val_loss: 0.4427 - val_accuracy: 0.8130\n",
      "Epoch 19/50\n",
      "27/27 [==============================] - 0s 1ms/step - loss: 0.3137 - accuracy: 0.8595 - val_loss: 0.4546 - val_accuracy: 0.7967\n",
      "Epoch 20/50\n",
      "27/27 [==============================] - 0s 1ms/step - loss: 0.3238 - accuracy: 0.8595 - val_loss: 0.4804 - val_accuracy: 0.8049\n",
      "Epoch 21/50\n",
      "27/27 [==============================] - 0s 1ms/step - loss: 0.3237 - accuracy: 0.8641 - val_loss: 0.4638 - val_accuracy: 0.7940\n",
      "Epoch 22/50\n",
      "27/27 [==============================] - 0s 1ms/step - loss: 0.3027 - accuracy: 0.8618 - val_loss: 0.4861 - val_accuracy: 0.7940\n",
      "Epoch 23/50\n",
      "27/27 [==============================] - 0s 1ms/step - loss: 0.3055 - accuracy: 0.8780 - val_loss: 0.4989 - val_accuracy: 0.8266\n",
      "Epoch 24/50\n",
      "27/27 [==============================] - 0s 1ms/step - loss: 0.3090 - accuracy: 0.8571 - val_loss: 0.5384 - val_accuracy: 0.7317\n",
      "Epoch 25/50\n",
      "27/27 [==============================] - 0s 1ms/step - loss: 0.3047 - accuracy: 0.8630 - val_loss: 0.4852 - val_accuracy: 0.7913\n",
      "Epoch 26/50\n",
      "27/27 [==============================] - 0s 1ms/step - loss: 0.2996 - accuracy: 0.8780 - val_loss: 0.5356 - val_accuracy: 0.7669\n",
      "Epoch 27/50\n",
      "27/27 [==============================] - 0s 1ms/step - loss: 0.3039 - accuracy: 0.8699 - val_loss: 0.5786 - val_accuracy: 0.7317\n",
      "Epoch 28/50\n",
      "27/27 [==============================] - 0s 1ms/step - loss: 0.2957 - accuracy: 0.8780 - val_loss: 0.4948 - val_accuracy: 0.8049\n",
      "Epoch 29/50\n",
      "27/27 [==============================] - 0s 1ms/step - loss: 0.3206 - accuracy: 0.8757 - val_loss: 0.5606 - val_accuracy: 0.7696\n",
      "Epoch 30/50\n",
      "27/27 [==============================] - 0s 1ms/step - loss: 0.3140 - accuracy: 0.8711 - val_loss: 0.5127 - val_accuracy: 0.8157\n",
      "Epoch 31/50\n",
      "27/27 [==============================] - 0s 1ms/step - loss: 0.2898 - accuracy: 0.8769 - val_loss: 0.5211 - val_accuracy: 0.8130\n",
      "Epoch 32/50\n",
      "27/27 [==============================] - 0s 1ms/step - loss: 0.3163 - accuracy: 0.8804 - val_loss: 0.5432 - val_accuracy: 0.7832\n",
      "Epoch 33/50\n",
      "27/27 [==============================] - 0s 1ms/step - loss: 0.3203 - accuracy: 0.8653 - val_loss: 0.5220 - val_accuracy: 0.7913\n",
      "Epoch 34/50\n",
      "27/27 [==============================] - 0s 1ms/step - loss: 0.2586 - accuracy: 0.8908 - val_loss: 0.5686 - val_accuracy: 0.7696\n",
      "Epoch 35/50\n",
      "27/27 [==============================] - 0s 1ms/step - loss: 0.2587 - accuracy: 0.8978 - val_loss: 0.5433 - val_accuracy: 0.7940\n",
      "Epoch 36/50\n",
      "27/27 [==============================] - 0s 1ms/step - loss: 0.2600 - accuracy: 0.8850 - val_loss: 0.6466 - val_accuracy: 0.7290\n",
      "Epoch 37/50\n",
      "27/27 [==============================] - 0s 1ms/step - loss: 0.2709 - accuracy: 0.8722 - val_loss: 0.5353 - val_accuracy: 0.7886\n",
      "Epoch 38/50\n",
      "27/27 [==============================] - 0s 1ms/step - loss: 0.2411 - accuracy: 0.8990 - val_loss: 0.5138 - val_accuracy: 0.8022\n",
      "Epoch 39/50\n",
      "27/27 [==============================] - 0s 1ms/step - loss: 0.2234 - accuracy: 0.9001 - val_loss: 0.6108 - val_accuracy: 0.7913\n",
      "Epoch 40/50\n",
      "27/27 [==============================] - 0s 1ms/step - loss: 0.2642 - accuracy: 0.8990 - val_loss: 0.5753 - val_accuracy: 0.7859\n",
      "Epoch 41/50\n",
      "27/27 [==============================] - 0s 1ms/step - loss: 0.2738 - accuracy: 0.8920 - val_loss: 0.5959 - val_accuracy: 0.8049\n",
      "Epoch 42/50\n",
      "27/27 [==============================] - 0s 1ms/step - loss: 0.2467 - accuracy: 0.9036 - val_loss: 0.6929 - val_accuracy: 0.7236\n",
      "Epoch 43/50\n",
      "27/27 [==============================] - 0s 1ms/step - loss: 0.2765 - accuracy: 0.8827 - val_loss: 0.6331 - val_accuracy: 0.7913\n",
      "Epoch 44/50\n",
      "27/27 [==============================] - 0s 1ms/step - loss: 0.2394 - accuracy: 0.9001 - val_loss: 0.6550 - val_accuracy: 0.8103\n",
      "Epoch 45/50\n",
      "27/27 [==============================] - 0s 1ms/step - loss: 0.2552 - accuracy: 0.9059 - val_loss: 0.6659 - val_accuracy: 0.7751\n",
      "Epoch 46/50\n",
      "27/27 [==============================] - 0s 1ms/step - loss: 0.2265 - accuracy: 0.9001 - val_loss: 0.6672 - val_accuracy: 0.7453\n",
      "Epoch 47/50\n",
      "27/27 [==============================] - 0s 1ms/step - loss: 0.2111 - accuracy: 0.9199 - val_loss: 0.6664 - val_accuracy: 0.7751\n",
      "Epoch 48/50\n",
      "27/27 [==============================] - 0s 1ms/step - loss: 0.2203 - accuracy: 0.9129 - val_loss: 0.6502 - val_accuracy: 0.7886\n",
      "Epoch 49/50\n",
      "27/27 [==============================] - 0s 1ms/step - loss: 0.2751 - accuracy: 0.9036 - val_loss: 0.8056 - val_accuracy: 0.7371\n",
      "Epoch 50/50\n",
      "27/27 [==============================] - 0s 1ms/step - loss: 0.2359 - accuracy: 0.9013 - val_loss: 0.6983 - val_accuracy: 0.7696\n"
     ]
    }
   ],
   "source": [
    "np.random.seed(42)\n",
    "tf.random.set_seed(42)\n",
    "\n",
    "optimizer = tf.keras.optimizers.Nadam(learning_rate=0.01)\n",
    "\n",
    "# If multiclass, use \"sparse_categorical_crossentropy\" as the loss function\n",
    "model.compile(loss=\"binary_crossentropy\", optimizer=optimizer, metrics=['accuracy'])\n",
    "\n",
    "\n",
    "history = model.fit(X_train, y_train, epochs=50,\n",
    "                    validation_data=(X_test, y_test))"
   ]
  },
  {
   "cell_type": "code",
   "execution_count": 16,
   "metadata": {},
   "outputs": [
    {
     "data": {
      "text/plain": [
       "[0.6983422040939331, 0.7696477174758911]"
      ]
     },
     "execution_count": 16,
     "metadata": {},
     "output_type": "execute_result"
    }
   ],
   "source": [
    "# evaluate the model\n",
    "\n",
    "scores = model.evaluate(X_test, y_test, verbose=0)\n",
    "\n",
    "scores\n",
    "\n",
    "# In results, first is loss, second is accuracy"
   ]
  },
  {
   "cell_type": "code",
   "execution_count": 17,
   "metadata": {},
   "outputs": [
    {
     "name": "stdout",
     "output_type": "stream",
     "text": [
      "loss: 0.70\n",
      "accuracy: 76.96%\n"
     ]
    }
   ],
   "source": [
    "# extract the accuracy from model.evaluate\n",
    "\n",
    "print(\"%s: %.2f\" % (model.metrics_names[0], scores[0]))\n",
    "print(\"%s: %.2f%%\" % (model.metrics_names[1], scores[1]*100))\n"
   ]
  },
  {
   "cell_type": "markdown",
   "metadata": {},
   "source": [
    "# Simple RNN with one layer"
   ]
  },
  {
   "cell_type": "code",
   "execution_count": 18,
   "metadata": {},
   "outputs": [],
   "source": [
    "n_steps = 36\n",
    "n_inputs = 1\n",
    "\n",
    "model = keras.models.Sequential([\n",
    "    keras.layers.SimpleRNN(32, input_shape=[n_steps, n_inputs]),\n",
    "    keras.layers.Dense(1, activation='sigmoid')\n",
    "])"
   ]
  },
  {
   "cell_type": "code",
   "execution_count": 21,
   "metadata": {
    "scrolled": true
   },
   "outputs": [
    {
     "name": "stdout",
     "output_type": "stream",
     "text": [
      "Epoch 1/50\n",
      "27/27 [==============================] - 1s 7ms/step - loss: 0.4378 - accuracy: 0.7816 - val_loss: 0.4035 - val_accuracy: 0.8184\n",
      "Epoch 2/50\n",
      "27/27 [==============================] - 0s 3ms/step - loss: 0.4122 - accuracy: 0.7991 - val_loss: 0.3996 - val_accuracy: 0.8266\n",
      "Epoch 3/50\n",
      "27/27 [==============================] - 0s 3ms/step - loss: 0.4110 - accuracy: 0.8072 - val_loss: 0.3951 - val_accuracy: 0.8293\n",
      "Epoch 4/50\n",
      "27/27 [==============================] - 0s 4ms/step - loss: 0.4013 - accuracy: 0.7956 - val_loss: 0.4055 - val_accuracy: 0.8157\n",
      "Epoch 5/50\n",
      "27/27 [==============================] - 0s 3ms/step - loss: 0.3962 - accuracy: 0.8165 - val_loss: 0.4057 - val_accuracy: 0.8022\n",
      "Epoch 6/50\n",
      "27/27 [==============================] - 0s 3ms/step - loss: 0.3920 - accuracy: 0.8060 - val_loss: 0.3989 - val_accuracy: 0.8130\n",
      "Epoch 7/50\n",
      "27/27 [==============================] - 0s 3ms/step - loss: 0.3847 - accuracy: 0.8188 - val_loss: 0.4306 - val_accuracy: 0.8022\n",
      "Epoch 8/50\n",
      "27/27 [==============================] - 0s 4ms/step - loss: 0.4001 - accuracy: 0.8142 - val_loss: 0.4488 - val_accuracy: 0.7696\n",
      "Epoch 8: early stopping\n"
     ]
    }
   ],
   "source": [
    "from tensorflow.keras.callbacks import EarlyStopping\n",
    "\n",
    "optimizer = tf.keras.optimizers.Nadam(learning_rate=0.01)\n",
    "\n",
    "# If multiclass, use \"sparse_categorical_crossentropy\" as the loss function\n",
    "model.compile(loss=\"binary_crossentropy\", optimizer=optimizer, metrics=['accuracy'])\n",
    "\n",
    "early_stop = EarlyStopping(monitor='val_loss', patience=5, verbose=1, mode='auto')\n",
    "\n",
    "history = model.fit(\n",
    "    X_train, \n",
    "    y_train, \n",
    "    epochs=50,\n",
    "    validation_data=(X_test, y_test), \n",
    "    callbacks=[early_stop]\n",
    ")"
   ]
  },
  {
   "cell_type": "code",
   "execution_count": 22,
   "metadata": {},
   "outputs": [
    {
     "data": {
      "text/plain": [
       "[0.44880977272987366, 0.7696477174758911]"
      ]
     },
     "execution_count": 22,
     "metadata": {},
     "output_type": "execute_result"
    }
   ],
   "source": [
    "# evaluate the model\n",
    "scores = model.evaluate(X_test, y_test, verbose=0)\n",
    "\n",
    "scores\n",
    "\n",
    "# In results, first is loss, second is accuracy"
   ]
  },
  {
   "cell_type": "code",
   "execution_count": 24,
   "metadata": {},
   "outputs": [
    {
     "name": "stdout",
     "output_type": "stream",
     "text": [
      "loss: 0.45\n",
      "accuracy: 76.96\n"
     ]
    }
   ],
   "source": [
    "# extract the accuracy from model.evaluate\n",
    "print(f\"{model.metrics_names[0]:s}: {scores[0]:.2f}\")\n",
    "print(f\"{model.metrics_names[1]:s}: {scores[1]*100:.2f}\")"
   ]
  },
  {
   "cell_type": "code",
   "execution_count": 25,
   "metadata": {},
   "outputs": [
    {
     "name": "stdout",
     "output_type": "stream",
     "text": [
      "12/12 [==============================] - 0s 955us/step\n"
     ]
    }
   ],
   "source": [
    "# Predictions are probabilities.\n",
    "\n",
    "predictions = model.predict(X_test)"
   ]
  },
  {
   "cell_type": "code",
   "execution_count": 27,
   "metadata": {},
   "outputs": [
    {
     "data": {
      "text/plain": [
       "array([[1.],\n",
       "       [0.],\n",
       "       [1.],\n",
       "       [0.],\n",
       "       [0.],\n",
       "       [1.],\n",
       "       [0.],\n",
       "       [0.],\n",
       "       [0.],\n",
       "       [1.]], dtype=float32)"
      ]
     },
     "execution_count": 27,
     "metadata": {},
     "output_type": "execute_result"
    }
   ],
   "source": [
    "# Rounding the probabilities determines 1 or 0\n",
    "\n",
    "np.round(predictions)[:10] # show first 10 predictions"
   ]
  },
  {
   "cell_type": "code",
   "execution_count": 28,
   "metadata": {},
   "outputs": [
    {
     "data": {
      "text/plain": [
       "array([[124,  44],\n",
       "       [ 41, 160]])"
      ]
     },
     "execution_count": 28,
     "metadata": {},
     "output_type": "execute_result"
    }
   ],
   "source": [
    "from sklearn.metrics import confusion_matrix\n",
    "\n",
    "confusion_matrix(y_test, np.round(predictions))"
   ]
  },
  {
   "cell_type": "markdown",
   "metadata": {},
   "source": [
    "# Deep RNN\n",
    "\n",
    "**Be careful: when stacking RNN layers, you have to set \"return_sequences\" to True. This enables the layer to send a \"sequence\" of values to the next layer -- jut like how it uses a sequence of values for training.**\n",
    "\n",
    "**Since the last layer is DENSE, it can't take sequence data. Therefore, you CANNOT return sequences from the previous layer. So, remove** `return_sequences` **from previous layer.**"
   ]
  },
  {
   "cell_type": "code",
   "execution_count": 29,
   "metadata": {},
   "outputs": [],
   "source": [
    "n_steps = 36\n",
    "n_inputs = 1\n",
    "\n",
    "model = keras.models.Sequential([\n",
    "    keras.layers.SimpleRNN(32, return_sequences=True, input_shape=[n_steps, n_inputs] ),\n",
    "    keras.layers.SimpleRNN(32, return_sequences=True),\n",
    "    keras.layers.SimpleRNN(32), \n",
    "    keras.layers.Dense(1, activation='sigmoid')\n",
    "])"
   ]
  },
  {
   "cell_type": "code",
   "execution_count": 30,
   "metadata": {
    "scrolled": true
   },
   "outputs": [
    {
     "name": "stdout",
     "output_type": "stream",
     "text": [
      "Epoch 1/20\n",
      "27/27 [==============================] - 2s 16ms/step - loss: 0.4821 - accuracy: 0.7538 - val_loss: 0.4037 - val_accuracy: 0.8184\n",
      "Epoch 2/20\n",
      "27/27 [==============================] - 0s 8ms/step - loss: 0.4247 - accuracy: 0.8026 - val_loss: 0.3863 - val_accuracy: 0.8266\n",
      "Epoch 3/20\n",
      "27/27 [==============================] - 0s 8ms/step - loss: 0.4216 - accuracy: 0.7909 - val_loss: 0.3977 - val_accuracy: 0.8293\n",
      "Epoch 4/20\n",
      "27/27 [==============================] - 0s 9ms/step - loss: 0.4200 - accuracy: 0.7863 - val_loss: 0.3891 - val_accuracy: 0.8211\n",
      "Epoch 5/20\n",
      "27/27 [==============================] - 0s 9ms/step - loss: 0.4038 - accuracy: 0.8026 - val_loss: 0.4145 - val_accuracy: 0.7940\n",
      "Epoch 6/20\n",
      "27/27 [==============================] - 0s 9ms/step - loss: 0.3820 - accuracy: 0.8211 - val_loss: 0.3909 - val_accuracy: 0.8211\n",
      "Epoch 7/20\n",
      "27/27 [==============================] - 0s 9ms/step - loss: 0.3813 - accuracy: 0.8235 - val_loss: 0.3941 - val_accuracy: 0.8293\n",
      "Epoch 7: early stopping\n"
     ]
    }
   ],
   "source": [
    "np.random.seed(42)\n",
    "tf.random.set_seed(42)\n",
    "\n",
    "optimizer = keras.optimizers.Nadam(learning_rate=0.01)\n",
    "\n",
    "model.compile(loss=\"binary_crossentropy\", optimizer=optimizer, metrics=['accuracy'])\n",
    "\n",
    "history = model.fit(\n",
    "    X_train, \n",
    "    y_train, \n",
    "    epochs=20,\n",
    "    validation_data = (X_test, y_test), \n",
    "    callbacks=[early_stop])  # we defined this early_stop callback function earlier"
   ]
  },
  {
   "cell_type": "code",
   "execution_count": 31,
   "metadata": {},
   "outputs": [
    {
     "data": {
      "text/plain": [
       "[0.3940976858139038, 0.8292682766914368]"
      ]
     },
     "execution_count": 31,
     "metadata": {},
     "output_type": "execute_result"
    }
   ],
   "source": [
    "# evaluate the model\n",
    "\n",
    "scores = model.evaluate(X_test, y_test, verbose=0)\n",
    "\n",
    "scores\n",
    "# In results, first is loss, second is accuracy"
   ]
  },
  {
   "cell_type": "code",
   "execution_count": 32,
   "metadata": {
    "scrolled": true
   },
   "outputs": [
    {
     "name": "stdout",
     "output_type": "stream",
     "text": [
      "loss: 0.39\n",
      "accuracy: 82.93\n"
     ]
    }
   ],
   "source": [
    "# extract the accuracy from model.evaluate\n",
    "print(f\"{model.metrics_names[0]:s}: {scores[0]:.2f}\")\n",
    "print(f\"{model.metrics_names[1]:s}: {scores[1]*100:.2f}\")"
   ]
  },
  {
   "cell_type": "markdown",
   "metadata": {},
   "source": [
    "# LSTM with one layer"
   ]
  },
  {
   "cell_type": "code",
   "execution_count": 33,
   "metadata": {},
   "outputs": [],
   "source": [
    "n_steps = 36\n",
    "n_inputs = 1\n",
    "\n",
    "model = keras.models.Sequential([\n",
    "    keras.layers.LSTM(32, input_shape=[n_steps, n_inputs]),\n",
    "    keras.layers.Dense(1, activation='sigmoid')\n",
    "])"
   ]
  },
  {
   "cell_type": "code",
   "execution_count": 34,
   "metadata": {
    "scrolled": true
   },
   "outputs": [
    {
     "name": "stdout",
     "output_type": "stream",
     "text": [
      "Epoch 1/20\n",
      "27/27 [==============================] - 1s 13ms/step - loss: 0.4449 - accuracy: 0.7816 - val_loss: 0.3857 - val_accuracy: 0.8320\n",
      "Epoch 2/20\n",
      "27/27 [==============================] - 0s 6ms/step - loss: 0.4190 - accuracy: 0.7909 - val_loss: 0.3826 - val_accuracy: 0.8401\n",
      "Epoch 3/20\n",
      "27/27 [==============================] - 0s 6ms/step - loss: 0.4172 - accuracy: 0.8002 - val_loss: 0.3812 - val_accuracy: 0.8401\n",
      "Epoch 4/20\n",
      "27/27 [==============================] - 0s 6ms/step - loss: 0.4081 - accuracy: 0.7933 - val_loss: 0.3871 - val_accuracy: 0.8238\n",
      "Epoch 5/20\n",
      "27/27 [==============================] - 0s 6ms/step - loss: 0.4094 - accuracy: 0.8014 - val_loss: 0.3932 - val_accuracy: 0.8130\n",
      "Epoch 6/20\n",
      "27/27 [==============================] - 0s 6ms/step - loss: 0.4080 - accuracy: 0.7967 - val_loss: 0.3843 - val_accuracy: 0.8347\n",
      "Epoch 7/20\n",
      "27/27 [==============================] - 0s 6ms/step - loss: 0.4071 - accuracy: 0.8002 - val_loss: 0.3832 - val_accuracy: 0.8320\n",
      "Epoch 8/20\n",
      "27/27 [==============================] - 0s 7ms/step - loss: 0.4026 - accuracy: 0.7956 - val_loss: 0.3908 - val_accuracy: 0.8103\n",
      "Epoch 8: early stopping\n"
     ]
    }
   ],
   "source": [
    "np.random.seed(42)\n",
    "tf.random.set_seed(42)\n",
    "\n",
    "optimizer = keras.optimizers.Nadam(learning_rate=0.01)\n",
    "\n",
    "model.compile(loss=\"binary_crossentropy\", optimizer=optimizer, metrics=['accuracy'])\n",
    "\n",
    "history = model.fit(\n",
    "    X_train, \n",
    "    y_train, \n",
    "    epochs=20,\n",
    "    validation_data=(X_test, y_test),\n",
    "    callbacks=[early_stop]) # we defined this early_stop callback function earlier"
   ]
  },
  {
   "cell_type": "code",
   "execution_count": 35,
   "metadata": {},
   "outputs": [
    {
     "data": {
      "text/plain": [
       "[0.3908209800720215, 0.8102980852127075]"
      ]
     },
     "execution_count": 35,
     "metadata": {},
     "output_type": "execute_result"
    }
   ],
   "source": [
    "# evaluate the model\n",
    "\n",
    "scores = model.evaluate(X_test, y_test, verbose=0)\n",
    "scores\n",
    "\n",
    "# In results, first is loss, second is accuracy"
   ]
  },
  {
   "cell_type": "code",
   "execution_count": 36,
   "metadata": {
    "scrolled": true
   },
   "outputs": [
    {
     "name": "stdout",
     "output_type": "stream",
     "text": [
      "loss: 0.39\n",
      "accuracy: 81.03\n"
     ]
    }
   ],
   "source": [
    "# extract the accuracy from model.evaluate\n",
    "print(f\"{model.metrics_names[0]:s}: {scores[0]:.2f}\")\n",
    "print(f\"{model.metrics_names[1]:s}: {scores[1]*100:.2f}\")"
   ]
  },
  {
   "cell_type": "markdown",
   "metadata": {},
   "source": [
    "# LSTM with more layers"
   ]
  },
  {
   "cell_type": "code",
   "execution_count": 37,
   "metadata": {},
   "outputs": [],
   "source": [
    "n_steps = 36\n",
    "n_inputs = 1\n",
    "\n",
    "model = keras.models.Sequential([\n",
    "    keras.layers.LSTM(32, return_sequences=True, input_shape=[n_steps, n_inputs]),\n",
    "    keras.layers.LSTM(32, return_sequences=True),\n",
    "    keras.layers.LSTM(32),\n",
    "    keras.layers.Dense(1, activation='sigmoid')\n",
    "])"
   ]
  },
  {
   "cell_type": "code",
   "execution_count": 38,
   "metadata": {
    "scrolled": true
   },
   "outputs": [
    {
     "name": "stdout",
     "output_type": "stream",
     "text": [
      "Epoch 1/20\n",
      "27/27 [==============================] - 3s 35ms/step - loss: 0.5068 - accuracy: 0.7607 - val_loss: 0.3924 - val_accuracy: 0.8347\n",
      "Epoch 2/20\n",
      "27/27 [==============================] - 0s 18ms/step - loss: 0.4362 - accuracy: 0.7840 - val_loss: 0.3807 - val_accuracy: 0.8266\n",
      "Epoch 3/20\n",
      "27/27 [==============================] - 0s 18ms/step - loss: 0.4321 - accuracy: 0.7944 - val_loss: 0.3883 - val_accuracy: 0.8266\n",
      "Epoch 4/20\n",
      "27/27 [==============================] - 0s 18ms/step - loss: 0.4166 - accuracy: 0.7944 - val_loss: 0.3892 - val_accuracy: 0.8130\n",
      "Epoch 5/20\n",
      "27/27 [==============================] - 0s 18ms/step - loss: 0.4144 - accuracy: 0.8060 - val_loss: 0.3969 - val_accuracy: 0.8238\n",
      "Epoch 6/20\n",
      "27/27 [==============================] - 0s 18ms/step - loss: 0.4162 - accuracy: 0.7933 - val_loss: 0.3847 - val_accuracy: 0.8293\n",
      "Epoch 7/20\n",
      "27/27 [==============================] - 0s 18ms/step - loss: 0.4104 - accuracy: 0.7967 - val_loss: 0.4013 - val_accuracy: 0.8076\n",
      "Epoch 7: early stopping\n"
     ]
    }
   ],
   "source": [
    "np.random.seed(42)\n",
    "tf.random.set_seed(42)\n",
    "\n",
    "optimizer = keras.optimizers.Nadam(learning_rate=0.01)\n",
    "\n",
    "model.compile(loss=\"binary_crossentropy\", optimizer=optimizer, metrics=['accuracy'])\n",
    "\n",
    "history = model.fit(\n",
    "    X_train, \n",
    "    y_train, \n",
    "    epochs=20,\n",
    "    validation_data=(X_test, y_test), \n",
    "    callbacks=[early_stop] # we defined this early_stop callback function earlier\n",
    ")"
   ]
  },
  {
   "cell_type": "code",
   "execution_count": 39,
   "metadata": {},
   "outputs": [
    {
     "data": {
      "text/plain": [
       "[0.4012657403945923, 0.8075881004333496]"
      ]
     },
     "execution_count": 39,
     "metadata": {},
     "output_type": "execute_result"
    }
   ],
   "source": [
    "# evaluate the model\n",
    "\n",
    "scores = model.evaluate(X_test, y_test, verbose=0)\n",
    "scores\n",
    "\n",
    "# In results, first is loss, second is accuracy"
   ]
  },
  {
   "cell_type": "code",
   "execution_count": 40,
   "metadata": {
    "scrolled": true
   },
   "outputs": [
    {
     "name": "stdout",
     "output_type": "stream",
     "text": [
      "loss: 0.40\n",
      "accuracy: 80.76%\n"
     ]
    }
   ],
   "source": [
    "# extract the accuracy from model.evaluate\n",
    "\n",
    "print(\"%s: %.2f\" % (model.metrics_names[0], scores[0]))\n",
    "print(\"%s: %.2f%%\" % (model.metrics_names[1], scores[1]*100))\n"
   ]
  },
  {
   "cell_type": "markdown",
   "metadata": {},
   "source": [
    "# GRU with one layer"
   ]
  },
  {
   "cell_type": "code",
   "execution_count": 41,
   "metadata": {},
   "outputs": [],
   "source": [
    "n_steps = 36\n",
    "n_inputs = 1\n",
    "\n",
    "model = keras.models.Sequential([\n",
    "    keras.layers.GRU(32, input_shape=[n_steps, n_inputs]),\n",
    "    keras.layers.Dense(1, activation='sigmoid')\n",
    "])"
   ]
  },
  {
   "cell_type": "code",
   "execution_count": 42,
   "metadata": {
    "scrolled": true
   },
   "outputs": [
    {
     "name": "stdout",
     "output_type": "stream",
     "text": [
      "Epoch 1/20\n",
      "27/27 [==============================] - 1s 14ms/step - loss: 0.4701 - accuracy: 0.7747 - val_loss: 0.3872 - val_accuracy: 0.8293\n",
      "Epoch 2/20\n",
      "27/27 [==============================] - 0s 7ms/step - loss: 0.4159 - accuracy: 0.7863 - val_loss: 0.3884 - val_accuracy: 0.8347\n",
      "Epoch 3/20\n",
      "27/27 [==============================] - 0s 7ms/step - loss: 0.4151 - accuracy: 0.7944 - val_loss: 0.3870 - val_accuracy: 0.8347\n",
      "Epoch 4/20\n",
      "27/27 [==============================] - 0s 7ms/step - loss: 0.4062 - accuracy: 0.7909 - val_loss: 0.3995 - val_accuracy: 0.8076\n",
      "Epoch 5/20\n",
      "27/27 [==============================] - 0s 7ms/step - loss: 0.4079 - accuracy: 0.8072 - val_loss: 0.3952 - val_accuracy: 0.8266\n",
      "Epoch 6/20\n",
      "27/27 [==============================] - 0s 7ms/step - loss: 0.4041 - accuracy: 0.7933 - val_loss: 0.3931 - val_accuracy: 0.8347\n",
      "Epoch 7/20\n",
      "27/27 [==============================] - 0s 7ms/step - loss: 0.4000 - accuracy: 0.7991 - val_loss: 0.3929 - val_accuracy: 0.8293\n",
      "Epoch 8/20\n",
      "27/27 [==============================] - 0s 7ms/step - loss: 0.4005 - accuracy: 0.7979 - val_loss: 0.4035 - val_accuracy: 0.7995\n",
      "Epoch 8: early stopping\n"
     ]
    }
   ],
   "source": [
    "np.random.seed(42)\n",
    "tf.random.set_seed(42)\n",
    "\n",
    "optimizer = keras.optimizers.Nadam(learning_rate=0.01)\n",
    "\n",
    "model.compile(loss=\"binary_crossentropy\", optimizer=optimizer, metrics=['accuracy'])\n",
    "\n",
    "history = model.fit(\n",
    "    X_train, \n",
    "    y_train, \n",
    "    epochs=20,\n",
    "    validation_data=(X_test, y_test),\n",
    "    callbacks=[early_stop] # we defined this early_stop callback function earlier\n",
    ")"
   ]
  },
  {
   "cell_type": "code",
   "execution_count": 43,
   "metadata": {},
   "outputs": [
    {
     "data": {
      "text/plain": [
       "[0.403528094291687, 0.7994579672813416]"
      ]
     },
     "execution_count": 43,
     "metadata": {},
     "output_type": "execute_result"
    }
   ],
   "source": [
    "# evaluate the model\n",
    "\n",
    "scores = model.evaluate(X_test, y_test, verbose=0)\n",
    "scores\n",
    "\n",
    "# In results, first is loss, second is accuracy"
   ]
  },
  {
   "cell_type": "code",
   "execution_count": 44,
   "metadata": {
    "scrolled": false
   },
   "outputs": [
    {
     "name": "stdout",
     "output_type": "stream",
     "text": [
      "loss: 0.40\n",
      "accuracy: 79.95\n"
     ]
    }
   ],
   "source": [
    "# extract the accuracy from model.evaluate\n",
    "print(f\"{model.metrics_names[0]:s}: {scores[0]:.2f}\")\n",
    "print(f\"{model.metrics_names[1]:s}: {scores[1]*100:.2f}\")"
   ]
  },
  {
   "cell_type": "markdown",
   "metadata": {},
   "source": [
    "# GRU with more layers"
   ]
  },
  {
   "cell_type": "code",
   "execution_count": 45,
   "metadata": {},
   "outputs": [],
   "source": [
    "n_steps = 36\n",
    "n_inputs = 1\n",
    "\n",
    "model = keras.models.Sequential([\n",
    "    keras.layers.GRU(32, return_sequences=True, input_shape=[n_steps, n_inputs]),\n",
    "    keras.layers.GRU(32, return_sequences=True),\n",
    "    keras.layers.GRU(32),\n",
    "    keras.layers.Dense(1, activation='sigmoid')\n",
    "])"
   ]
  },
  {
   "cell_type": "code",
   "execution_count": 46,
   "metadata": {
    "scrolled": true
   },
   "outputs": [
    {
     "name": "stdout",
     "output_type": "stream",
     "text": [
      "Epoch 1/20\n",
      "27/27 [==============================] - 3s 35ms/step - loss: 0.4708 - accuracy: 0.7526 - val_loss: 0.3807 - val_accuracy: 0.8266\n",
      "Epoch 2/20\n",
      "27/27 [==============================] - 1s 19ms/step - loss: 0.4231 - accuracy: 0.7944 - val_loss: 0.3844 - val_accuracy: 0.8428\n",
      "Epoch 3/20\n",
      "27/27 [==============================] - 1s 19ms/step - loss: 0.4282 - accuracy: 0.7875 - val_loss: 0.4050 - val_accuracy: 0.8130\n",
      "Epoch 4/20\n",
      "27/27 [==============================] - 1s 19ms/step - loss: 0.4131 - accuracy: 0.7956 - val_loss: 0.4117 - val_accuracy: 0.7940\n",
      "Epoch 5/20\n",
      "27/27 [==============================] - 1s 19ms/step - loss: 0.4176 - accuracy: 0.7967 - val_loss: 0.4022 - val_accuracy: 0.8293\n",
      "Epoch 6/20\n",
      "27/27 [==============================] - 1s 19ms/step - loss: 0.4114 - accuracy: 0.8072 - val_loss: 0.3978 - val_accuracy: 0.8211\n",
      "Epoch 6: early stopping\n"
     ]
    }
   ],
   "source": [
    "np.random.seed(42)\n",
    "tf.random.set_seed(42)\n",
    "\n",
    "optimizer = keras.optimizers.Nadam(learning_rate=0.01)\n",
    "\n",
    "model.compile(loss=\"binary_crossentropy\", optimizer=optimizer, metrics=['accuracy'])\n",
    "\n",
    "history = model.fit(\n",
    "    X_train, \n",
    "    y_train, \n",
    "    epochs=20,\n",
    "    validation_data=(X_test, y_test), \n",
    "    callbacks=[early_stop] # we defined this early_stop callback function earlier\n",
    ")"
   ]
  },
  {
   "cell_type": "code",
   "execution_count": 47,
   "metadata": {},
   "outputs": [
    {
     "data": {
      "text/plain": [
       "[0.3977782726287842, 0.8211382031440735]"
      ]
     },
     "execution_count": 47,
     "metadata": {},
     "output_type": "execute_result"
    }
   ],
   "source": [
    "# evaluate the model\n",
    "\n",
    "scores = model.evaluate(X_test, y_test, verbose=0)\n",
    "scores\n",
    "\n",
    "# In results, first is loss, second is accuracy"
   ]
  },
  {
   "cell_type": "code",
   "execution_count": 48,
   "metadata": {
    "scrolled": false
   },
   "outputs": [
    {
     "name": "stdout",
     "output_type": "stream",
     "text": [
      "loss: 0.40\n",
      "accuracy: 82.11%\n"
     ]
    }
   ],
   "source": [
    "# extract the accuracy from model.evaluate\n",
    "\n",
    "print(\"%s: %.2f\" % (model.metrics_names[0], scores[0]))\n",
    "print(\"%s: %.2f%%\" % (model.metrics_names[1], scores[1]*100))\n"
   ]
  },
  {
   "cell_type": "markdown",
   "metadata": {},
   "source": [
    "# Conv1D"
   ]
  },
  {
   "cell_type": "code",
   "execution_count": 49,
   "metadata": {},
   "outputs": [
    {
     "name": "stdout",
     "output_type": "stream",
     "text": [
      "Model: \"sequential_7\"\n",
      "_________________________________________________________________\n",
      " Layer (type)                Output Shape              Param #   \n",
      "=================================================================\n",
      " conv1d (Conv1D)             (None, 17, 10)            40        \n",
      "                                                                 \n",
      " conv1d_1 (Conv1D)           (None, 13, 20)            620       \n",
      "                                                                 \n",
      " lstm_4 (LSTM)               (None, 13, 32)            6784      \n",
      "                                                                 \n",
      " lstm_5 (LSTM)               (None, 32)                8320      \n",
      "                                                                 \n",
      " dense_8 (Dense)             (None, 1)                 33        \n",
      "                                                                 \n",
      "=================================================================\n",
      "Total params: 15,797\n",
      "Trainable params: 15,797\n",
      "Non-trainable params: 0\n",
      "_________________________________________________________________\n"
     ]
    }
   ],
   "source": [
    "n_steps = 36\n",
    "n_inputs = 1\n",
    "\n",
    "model = keras.models.Sequential([\n",
    "    keras.layers.Conv1D(filters=10, kernel_size=3, strides=2, padding=\"valid\", input_shape=[n_steps, n_inputs]),\n",
    "    keras.layers.Conv1D(filters=20, kernel_size=3, strides=1, padding=\"valid\", dilation_rate=2),\n",
    "    keras.layers.LSTM(32, return_sequences=True),\n",
    "    keras.layers.LSTM(32),\n",
    "    keras.layers.Dense(1, activation='sigmoid')\n",
    "])\n",
    "\n",
    "model.summary()"
   ]
  },
  {
   "cell_type": "code",
   "execution_count": 50,
   "metadata": {
    "scrolled": true
   },
   "outputs": [
    {
     "name": "stdout",
     "output_type": "stream",
     "text": [
      "Epoch 1/20\n",
      "27/27 [==============================] - 2s 19ms/step - loss: 0.5416 - accuracy: 0.7224 - val_loss: 0.4066 - val_accuracy: 0.8509\n",
      "Epoch 2/20\n",
      "27/27 [==============================] - 0s 6ms/step - loss: 0.4634 - accuracy: 0.7666 - val_loss: 0.3837 - val_accuracy: 0.8022\n",
      "Epoch 3/20\n",
      "27/27 [==============================] - 0s 7ms/step - loss: 0.4688 - accuracy: 0.7584 - val_loss: 0.3787 - val_accuracy: 0.8238\n",
      "Epoch 4/20\n",
      "27/27 [==============================] - 0s 6ms/step - loss: 0.4471 - accuracy: 0.7805 - val_loss: 0.4102 - val_accuracy: 0.8157\n",
      "Epoch 5/20\n",
      "27/27 [==============================] - 0s 7ms/step - loss: 0.4359 - accuracy: 0.7758 - val_loss: 0.3834 - val_accuracy: 0.8049\n",
      "Epoch 6/20\n",
      "27/27 [==============================] - 0s 7ms/step - loss: 0.4237 - accuracy: 0.7967 - val_loss: 0.3806 - val_accuracy: 0.8293\n",
      "Epoch 7/20\n",
      "27/27 [==============================] - 0s 7ms/step - loss: 0.4135 - accuracy: 0.8095 - val_loss: 0.3846 - val_accuracy: 0.8266\n",
      "Epoch 8/20\n",
      "27/27 [==============================] - 0s 7ms/step - loss: 0.3986 - accuracy: 0.8211 - val_loss: 0.3820 - val_accuracy: 0.8184\n",
      "Epoch 8: early stopping\n"
     ]
    }
   ],
   "source": [
    "np.random.seed(42)\n",
    "tf.random.set_seed(42)\n",
    "\n",
    "optimizer = keras.optimizers.Nadam(learning_rate=0.01)\n",
    "\n",
    "model.compile(loss=\"binary_crossentropy\", optimizer=optimizer, metrics=['accuracy'])\n",
    "\n",
    "history = model.fit(\n",
    "    X_train, \n",
    "    y_train, \n",
    "    epochs=20,\n",
    "    validation_data=(X_test, y_test), \n",
    "    callbacks=[early_stop] # we defined this early_stop callback function earlier\n",
    ")"
   ]
  },
  {
   "cell_type": "code",
   "execution_count": 51,
   "metadata": {},
   "outputs": [
    {
     "data": {
      "text/plain": [
       "[0.38204607367515564, 0.8184281587600708]"
      ]
     },
     "execution_count": 51,
     "metadata": {},
     "output_type": "execute_result"
    }
   ],
   "source": [
    "# evaluate the model\n",
    "\n",
    "scores = model.evaluate(X_test, y_test, verbose=0)\n",
    "scores\n",
    "\n",
    "# In results, first is loss, second is accuracy"
   ]
  },
  {
   "cell_type": "code",
   "execution_count": 52,
   "metadata": {
    "scrolled": false
   },
   "outputs": [
    {
     "name": "stdout",
     "output_type": "stream",
     "text": [
      "loss: 0.38\n",
      "accuracy: 81.84\n"
     ]
    }
   ],
   "source": [
    "# extract the accuracy from model.evaluate\n",
    "print(f\"{model.metrics_names[0]:s}: {scores[0]:.2f}\")\n",
    "print(f\"{model.metrics_names[1]:s}: {scores[1]*100:.2f}\")"
   ]
  }
 ],
 "metadata": {
  "kernelspec": {
   "display_name": "Python 3 (ipykernel)",
   "language": "python",
   "name": "python3"
  },
  "language_info": {
   "codemirror_mode": {
    "name": "ipython",
    "version": 3
   },
   "file_extension": ".py",
   "mimetype": "text/x-python",
   "name": "python",
   "nbconvert_exporter": "python",
   "pygments_lexer": "ipython3",
   "version": "3.9.13"
  },
  "nav_menu": {},
  "toc": {
   "base_numbering": 1,
   "nav_menu": {},
   "number_sections": false,
   "sideBar": true,
   "skip_h1_title": false,
   "title_cell": "Table of Contents",
   "title_sidebar": "Contents",
   "toc_cell": false,
   "toc_position": {
    "height": "calc(100% - 180px)",
    "left": "10px",
    "top": "150px",
    "width": "288px"
   },
   "toc_section_display": "block",
   "toc_window_display": true
  },
  "varInspector": {
   "cols": {
    "lenName": 16,
    "lenType": 16,
    "lenVar": 40
   },
   "kernels_config": {
    "python": {
     "delete_cmd_postfix": "",
     "delete_cmd_prefix": "del ",
     "library": "var_list.py",
     "varRefreshCmd": "print(var_dic_list())"
    },
    "r": {
     "delete_cmd_postfix": ") ",
     "delete_cmd_prefix": "rm(",
     "library": "var_list.r",
     "varRefreshCmd": "cat(var_dic_list()) "
    }
   },
   "types_to_exclude": [
    "module",
    "function",
    "builtin_function_or_method",
    "instance",
    "_Feature"
   ],
   "window_display": false
  }
 },
 "nbformat": 4,
 "nbformat_minor": 1
}
