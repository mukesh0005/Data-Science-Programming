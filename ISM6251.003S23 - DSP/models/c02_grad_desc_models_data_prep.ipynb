{
 "cells": [
  {
   "cell_type": "markdown",
   "metadata": {},
   "source": [
    "# Gradiant Descent Modeels - Data Preparation\n",
    "\n",
    "In this notebook we focus on the data loading, basic exploring, and prepatation.\n",
    "\n",
    "This notebook follows closely the previous data cleaning toturial from last week. We will be using the same dataset and producing the same output (not the output from the modified version you would have completed in your exercise)."
   ]
  },
  {
   "cell_type": "markdown",
   "metadata": {},
   "source": [
    "## 1.0 Setup\n"
   ]
  },
  {
   "cell_type": "code",
   "execution_count": 1,
   "metadata": {},
   "outputs": [],
   "source": [
    "# import numpy and pandas libraries\n",
    "import numpy as np\n",
    "import pandas as pd\n",
    "from sklearn.preprocessing import LabelEncoder\n",
    "from sklearn.model_selection import train_test_split\n",
    "from sklearn import preprocessing\n",
    "from sklearn.impute import SimpleImputer\n",
    "# set random seed to ensure that results are repeatable\n",
    "np.random.seed(1)"
   ]
  },
  {
   "cell_type": "code",
   "execution_count": null,
   "metadata": {},
   "outputs": [],
   "source": []
  },
  {
   "cell_type": "markdown",
   "metadata": {},
   "source": [
    "## 2.0 Load data "
   ]
  },
  {
   "cell_type": "code",
   "execution_count": 2,
   "metadata": {},
   "outputs": [
    {
     "data": {
      "text/html": [
       "<div>\n",
       "<style scoped>\n",
       "    .dataframe tbody tr th:only-of-type {\n",
       "        vertical-align: middle;\n",
       "    }\n",
       "\n",
       "    .dataframe tbody tr th {\n",
       "        vertical-align: top;\n",
       "    }\n",
       "\n",
       "    .dataframe thead th {\n",
       "        text-align: right;\n",
       "    }\n",
       "</style>\n",
       "<table border=\"1\" class=\"dataframe\">\n",
       "  <thead>\n",
       "    <tr style=\"text-align: right;\">\n",
       "      <th></th>\n",
       "      <th>host_is_superhost</th>\n",
       "      <th>host_identity_verified</th>\n",
       "      <th>neighbourhood_cleansed</th>\n",
       "      <th>latitude</th>\n",
       "      <th>longitude</th>\n",
       "      <th>property_type</th>\n",
       "      <th>room_type</th>\n",
       "      <th>accommodates</th>\n",
       "      <th>bathrooms</th>\n",
       "      <th>bedrooms</th>\n",
       "      <th>...</th>\n",
       "      <th>guests_included</th>\n",
       "      <th>price_per_extra_person</th>\n",
       "      <th>minimum_nights</th>\n",
       "      <th>number_of_reviews</th>\n",
       "      <th>number_days_btw_first_last_review</th>\n",
       "      <th>review_scores_rating</th>\n",
       "      <th>cancellation_policy</th>\n",
       "      <th>price</th>\n",
       "      <th>price_gte_150</th>\n",
       "      <th>price_category</th>\n",
       "    </tr>\n",
       "  </thead>\n",
       "  <tbody>\n",
       "    <tr>\n",
       "      <th>0</th>\n",
       "      <td>0</td>\n",
       "      <td>0</td>\n",
       "      <td>Roslindale</td>\n",
       "      <td>42.282619</td>\n",
       "      <td>-71.133068</td>\n",
       "      <td>House</td>\n",
       "      <td>Entire home/apt</td>\n",
       "      <td>4</td>\n",
       "      <td>1.5</td>\n",
       "      <td>2.0</td>\n",
       "      <td>...</td>\n",
       "      <td>1</td>\n",
       "      <td>0</td>\n",
       "      <td>2</td>\n",
       "      <td>0</td>\n",
       "      <td>0</td>\n",
       "      <td>NaN</td>\n",
       "      <td>moderate</td>\n",
       "      <td>250</td>\n",
       "      <td>1</td>\n",
       "      <td>gte_226</td>\n",
       "    </tr>\n",
       "    <tr>\n",
       "      <th>1</th>\n",
       "      <td>0</td>\n",
       "      <td>1</td>\n",
       "      <td>Roslindale</td>\n",
       "      <td>42.286241</td>\n",
       "      <td>-71.134374</td>\n",
       "      <td>Apartment</td>\n",
       "      <td>Private room</td>\n",
       "      <td>2</td>\n",
       "      <td>1.0</td>\n",
       "      <td>1.0</td>\n",
       "      <td>...</td>\n",
       "      <td>0</td>\n",
       "      <td>0</td>\n",
       "      <td>2</td>\n",
       "      <td>36</td>\n",
       "      <td>804</td>\n",
       "      <td>94.0</td>\n",
       "      <td>moderate</td>\n",
       "      <td>65</td>\n",
       "      <td>0</td>\n",
       "      <td>lte_$75</td>\n",
       "    </tr>\n",
       "    <tr>\n",
       "      <th>2</th>\n",
       "      <td>1</td>\n",
       "      <td>1</td>\n",
       "      <td>Roslindale</td>\n",
       "      <td>42.292438</td>\n",
       "      <td>-71.135765</td>\n",
       "      <td>Apartment</td>\n",
       "      <td>Private room</td>\n",
       "      <td>2</td>\n",
       "      <td>1.0</td>\n",
       "      <td>1.0</td>\n",
       "      <td>...</td>\n",
       "      <td>1</td>\n",
       "      <td>20</td>\n",
       "      <td>3</td>\n",
       "      <td>41</td>\n",
       "      <td>2574</td>\n",
       "      <td>98.0</td>\n",
       "      <td>moderate</td>\n",
       "      <td>65</td>\n",
       "      <td>0</td>\n",
       "      <td>lte_$75</td>\n",
       "    </tr>\n",
       "  </tbody>\n",
       "</table>\n",
       "<p>3 rows × 23 columns</p>\n",
       "</div>"
      ],
      "text/plain": [
       "   host_is_superhost  host_identity_verified neighbourhood_cleansed  \\\n",
       "0                  0                       0             Roslindale   \n",
       "1                  0                       1             Roslindale   \n",
       "2                  1                       1             Roslindale   \n",
       "\n",
       "    latitude  longitude property_type        room_type  accommodates  \\\n",
       "0  42.282619 -71.133068         House  Entire home/apt             4   \n",
       "1  42.286241 -71.134374     Apartment     Private room             2   \n",
       "2  42.292438 -71.135765     Apartment     Private room             2   \n",
       "\n",
       "   bathrooms  bedrooms  ...  guests_included price_per_extra_person  \\\n",
       "0        1.5       2.0  ...                1                      0   \n",
       "1        1.0       1.0  ...                0                      0   \n",
       "2        1.0       1.0  ...                1                     20   \n",
       "\n",
       "   minimum_nights  number_of_reviews  number_days_btw_first_last_review  \\\n",
       "0               2                  0                                  0   \n",
       "1               2                 36                                804   \n",
       "2               3                 41                               2574   \n",
       "\n",
       "   review_scores_rating  cancellation_policy  price  price_gte_150  \\\n",
       "0                   NaN             moderate    250              1   \n",
       "1                  94.0             moderate     65              0   \n",
       "2                  98.0             moderate     65              0   \n",
       "\n",
       "  price_category  \n",
       "0        gte_226  \n",
       "1        lte_$75  \n",
       "2        lte_$75  \n",
       "\n",
       "[3 rows x 23 columns]"
      ]
     },
     "execution_count": 2,
     "metadata": {},
     "output_type": "execute_result"
    }
   ],
   "source": [
    "# load data\n",
    "airbnb = pd.read_csv(\"airbnb.csv\")\n",
    "\n",
    "airbnb.head(3)"
   ]
  },
  {
   "cell_type": "markdown",
   "metadata": {},
   "source": [
    "## 3.0 Conduct initial exploration of the data"
   ]
  },
  {
   "cell_type": "markdown",
   "metadata": {},
   "source": [
    "We have a number of input variables and one target variable. For this analysis, the target variable is price.\n",
    "\n",
    "First, our initial exploration of the data should answer the following questions:\n",
    "1. How many rows and columns\n",
    "2. How much of a problem do we have with na's?\n",
    "3. What types of data are there?\n",
    "4. What types of data are stored in columns\n",
    "    1. identify which variables are numeric and may need to be standardized later\n",
    "    2. identify which variables are categorical and may need to be transformed using and encoders such as one-hot-encoder.\n",
    "5. Identify errors in the data - this is a common problem with categorical vars where the category is mispelled or spelled differently in some instances.\n",
    " "
   ]
  },
  {
   "cell_type": "code",
   "execution_count": 3,
   "metadata": {},
   "outputs": [
    {
     "data": {
      "text/html": [
       "<div>\n",
       "<style scoped>\n",
       "    .dataframe tbody tr th:only-of-type {\n",
       "        vertical-align: middle;\n",
       "    }\n",
       "\n",
       "    .dataframe tbody tr th {\n",
       "        vertical-align: top;\n",
       "    }\n",
       "\n",
       "    .dataframe thead th {\n",
       "        text-align: right;\n",
       "    }\n",
       "</style>\n",
       "<table border=\"1\" class=\"dataframe\">\n",
       "  <thead>\n",
       "    <tr style=\"text-align: right;\">\n",
       "      <th></th>\n",
       "      <th>host_is_superhost</th>\n",
       "      <th>host_identity_verified</th>\n",
       "      <th>neighbourhood_cleansed</th>\n",
       "      <th>latitude</th>\n",
       "      <th>longitude</th>\n",
       "      <th>property_type</th>\n",
       "      <th>room_type</th>\n",
       "      <th>accommodates</th>\n",
       "      <th>bathrooms</th>\n",
       "      <th>bedrooms</th>\n",
       "      <th>...</th>\n",
       "      <th>guests_included</th>\n",
       "      <th>price_per_extra_person</th>\n",
       "      <th>minimum_nights</th>\n",
       "      <th>number_of_reviews</th>\n",
       "      <th>number_days_btw_first_last_review</th>\n",
       "      <th>review_scores_rating</th>\n",
       "      <th>cancellation_policy</th>\n",
       "      <th>price</th>\n",
       "      <th>price_gte_150</th>\n",
       "      <th>price_category</th>\n",
       "    </tr>\n",
       "  </thead>\n",
       "  <tbody>\n",
       "    <tr>\n",
       "      <th>0</th>\n",
       "      <td>0</td>\n",
       "      <td>0</td>\n",
       "      <td>Roslindale</td>\n",
       "      <td>42.282619</td>\n",
       "      <td>-71.133068</td>\n",
       "      <td>House</td>\n",
       "      <td>Entire home/apt</td>\n",
       "      <td>4</td>\n",
       "      <td>1.5</td>\n",
       "      <td>2.0</td>\n",
       "      <td>...</td>\n",
       "      <td>1</td>\n",
       "      <td>0</td>\n",
       "      <td>2</td>\n",
       "      <td>0</td>\n",
       "      <td>0</td>\n",
       "      <td>NaN</td>\n",
       "      <td>moderate</td>\n",
       "      <td>250</td>\n",
       "      <td>1</td>\n",
       "      <td>gte_226</td>\n",
       "    </tr>\n",
       "    <tr>\n",
       "      <th>1</th>\n",
       "      <td>0</td>\n",
       "      <td>1</td>\n",
       "      <td>Roslindale</td>\n",
       "      <td>42.286241</td>\n",
       "      <td>-71.134374</td>\n",
       "      <td>Apartment</td>\n",
       "      <td>Private room</td>\n",
       "      <td>2</td>\n",
       "      <td>1.0</td>\n",
       "      <td>1.0</td>\n",
       "      <td>...</td>\n",
       "      <td>0</td>\n",
       "      <td>0</td>\n",
       "      <td>2</td>\n",
       "      <td>36</td>\n",
       "      <td>804</td>\n",
       "      <td>94.0</td>\n",
       "      <td>moderate</td>\n",
       "      <td>65</td>\n",
       "      <td>0</td>\n",
       "      <td>lte_$75</td>\n",
       "    </tr>\n",
       "    <tr>\n",
       "      <th>2</th>\n",
       "      <td>1</td>\n",
       "      <td>1</td>\n",
       "      <td>Roslindale</td>\n",
       "      <td>42.292438</td>\n",
       "      <td>-71.135765</td>\n",
       "      <td>Apartment</td>\n",
       "      <td>Private room</td>\n",
       "      <td>2</td>\n",
       "      <td>1.0</td>\n",
       "      <td>1.0</td>\n",
       "      <td>...</td>\n",
       "      <td>1</td>\n",
       "      <td>20</td>\n",
       "      <td>3</td>\n",
       "      <td>41</td>\n",
       "      <td>2574</td>\n",
       "      <td>98.0</td>\n",
       "      <td>moderate</td>\n",
       "      <td>65</td>\n",
       "      <td>0</td>\n",
       "      <td>lte_$75</td>\n",
       "    </tr>\n",
       "  </tbody>\n",
       "</table>\n",
       "<p>3 rows × 23 columns</p>\n",
       "</div>"
      ],
      "text/plain": [
       "   host_is_superhost  host_identity_verified neighbourhood_cleansed  \\\n",
       "0                  0                       0             Roslindale   \n",
       "1                  0                       1             Roslindale   \n",
       "2                  1                       1             Roslindale   \n",
       "\n",
       "    latitude  longitude property_type        room_type  accommodates  \\\n",
       "0  42.282619 -71.133068         House  Entire home/apt             4   \n",
       "1  42.286241 -71.134374     Apartment     Private room             2   \n",
       "2  42.292438 -71.135765     Apartment     Private room             2   \n",
       "\n",
       "   bathrooms  bedrooms  ...  guests_included price_per_extra_person  \\\n",
       "0        1.5       2.0  ...                1                      0   \n",
       "1        1.0       1.0  ...                0                      0   \n",
       "2        1.0       1.0  ...                1                     20   \n",
       "\n",
       "   minimum_nights  number_of_reviews  number_days_btw_first_last_review  \\\n",
       "0               2                  0                                  0   \n",
       "1               2                 36                                804   \n",
       "2               3                 41                               2574   \n",
       "\n",
       "   review_scores_rating  cancellation_policy  price  price_gte_150  \\\n",
       "0                   NaN             moderate    250              1   \n",
       "1                  94.0             moderate     65              0   \n",
       "2                  98.0             moderate     65              0   \n",
       "\n",
       "  price_category  \n",
       "0        gte_226  \n",
       "1        lte_$75  \n",
       "2        lte_$75  \n",
       "\n",
       "[3 rows x 23 columns]"
      ]
     },
     "execution_count": 3,
     "metadata": {},
     "output_type": "execute_result"
    }
   ],
   "source": [
    "# look at the data\n",
    "airbnb.head(3) # note that we don't want to dump all the data to the screen"
   ]
  },
  {
   "cell_type": "code",
   "execution_count": 4,
   "metadata": {},
   "outputs": [
    {
     "name": "stdout",
     "output_type": "stream",
     "text": [
      "<class 'pandas.core.frame.DataFrame'>\n",
      "RangeIndex: 3555 entries, 0 to 3554\n",
      "Data columns (total 23 columns):\n",
      " #   Column                             Non-Null Count  Dtype  \n",
      "---  ------                             --------------  -----  \n",
      " 0   host_is_superhost                  3555 non-null   int64  \n",
      " 1   host_identity_verified             3555 non-null   int64  \n",
      " 2   neighbourhood_cleansed             3555 non-null   object \n",
      " 3   latitude                           3555 non-null   float64\n",
      " 4   longitude                          3555 non-null   float64\n",
      " 5   property_type                      3552 non-null   object \n",
      " 6   room_type                          3555 non-null   object \n",
      " 7   accommodates                       3555 non-null   int64  \n",
      " 8   bathrooms                          3541 non-null   float64\n",
      " 9   bedrooms                           3545 non-null   float64\n",
      " 10  beds                               3546 non-null   float64\n",
      " 11  bed_type                           3555 non-null   object \n",
      " 12  Number of amenities                3555 non-null   int64  \n",
      " 13  guests_included                    3555 non-null   int64  \n",
      " 14  price_per_extra_person             3555 non-null   int64  \n",
      " 15  minimum_nights                     3555 non-null   int64  \n",
      " 16  number_of_reviews                  3555 non-null   int64  \n",
      " 17  number_days_btw_first_last_review  3555 non-null   int64  \n",
      " 18  review_scores_rating               2755 non-null   float64\n",
      " 19  cancellation_policy                3555 non-null   object \n",
      " 20  price                              3555 non-null   int64  \n",
      " 21  price_gte_150                      3555 non-null   int64  \n",
      " 22  price_category                     3555 non-null   object \n",
      "dtypes: float64(6), int64(11), object(6)\n",
      "memory usage: 638.9+ KB\n"
     ]
    }
   ],
   "source": [
    "# generate a basic summary of the data\n",
    "airbnb.info()"
   ]
  },
  {
   "cell_type": "code",
   "execution_count": 5,
   "metadata": {},
   "outputs": [
    {
     "data": {
      "text/html": [
       "<div>\n",
       "<style scoped>\n",
       "    .dataframe tbody tr th:only-of-type {\n",
       "        vertical-align: middle;\n",
       "    }\n",
       "\n",
       "    .dataframe tbody tr th {\n",
       "        vertical-align: top;\n",
       "    }\n",
       "\n",
       "    .dataframe thead th {\n",
       "        text-align: right;\n",
       "    }\n",
       "</style>\n",
       "<table border=\"1\" class=\"dataframe\">\n",
       "  <thead>\n",
       "    <tr style=\"text-align: right;\">\n",
       "      <th></th>\n",
       "      <th>host_is_superhost</th>\n",
       "      <th>host_identity_verified</th>\n",
       "      <th>latitude</th>\n",
       "      <th>longitude</th>\n",
       "      <th>accommodates</th>\n",
       "      <th>bathrooms</th>\n",
       "      <th>bedrooms</th>\n",
       "      <th>beds</th>\n",
       "      <th>Number of amenities</th>\n",
       "      <th>guests_included</th>\n",
       "      <th>price_per_extra_person</th>\n",
       "      <th>minimum_nights</th>\n",
       "      <th>number_of_reviews</th>\n",
       "      <th>number_days_btw_first_last_review</th>\n",
       "      <th>review_scores_rating</th>\n",
       "      <th>price</th>\n",
       "      <th>price_gte_150</th>\n",
       "    </tr>\n",
       "  </thead>\n",
       "  <tbody>\n",
       "    <tr>\n",
       "      <th>count</th>\n",
       "      <td>3555.000000</td>\n",
       "      <td>3555.000000</td>\n",
       "      <td>3555.000000</td>\n",
       "      <td>3555.000000</td>\n",
       "      <td>3555.000000</td>\n",
       "      <td>3541.000000</td>\n",
       "      <td>3545.000000</td>\n",
       "      <td>3546.000000</td>\n",
       "      <td>3555.00000</td>\n",
       "      <td>3555.000000</td>\n",
       "      <td>3555.000000</td>\n",
       "      <td>3555.000000</td>\n",
       "      <td>3555.000000</td>\n",
       "      <td>3555.000000</td>\n",
       "      <td>2755.000000</td>\n",
       "      <td>3555.000000</td>\n",
       "      <td>3555.000000</td>\n",
       "    </tr>\n",
       "    <tr>\n",
       "      <th>mean</th>\n",
       "      <td>0.113080</td>\n",
       "      <td>0.727989</td>\n",
       "      <td>42.339973</td>\n",
       "      <td>-71.084874</td>\n",
       "      <td>3.023629</td>\n",
       "      <td>1.215899</td>\n",
       "      <td>1.246544</td>\n",
       "      <td>1.597293</td>\n",
       "      <td>14.85879</td>\n",
       "      <td>1.427004</td>\n",
       "      <td>10.886639</td>\n",
       "      <td>3.116737</td>\n",
       "      <td>19.126582</td>\n",
       "      <td>279.052602</td>\n",
       "      <td>91.891470</td>\n",
       "      <td>166.060478</td>\n",
       "      <td>0.500422</td>\n",
       "    </tr>\n",
       "    <tr>\n",
       "      <th>std</th>\n",
       "      <td>0.316735</td>\n",
       "      <td>0.445058</td>\n",
       "      <td>0.024464</td>\n",
       "      <td>0.031614</td>\n",
       "      <td>1.754808</td>\n",
       "      <td>0.492656</td>\n",
       "      <td>0.738440</td>\n",
       "      <td>0.995467</td>\n",
       "      <td>4.82126</td>\n",
       "      <td>1.050204</td>\n",
       "      <td>19.092755</td>\n",
       "      <td>8.273949</td>\n",
       "      <td>35.666178</td>\n",
       "      <td>408.686952</td>\n",
       "      <td>9.548381</td>\n",
       "      <td>103.378456</td>\n",
       "      <td>0.500070</td>\n",
       "    </tr>\n",
       "    <tr>\n",
       "      <th>min</th>\n",
       "      <td>0.000000</td>\n",
       "      <td>0.000000</td>\n",
       "      <td>42.235942</td>\n",
       "      <td>-71.171789</td>\n",
       "      <td>1.000000</td>\n",
       "      <td>0.000000</td>\n",
       "      <td>0.000000</td>\n",
       "      <td>0.000000</td>\n",
       "      <td>0.00000</td>\n",
       "      <td>0.000000</td>\n",
       "      <td>0.000000</td>\n",
       "      <td>1.000000</td>\n",
       "      <td>0.000000</td>\n",
       "      <td>0.000000</td>\n",
       "      <td>20.000000</td>\n",
       "      <td>10.000000</td>\n",
       "      <td>0.000000</td>\n",
       "    </tr>\n",
       "    <tr>\n",
       "      <th>25%</th>\n",
       "      <td>0.000000</td>\n",
       "      <td>0.000000</td>\n",
       "      <td>42.329875</td>\n",
       "      <td>-71.105183</td>\n",
       "      <td>2.000000</td>\n",
       "      <td>1.000000</td>\n",
       "      <td>1.000000</td>\n",
       "      <td>1.000000</td>\n",
       "      <td>12.00000</td>\n",
       "      <td>1.000000</td>\n",
       "      <td>0.000000</td>\n",
       "      <td>1.000000</td>\n",
       "      <td>1.000000</td>\n",
       "      <td>0.000000</td>\n",
       "      <td>89.000000</td>\n",
       "      <td>85.000000</td>\n",
       "      <td>0.000000</td>\n",
       "    </tr>\n",
       "    <tr>\n",
       "      <th>50%</th>\n",
       "      <td>0.000000</td>\n",
       "      <td>1.000000</td>\n",
       "      <td>42.345191</td>\n",
       "      <td>-71.078487</td>\n",
       "      <td>2.000000</td>\n",
       "      <td>1.000000</td>\n",
       "      <td>1.000000</td>\n",
       "      <td>1.000000</td>\n",
       "      <td>15.00000</td>\n",
       "      <td>1.000000</td>\n",
       "      <td>0.000000</td>\n",
       "      <td>2.000000</td>\n",
       "      <td>5.000000</td>\n",
       "      <td>92.000000</td>\n",
       "      <td>94.000000</td>\n",
       "      <td>150.000000</td>\n",
       "      <td>1.000000</td>\n",
       "    </tr>\n",
       "    <tr>\n",
       "      <th>75%</th>\n",
       "      <td>0.000000</td>\n",
       "      <td>1.000000</td>\n",
       "      <td>42.354672</td>\n",
       "      <td>-71.062142</td>\n",
       "      <td>4.000000</td>\n",
       "      <td>1.000000</td>\n",
       "      <td>2.000000</td>\n",
       "      <td>2.000000</td>\n",
       "      <td>18.00000</td>\n",
       "      <td>1.000000</td>\n",
       "      <td>20.000000</td>\n",
       "      <td>3.000000</td>\n",
       "      <td>21.000000</td>\n",
       "      <td>402.000000</td>\n",
       "      <td>98.000000</td>\n",
       "      <td>219.000000</td>\n",
       "      <td>1.000000</td>\n",
       "    </tr>\n",
       "    <tr>\n",
       "      <th>max</th>\n",
       "      <td>1.000000</td>\n",
       "      <td>1.000000</td>\n",
       "      <td>42.389982</td>\n",
       "      <td>-71.000100</td>\n",
       "      <td>16.000000</td>\n",
       "      <td>6.000000</td>\n",
       "      <td>5.000000</td>\n",
       "      <td>16.000000</td>\n",
       "      <td>30.00000</td>\n",
       "      <td>14.000000</td>\n",
       "      <td>200.000000</td>\n",
       "      <td>300.000000</td>\n",
       "      <td>404.000000</td>\n",
       "      <td>2680.000000</td>\n",
       "      <td>100.000000</td>\n",
       "      <td>650.000000</td>\n",
       "      <td>1.000000</td>\n",
       "    </tr>\n",
       "  </tbody>\n",
       "</table>\n",
       "</div>"
      ],
      "text/plain": [
       "       host_is_superhost  host_identity_verified     latitude    longitude  \\\n",
       "count        3555.000000             3555.000000  3555.000000  3555.000000   \n",
       "mean            0.113080                0.727989    42.339973   -71.084874   \n",
       "std             0.316735                0.445058     0.024464     0.031614   \n",
       "min             0.000000                0.000000    42.235942   -71.171789   \n",
       "25%             0.000000                0.000000    42.329875   -71.105183   \n",
       "50%             0.000000                1.000000    42.345191   -71.078487   \n",
       "75%             0.000000                1.000000    42.354672   -71.062142   \n",
       "max             1.000000                1.000000    42.389982   -71.000100   \n",
       "\n",
       "       accommodates    bathrooms     bedrooms         beds  \\\n",
       "count   3555.000000  3541.000000  3545.000000  3546.000000   \n",
       "mean       3.023629     1.215899     1.246544     1.597293   \n",
       "std        1.754808     0.492656     0.738440     0.995467   \n",
       "min        1.000000     0.000000     0.000000     0.000000   \n",
       "25%        2.000000     1.000000     1.000000     1.000000   \n",
       "50%        2.000000     1.000000     1.000000     1.000000   \n",
       "75%        4.000000     1.000000     2.000000     2.000000   \n",
       "max       16.000000     6.000000     5.000000    16.000000   \n",
       "\n",
       "       Number of amenities  guests_included  price_per_extra_person  \\\n",
       "count           3555.00000      3555.000000             3555.000000   \n",
       "mean              14.85879         1.427004               10.886639   \n",
       "std                4.82126         1.050204               19.092755   \n",
       "min                0.00000         0.000000                0.000000   \n",
       "25%               12.00000         1.000000                0.000000   \n",
       "50%               15.00000         1.000000                0.000000   \n",
       "75%               18.00000         1.000000               20.000000   \n",
       "max               30.00000        14.000000              200.000000   \n",
       "\n",
       "       minimum_nights  number_of_reviews  number_days_btw_first_last_review  \\\n",
       "count     3555.000000        3555.000000                        3555.000000   \n",
       "mean         3.116737          19.126582                         279.052602   \n",
       "std          8.273949          35.666178                         408.686952   \n",
       "min          1.000000           0.000000                           0.000000   \n",
       "25%          1.000000           1.000000                           0.000000   \n",
       "50%          2.000000           5.000000                          92.000000   \n",
       "75%          3.000000          21.000000                         402.000000   \n",
       "max        300.000000         404.000000                        2680.000000   \n",
       "\n",
       "       review_scores_rating        price  price_gte_150  \n",
       "count           2755.000000  3555.000000    3555.000000  \n",
       "mean              91.891470   166.060478       0.500422  \n",
       "std                9.548381   103.378456       0.500070  \n",
       "min               20.000000    10.000000       0.000000  \n",
       "25%               89.000000    85.000000       0.000000  \n",
       "50%               94.000000   150.000000       1.000000  \n",
       "75%               98.000000   219.000000       1.000000  \n",
       "max              100.000000   650.000000       1.000000  "
      ]
     },
     "execution_count": 5,
     "metadata": {},
     "output_type": "execute_result"
    }
   ],
   "source": [
    "# generate a statistical summary of the numeric value in the data\n",
    "airbnb.describe()"
   ]
  },
  {
   "cell_type": "code",
   "execution_count": 6,
   "metadata": {},
   "outputs": [
    {
     "data": {
      "text/html": [
       "<style type=\"text/css\">\n",
       "#T_96931 thead>tr>th {\n",
       "  text-align: left;\n",
       "}\n",
       "#T_96931_row0_col0, #T_96931_row1_col0, #T_96931_row2_col0, #T_96931_row3_col0, #T_96931_row4_col0, #T_96931_row5_col0, #T_96931_row6_col0, #T_96931_row7_col0, #T_96931_row8_col0, #T_96931_row9_col0, #T_96931_row10_col0, #T_96931_row11_col0, #T_96931_row12_col0, #T_96931_row13_col0, #T_96931_row14_col0, #T_96931_row15_col0, #T_96931_row16_col0, #T_96931_row17_col0, #T_96931_row18_col0, #T_96931_row19_col0, #T_96931_row20_col0, #T_96931_row21_col0, #T_96931_row22_col0 {\n",
       "  text-align: left;\n",
       "  font-size: 12px;\n",
       "  vertical-align: middle;\n",
       "  width: 5%;\n",
       "  max-width: 50px;\n",
       "  min-width: 20px;\n",
       "}\n",
       "#T_96931_row0_col1, #T_96931_row1_col1, #T_96931_row2_col1, #T_96931_row3_col1, #T_96931_row4_col1, #T_96931_row5_col1, #T_96931_row6_col1, #T_96931_row7_col1, #T_96931_row8_col1, #T_96931_row9_col1, #T_96931_row10_col1, #T_96931_row11_col1, #T_96931_row12_col1, #T_96931_row13_col1, #T_96931_row14_col1, #T_96931_row15_col1, #T_96931_row16_col1, #T_96931_row17_col1, #T_96931_row18_col1, #T_96931_row19_col1, #T_96931_row20_col1, #T_96931_row21_col1, #T_96931_row22_col1 {\n",
       "  text-align: left;\n",
       "  font-size: 12px;\n",
       "  vertical-align: middle;\n",
       "  width: 15%;\n",
       "  max-width: 200px;\n",
       "  min-width: 100px;\n",
       "  word-break: break-word;\n",
       "}\n",
       "#T_96931_row0_col2, #T_96931_row1_col2, #T_96931_row2_col2, #T_96931_row3_col2, #T_96931_row4_col2, #T_96931_row5_col2, #T_96931_row6_col2, #T_96931_row7_col2, #T_96931_row8_col2, #T_96931_row9_col2, #T_96931_row10_col2, #T_96931_row11_col2, #T_96931_row12_col2, #T_96931_row13_col2, #T_96931_row14_col2, #T_96931_row15_col2, #T_96931_row16_col2, #T_96931_row17_col2, #T_96931_row18_col2, #T_96931_row19_col2, #T_96931_row20_col2, #T_96931_row21_col2, #T_96931_row22_col2 {\n",
       "  text-align: left;\n",
       "  font-size: 12px;\n",
       "  vertical-align: middle;\n",
       "  width: 30%;\n",
       "  min-width: 100px;\n",
       "}\n",
       "#T_96931_row0_col3, #T_96931_row1_col3, #T_96931_row2_col3, #T_96931_row3_col3, #T_96931_row4_col3, #T_96931_row5_col3, #T_96931_row6_col3, #T_96931_row7_col3, #T_96931_row8_col3, #T_96931_row9_col3, #T_96931_row10_col3, #T_96931_row11_col3, #T_96931_row12_col3, #T_96931_row13_col3, #T_96931_row14_col3, #T_96931_row15_col3, #T_96931_row16_col3, #T_96931_row17_col3, #T_96931_row18_col3, #T_96931_row19_col3, #T_96931_row20_col3, #T_96931_row21_col3, #T_96931_row22_col3 {\n",
       "  text-align: left;\n",
       "  font-size: 12px;\n",
       "  vertical-align: middle;\n",
       "  width: 25%;\n",
       "  min-width: 100px;\n",
       "}\n",
       "#T_96931_row0_col4, #T_96931_row1_col4, #T_96931_row2_col4, #T_96931_row3_col4, #T_96931_row4_col4, #T_96931_row5_col4, #T_96931_row6_col4, #T_96931_row7_col4, #T_96931_row8_col4, #T_96931_row9_col4, #T_96931_row10_col4, #T_96931_row11_col4, #T_96931_row12_col4, #T_96931_row13_col4, #T_96931_row14_col4, #T_96931_row15_col4, #T_96931_row16_col4, #T_96931_row17_col4, #T_96931_row18_col4, #T_96931_row19_col4, #T_96931_row20_col4, #T_96931_row21_col4, #T_96931_row22_col4 {\n",
       "  text-align: left;\n",
       "  font-size: 12px;\n",
       "  vertical-align: middle;\n",
       "  width: 20%;\n",
       "  min-width: 150px;\n",
       "}\n",
       "#T_96931_row0_col5, #T_96931_row1_col5, #T_96931_row2_col5, #T_96931_row3_col5, #T_96931_row4_col5, #T_96931_row5_col5, #T_96931_row6_col5, #T_96931_row7_col5, #T_96931_row8_col5, #T_96931_row9_col5, #T_96931_row10_col5, #T_96931_row11_col5, #T_96931_row12_col5, #T_96931_row13_col5, #T_96931_row14_col5, #T_96931_row15_col5, #T_96931_row16_col5, #T_96931_row17_col5, #T_96931_row18_col5, #T_96931_row19_col5, #T_96931_row20_col5, #T_96931_row21_col5, #T_96931_row22_col5 {\n",
       "  text-align: left;\n",
       "  font-size: 12px;\n",
       "  vertical-align: middle;\n",
       "  width: 10%;\n",
       "}\n",
       "</style>\n",
       "<table id=\"T_96931\">\n",
       "  <caption><strong>Data Frame Summary</strong><br>airbnb<br>Dimensions: 3,555 x 23<br>Duplicates: 0</caption>\n",
       "  <thead>\n",
       "    <tr>\n",
       "      <th id=\"T_96931_level0_col0\" class=\"col_heading level0 col0\" >No</th>\n",
       "      <th id=\"T_96931_level0_col1\" class=\"col_heading level0 col1\" >Variable</th>\n",
       "      <th id=\"T_96931_level0_col2\" class=\"col_heading level0 col2\" >Stats / Values</th>\n",
       "      <th id=\"T_96931_level0_col3\" class=\"col_heading level0 col3\" >Freqs / (% of Valid)</th>\n",
       "      <th id=\"T_96931_level0_col4\" class=\"col_heading level0 col4\" >Graph</th>\n",
       "      <th id=\"T_96931_level0_col5\" class=\"col_heading level0 col5\" >Missing</th>\n",
       "    </tr>\n",
       "  </thead>\n",
       "  <tbody>\n",
       "    <tr>\n",
       "      <td id=\"T_96931_row0_col0\" class=\"data row0 col0\" >1</td>\n",
       "      <td id=\"T_96931_row0_col1\" class=\"data row0 col1\" ><strong>host_is_superhost</strong><br>[int64]</td>\n",
       "      <td id=\"T_96931_row0_col2\" class=\"data row0 col2\" >Mean (sd) : 0.1 (0.3)<br>min < med < max:<br>0.0 < 0.0 < 1.0<br>IQR (CV) : 0.0 (0.4)</td>\n",
       "      <td id=\"T_96931_row0_col3\" class=\"data row0 col3\" >2 distinct values</td>\n",
       "      <td id=\"T_96931_row0_col4\" class=\"data row0 col4\" ><img src = \"data:image/png;base64, iVBORw0KGgoAAAANSUhEUgAAAKoAAABGCAYAAABc8A97AAAAOXRFWHRTb2Z0d2FyZQBNYXRwbG90bGliIHZlcnNpb24zLjUuMiwgaHR0cHM6Ly9tYXRwbG90bGliLm9yZy8qNh9FAAAACXBIWXMAAA9hAAAPYQGoP6dpAAABtUlEQVR4nO3XTYqDQBCG4apBRDfdiOBhPEQOm0N4GwntIkog6dnNZpj8dDJkvuF9tlpFL16U9pyzAX/dx7sPANyjuvWCu7dmVhfuP+Wc18JZ4MvVUN297ft+F0LoSpYvy3Jw9z2x4lm3vqh1CKEbx3GNMW6PLE4pNdM0dfM812ZGqHjKzV+/mVmMcRuG4Viwvy2YAb7hMgUJhAoJhAoJhAoJhAoJhAoJhAoJhAoJhAoJhAoJhAoJhAoJhAoJhAoJhAoJhAoJhAoJhAoJhAoJhAoJhAoJhAoJhAoJhAoJhAoJhAoJhAoJhAoJhAoJhAoJhAoJhAoJhAoJhAoJhAoJhAoJhAoJhAoJhAoJhAoJhAoJhAoJhAoJhAoJhAoJhAoJhAoJhAoJhAoJhAoJhAoJhAoJhAoJhAoJhAoJ1bsPgP/D3VszqwvHTznn9aeHhIqXcPe27/tdCKErmV+W5eDu+59iJVS8Sh1C6MZxXGOM2yODKaVmmqZunufazAgVvy/GuA3DcCwYba895DIFCYQKCYQKCYQKCXddplJKzaOLU0rN+XyuzCy4+8MHg5xwuVyq0lZuvfMJRbpOfWrrwwoAAAAASUVORK5CYII=\"></img></td>\n",
       "      <td id=\"T_96931_row0_col5\" class=\"data row0 col5\" >0<br>(0.0%)</td>\n",
       "    </tr>\n",
       "    <tr>\n",
       "      <td id=\"T_96931_row1_col0\" class=\"data row1 col0\" >2</td>\n",
       "      <td id=\"T_96931_row1_col1\" class=\"data row1 col1\" ><strong>host_identity_verified</strong><br>[int64]</td>\n",
       "      <td id=\"T_96931_row1_col2\" class=\"data row1 col2\" >Mean (sd) : 0.7 (0.4)<br>min < med < max:<br>0.0 < 1.0 < 1.0<br>IQR (CV) : 1.0 (1.6)</td>\n",
       "      <td id=\"T_96931_row1_col3\" class=\"data row1 col3\" >2 distinct values</td>\n",
       "      <td id=\"T_96931_row1_col4\" class=\"data row1 col4\" ><img src = \"data:image/png;base64, iVBORw0KGgoAAAANSUhEUgAAAKoAAABGCAYAAABc8A97AAAAOXRFWHRTb2Z0d2FyZQBNYXRwbG90bGliIHZlcnNpb24zLjUuMiwgaHR0cHM6Ly9tYXRwbG90bGliLm9yZy8qNh9FAAAACXBIWXMAAA9hAAAPYQGoP6dpAAABfElEQVR4nO3dQWrCQBiG4ZkiopsEETyMh+hhewhvI2VcVCloegJrFIP9yvNsJxNm8RKYRfjrMAwF/rq3Vx8Axpi9+gD8H7XWZSll/uD272EYjtcWhcpT1FqX6/X6veu61SP7D4fDZ63141qsQuVZ5l3Xrbbb7bHv+9M9G1tri91ut9rv9/NSilCZXt/3p81m8/XA1uVviy5TRBAqEYRKBKESQahEECoRhEoEoRJBqEQQKhGESgShEkGoRBAqEYRKBKESQahEECoRhEoEoRJBqEQQKhGESgShEkGoRBAqEYRKBKESQahEECoRhEoEoRJBqEQQKhGESgShEkGoRBAqEW6O75lyGhuM9WuoU09jg7FufVEnncYGY42a3DfVNDYYy2WKCEIlglCJIFQiCJUIQiWCUIkgVCIIlQhCJYJQiSBUIgiVCEIlglCJIFQiCJUIQiWCUIkgVCIIlQij/kJtrS3ufXFrbXE+n2ellK7WevfBiNNdLpfZo63ceuYHIZZOfePkz3kAAAAASUVORK5CYII=\"></img></td>\n",
       "      <td id=\"T_96931_row1_col5\" class=\"data row1 col5\" >0<br>(0.0%)</td>\n",
       "    </tr>\n",
       "    <tr>\n",
       "      <td id=\"T_96931_row2_col0\" class=\"data row2 col0\" >3</td>\n",
       "      <td id=\"T_96931_row2_col1\" class=\"data row2 col1\" ><strong>neighbourhood_cleansed</strong><br>[object]</td>\n",
       "      <td id=\"T_96931_row2_col2\" class=\"data row2 col2\" >1. Jamaica Plain<br>2. South End<br>3. Back Bay<br>4. Fenway<br>5. Dorchester<br>6. Allston<br>7. Beacon Hill<br>8. Brighton<br>9. Downtown<br>10. South Boston<br>11. other</td>\n",
       "      <td id=\"T_96931_row2_col3\" class=\"data row2 col3\" >341 (9.6%)<br>323 (9.1%)<br>298 (8.4%)<br>285 (8.0%)<br>269 (7.6%)<br>260 (7.3%)<br>188 (5.3%)<br>184 (5.2%)<br>172 (4.8%)<br>171 (4.8%)<br>1,064 (29.9%)</td>\n",
       "      <td id=\"T_96931_row2_col4\" class=\"data row2 col4\" ><img src = \"data:image/png;base64, iVBORw0KGgoAAAANSUhEUgAAAJsAAAD+CAYAAAAtWHdlAAAAOXRFWHRTb2Z0d2FyZQBNYXRwbG90bGliIHZlcnNpb24zLjUuMiwgaHR0cHM6Ly9tYXRwbG90bGliLm9yZy8qNh9FAAAACXBIWXMAAA9hAAAPYQGoP6dpAAAECUlEQVR4nO3dQWobWQBF0a/GhM5Ewhi8GC+iF9uL0G6MsQZJyEQZZGxJ9VXcSM4584IaXL6oop69OR6PAwr//Okb4O8hNjJiIyM2MmIjIzYyYiMjNjJiI7MZY3wdY3yZvP7n8Xj8vuL98Ik9PD09/bfdbh9nLj4cDm+bzeZ/wXGJh+12+/jy8vJ9t9v9WHLh+/v7v/v9/vH19fXLGENsnPUwxhi73e7H8/Pzt4nrv658P3xiHhDIiI2M2MiIjYzYyIiNjNjIiI2M2MiIjYzYyIiNjNjIiI3Mwxi/v01beuHMNfzdHg6Hw9t+v38cE9+mHQ6HtzHGz/Vvi8/IBoHMxp/MonLNyeZUY5HpdZVlFUtNrassq5hxzbrKsopFvNQlIzYyYiMjNjJiIyM2MmIjIzYyYiMjNjJiIyM2MmIjMzV4MXZhxvTgxdiFpXwWTsbghczsyeZUY7GpwYuxCzMWD16MXZg1O3gxdmExL3XJiI2M2MiIjYzYyIiNjNjIiI2M2MiIjYzYyIiNjNjILB68GLswa2rwYuzCDJ+FkzF4IeMBgczMz6ifUKYsXldZVjFr0brKsoprzKyrLKuY4gGBjNjIiI2M2MiIjYzYyIiNjNjIiI2M2MiIjYzYyIiNzKJ1lWUV11i8rrKsYpbPwslYV5FxspExeCFj8ELG4IWMl7pkxEZGbGTERkZsZMRGRmxkxEZGbGTERkZsZMRGRmxkDF7IGLyQ8Vk4GYMXMktPNqca0xYNXoxduMbFgxdjF661dPBi7MI0L3XJiI2M2MiIjYzYyIiNjNjIiI2M2MiIjYzYyIiNjNjIiI3MxesqyyqutWhdZVnFNWwQyFhXkbnkZHOasYqz6yqLKtZycl1lUcWaLllXWVSxCi91yYiNjNjIiI2M2MiIjYzYyIiNjNjIiI2M2MiIjYzYyJwcvBi5sKazgxcjF9bis3AyBi9knGxkDF7IGLyQMXgh46UuGbGRERsZsZERGxmxkREbGbGRERsZsZERGxmxkREbGYMXMgYvZHwWTsbghYwHBDLnfkb9hLKak+sqyyrW9OG6yrKKtZ1bV1lWsRoPCGTERkZsZMRGRmxkxEZGbGTERkZsZMRGRmxkxEZGbGQ+XFdZVrG2k+sqyyrW5LNwMtZVZJxsZAxeyBi8kDF4IeOlLhmxkREbGbGRERsZsZERGxmxkREbGbGRERsZsZERGxmDFzIGL2R8Fk7G4IXMJf8o7VY5de/MycHLLTPGuT8fDl5umTHOfTo3eLllxjh3xktdMmIjIzYyYiMjNjJiIyM2MmIjIzYyYiMjNjJiIyM2Mh8OXm7Zvd0vv50cvNwyY5z747NwMgYvZDwgkBEbGbGRERsZsZERGxmxkREbGbGR+QXIeU7iv/ySowAAAABJRU5ErkJggg==\"></img></td>\n",
       "      <td id=\"T_96931_row2_col5\" class=\"data row2 col5\" >0<br>(0.0%)</td>\n",
       "    </tr>\n",
       "    <tr>\n",
       "      <td id=\"T_96931_row3_col0\" class=\"data row3 col0\" >4</td>\n",
       "      <td id=\"T_96931_row3_col1\" class=\"data row3 col1\" ><strong>latitude</strong><br>[float64]</td>\n",
       "      <td id=\"T_96931_row3_col2\" class=\"data row3 col2\" >Mean (sd) : 42.3 (0.0)<br>min < med < max:<br>42.2 < 42.3 < 42.4<br>IQR (CV) : 0.0 (1730.7)</td>\n",
       "      <td id=\"T_96931_row3_col3\" class=\"data row3 col3\" >3,554 distinct values</td>\n",
       "      <td id=\"T_96931_row3_col4\" class=\"data row3 col4\" ><img src = \"data:image/png;base64, iVBORw0KGgoAAAANSUhEUgAAAKoAAABGCAYAAABc8A97AAAAOXRFWHRTb2Z0d2FyZQBNYXRwbG90bGliIHZlcnNpb24zLjUuMiwgaHR0cHM6Ly9tYXRwbG90bGliLm9yZy8qNh9FAAAACXBIWXMAAA9hAAAPYQGoP6dpAAACnElEQVR4nO3dP2/aQBiA8fcgROaPbCEk2Fg6VurAyIfoh+1H6MDQmbUTGwJZRjixMLY7pUqlFILPhntPz2/mEg+PhH3cnU1VVQK4rvPoCwA+4+nRF4BmGWP6IvJcc/ipqqrXJq+nKYTqEWNMfzKZfA/DcFxn/OFwiI0xP1yMlVD98hyG4Xi5XL5GUZTdMjBJkmC1Wo33+/2ziBAq2hdFUTadTl9qDO03fjEN4WEKKhAqVCBUqECoUIFQoQKhQgVChQqEChUIFSoQKlQgVKhAqFCBUKECoUIFQoUKhAoVCBUqECpUIFSoQKhQgVChAqFCBUKFCoQKFQgVKnBSimMsDzkLy7LsNXk9riBUh9gecpbneVAUxdcsy36KSJ0jfZxFqG6pfciZiMhmsxmv1+vB+XzutnFxj0SoDqp7yFkcx84ecmaLhymoQKhQgVChAqFCBUKFCoQKFQgVKhAqVGDCH38VRdETkdAYU/dPtPZCNUKFiIikadrL8/zbfD7vdrvdm3++FWn3hWqEChEROZ1OT0EQDBaLRTabzeJbx7f9QjVCxT+Gw2Hdl6mJtPhCNR6moAKhQgVChQqEChUIFSrw1N8Ciw163m7Os0WoDbPZoOfz5jxbhNq82hv0fN6cZ4tQW1Jng57Pm/NsEep/cJ/pFkL9APeZ7iHUj3Gf6RhCvYD7THcQKhpjufD64qJrb0PlVLz7sl14fW3RtZehcire/dksvP7MomsvQxVOxXsYi4XXF+/tfQ1VRDgVzydOh8qkO944GyqT7njP2VCFSXe8czVUy2mejoiUNceGZVn2oiiKmXTHxVBtvn6LouilafplNBr97nQ6+a3j376+d7vdr1vHHo/HQEQkTdNgu90O7jn+UWM1/+8kSYJrn/kD3jZjebj/XLsAAAAASUVORK5CYII=\"></img></td>\n",
       "      <td id=\"T_96931_row3_col5\" class=\"data row3 col5\" >0<br>(0.0%)</td>\n",
       "    </tr>\n",
       "    <tr>\n",
       "      <td id=\"T_96931_row4_col0\" class=\"data row4 col0\" >5</td>\n",
       "      <td id=\"T_96931_row4_col1\" class=\"data row4 col1\" ><strong>longitude</strong><br>[float64]</td>\n",
       "      <td id=\"T_96931_row4_col2\" class=\"data row4 col2\" >Mean (sd) : -71.1 (0.0)<br>min < med < max:<br>-71.2 < -71.1 < -71.0<br>IQR (CV) : 0.0 (-2248.5)</td>\n",
       "      <td id=\"T_96931_row4_col3\" class=\"data row4 col3\" >3,554 distinct values</td>\n",
       "      <td id=\"T_96931_row4_col4\" class=\"data row4 col4\" ><img src = \"data:image/png;base64, iVBORw0KGgoAAAANSUhEUgAAAKoAAABGCAYAAABc8A97AAAAOXRFWHRTb2Z0d2FyZQBNYXRwbG90bGliIHZlcnNpb24zLjUuMiwgaHR0cHM6Ly9tYXRwbG90bGliLm9yZy8qNh9FAAAACXBIWXMAAA9hAAAPYQGoP6dpAAACoklEQVR4nO3dPY7aQBiA4W/CQgaIbBASdLQUkVJQcogcNkdIwQEQN6BDAmSEg4MxTpEq0obFP7M7n3mf3uDilTUezYxNnucC+O7TR98A8IiXj74B/MsY0xWRToWfuOR5fq7rfnxBqB4xxnRHo9H3IAiGZX/jeDwejDE/mhYrofqlEwTBcLFYnMMwTIpeHEWRXS6Xw91u1xERQoVbYRgm4/H4V8nLu7XejCcI1YEK48zgdru1676fJiDUmlUZZ6ZparMs+5okyU8RKftEbSRCrV/pceZmsxmu1+ve9Xptubo5rQjVkTLjzMPh0MjxZR2Y8IcKhAoVCBUqECpUIFSoQKhQgVChAqFCBUKFCoQKFQgVKhAqVCBUqECoUIFQoQKhQgVChQqEChUIFSoQKlQgVKjALtT/4BAJvxDqKzhEwj+E+joOkfAMod7BIRL+4GUKKhAqVCBUqNDYMWrFs/CZYvJMI0OtehY+U0z+aWSoUvEsfKaY/NPUUEWk/Fn4TDH5h5cpqECoUIFQoQKhQoVGv0w9oyzL2iISGGPKXO7td1S9DpU1ocXEcdxO0/TbdDpttVqtwtNyPn9H1dtQWRNa3OVyebHW9ubzeTKZTA5FrvX9O6rehiqsCS2t3++X/Zaqt/PHPocqIqwJxV+89UMFQoUKhAoVCBUqECpUcPrWzyp71MVZqKyyR51cPlFZZY/aOJ/wZ5U96sDLFFQgVKhAqFDhzTEqa0Lhg7uhsib0uVTcHSDicIfAW09U1oQ+iaq7A0Tc7hB4aHqKNaHNV2V3gIj7HQLeL5zG+6qwO0CyLAvE0cZCQkUtXG8sfCjUKIps0T8+nU5WRCSOY7vdbnvveb3W/9Z63yIi+/3+i7W2N5vNzGAw+F3k2vP5/Hm1Wt0dNvwBxkmaOEjZ0ycAAAAASUVORK5CYII=\"></img></td>\n",
       "      <td id=\"T_96931_row4_col5\" class=\"data row4 col5\" >0<br>(0.0%)</td>\n",
       "    </tr>\n",
       "    <tr>\n",
       "      <td id=\"T_96931_row5_col0\" class=\"data row5 col0\" >6</td>\n",
       "      <td id=\"T_96931_row5_col1\" class=\"data row5 col1\" ><strong>property_type</strong><br>[object]</td>\n",
       "      <td id=\"T_96931_row5_col2\" class=\"data row5 col2\" >1. Apartment<br>2. House<br>3. Condominium<br>4. Townhouse<br>5. Bed & Breakfast<br>6. Loft<br>7. Other<br>8. Boat<br>9. Villa<br>10. Entire Floor<br>11. other</td>\n",
       "      <td id=\"T_96931_row5_col3\" class=\"data row5 col3\" >2,593 (72.9%)<br>555 (15.6%)<br>228 (6.4%)<br>53 (1.5%)<br>41 (1.2%)<br>39 (1.1%)<br>17 (0.5%)<br>12 (0.3%)<br>6 (0.2%)<br>4 (0.1%)<br>7 (0.2%)</td>\n",
       "      <td id=\"T_96931_row5_col4\" class=\"data row5 col4\" ><img src = \"data:image/png;base64, iVBORw0KGgoAAAANSUhEUgAAAJsAAAD+CAYAAAAtWHdlAAAAOXRFWHRTb2Z0d2FyZQBNYXRwbG90bGliIHZlcnNpb24zLjUuMiwgaHR0cHM6Ly9tYXRwbG90bGliLm9yZy8qNh9FAAAACXBIWXMAAA9hAAAPYQGoP6dpAAAEBklEQVR4nO3dQU4bdxyG4Z8tlIaNkYXEEdodB+AQOWwPwQFY9g4I4UVJsnEWTatKXYRA5p2YPs8J/hIvM3g0H94cj8eBwnbtA/D/ITYyYiMjNjJiIyM2MmIjIzYyYiOzmZnzmXm39kF4lc/H4/Fp7UN8y9nl5eWH3W63X/sgvNzhcHjYbDa//+zBne12u/3Nzc3TxcXFx7UPw/d7fHx8f3t7u7+/v383Mz93bDMzFxcXH6+urv5c+zC82PnaB3gOHxDIiI2M2MiIjYzYyIiNjNjIiI2M2MiIjYzYyIiNjNjIiI3M2cxf70StfRBe5pR+dmeHw+Hh9vZ2PyfyThT/dTgcHmbm89rn+BYbhLfhJDYIG/8yi0pxZTuJ3zqWt/i66lSWPyxv0XXVKS1/WF6xrvIpl5nxUJeQ2MiIjYzYyIiNjNjIiI2M2MiIjYzYyIiNjNjIiI3MooOXUxpjsLzFBy+nMsZgeV4LJ2PwQuZ7rmyuULzKswcvhiu81rMGL4Yr/AjfM3gxXOFVPNQlIzYyYiMjNjJiIyM2MmIjIzYyYiMjNjJiIyM2MmIj86zBi+EKP8KzBy+GK7yW18LJGLyQ8QGBzL9vo26TLOqfdZX1FEvb7na7/fX19Xyd8/kqSBaznZk5Pz//tPZBePt8QCAjNjJiIyM2MmIjIzYyYiMjNjJiIyM2MmIjIzYyYiOznZl5enr6Ze2D8PZtD4fDw93dnfUUi/NaOBnrKjKubGQMXsgYvJAxeCHjoS4ZsZERGxmxkREbGbGRERsZsZERGxmxkREbGbGRERsZgxcyBi9kvBZOxuCFjCsbGYMXMgYvZAxeyHioS0ZsZMRGRmxkxEZGbGTERkZsZMRGRmxkxEZGbGTERkZsZKyryFhXkbFBIGNdRebvK9u4qrG0s8vLyw8zM5ZVLG272+32llUUPGcjIzYyYiMjNjJiIyM2MmIjIzYyYiMjNjJiIyM2MmIjIzYyYiNz9nXoMmPswsK8Fk7G4IWMKxsZgxcyBi9kPPogIzYyYiMjNjJiIyM2MmIjIzYyYiMjNjJiIyM2MmIjIzYyYiNj8ELGa+FkDF7I+JuNjNjIbDebzW+bzeb92gfh7dvOzK8z48ttWZzbKBmxkREbGbGRERsZsZERGxmxkREbGbGRERsZsZERGxmxkREbme3M/DEzn9Y+CG+fwQsZt1EyYiNj8ELG4IWM2ygZsZERGxmxkREbGbGRERsZsZERGxmxkREbGbGRERsZsZERGxmDFzIGL2TcRsmIjYzBCxmDFzJuo2TERkZsZMRGRmxkxEZGbGTERkZsZMRGRmxkxEZGbGTERkZsZAxeyBi8kHEbJSM2MmIjIzYyYiMjNjJiIyM2MmIjIzYyXwDmSlGWlzEfmgAAAABJRU5ErkJggg==\"></img></td>\n",
       "      <td id=\"T_96931_row5_col5\" class=\"data row5 col5\" >3<br>(0.1%)</td>\n",
       "    </tr>\n",
       "    <tr>\n",
       "      <td id=\"T_96931_row6_col0\" class=\"data row6 col0\" >7</td>\n",
       "      <td id=\"T_96931_row6_col1\" class=\"data row6 col1\" ><strong>room_type</strong><br>[object]</td>\n",
       "      <td id=\"T_96931_row6_col2\" class=\"data row6 col2\" >1. Entire home/apt<br>2. Private room<br>3. Shared room</td>\n",
       "      <td id=\"T_96931_row6_col3\" class=\"data row6 col3\" >2,103 (59.2%)<br>1,373 (38.6%)<br>79 (2.2%)</td>\n",
       "      <td id=\"T_96931_row6_col4\" class=\"data row6 col4\" ><img src = \"data:image/png;base64, iVBORw0KGgoAAAANSUhEUgAAAJsAAABFCAYAAABdVZTTAAAAOXRFWHRTb2Z0d2FyZQBNYXRwbG90bGliIHZlcnNpb24zLjUuMiwgaHR0cHM6Ly9tYXRwbG90bGliLm9yZy8qNh9FAAAACXBIWXMAAA9hAAAPYQGoP6dpAAABm0lEQVR4nO3bQWrCUBRG4RsJUicJQXAxWUQX20VkNyK+QRUn6aC21M49t/Seb+bsKQfDE/9uXdeQCJvsA6iOLiJ2EbHNPkght3VdL9mHyNDv9/vXYRim7INU0Vo7dV33VjG4fhiGaZ7nyziO1+zD/Hfn8/llWZbpeDxuI6JebBER4zheD4fDe/ZhithlHyCLFwRhjE0YYxPG2IQxNmGMTRhjE8bYhDE2YYxNGGMTxtiEMTZhjE2YPuLzf1bZB6mg+ufct9ZOy7JMUfh/VqTW2ikibtnnyOAGgVd2g9A55ROl4jdb2W+WbOXWVZXXTdlKrauqr5uyVVxXeetO4o+6whibMMYmjLEJY2zCGJswxiaMsQljbMIYmzDGJoyxCWNswhibMKXWVVXe519Vbl1Ved2UzQ2CMK6rhPGCIMzvx6iPGD3Nw5TPmZueafM15Zvn+XKPrtJlQaDvKd/9dYmfP5TDC4IwxiaMsQljbMIYmzDGJoyxCWNswhibMMYmjLEJY2zCGJswxiZMqSmfcv2c8jlz01O5QRDGKZ8wH+NelusEtwU+AAAAAElFTkSuQmCC\"></img></td>\n",
       "      <td id=\"T_96931_row6_col5\" class=\"data row6 col5\" >0<br>(0.0%)</td>\n",
       "    </tr>\n",
       "    <tr>\n",
       "      <td id=\"T_96931_row7_col0\" class=\"data row7 col0\" >8</td>\n",
       "      <td id=\"T_96931_row7_col1\" class=\"data row7 col1\" ><strong>accommodates</strong><br>[int64]</td>\n",
       "      <td id=\"T_96931_row7_col2\" class=\"data row7 col2\" >Mean (sd) : 3.0 (1.8)<br>min < med < max:<br>1.0 < 2.0 < 16.0<br>IQR (CV) : 2.0 (1.7)</td>\n",
       "      <td id=\"T_96931_row7_col3\" class=\"data row7 col3\" >14 distinct values</td>\n",
       "      <td id=\"T_96931_row7_col4\" class=\"data row7 col4\" ><img src = \"data:image/png;base64, iVBORw0KGgoAAAANSUhEUgAAAKoAAABGCAYAAABc8A97AAAAOXRFWHRTb2Z0d2FyZQBNYXRwbG90bGliIHZlcnNpb24zLjUuMiwgaHR0cHM6Ly9tYXRwbG90bGliLm9yZy8qNh9FAAAACXBIWXMAAA9hAAAPYQGoP6dpAAACXklEQVR4nO3dvY7aQBhG4W/CjwxEtgAJOm4gUgpK+rS52LTpUnAF3AEdEgIjnHUwximSXa2UTYAxBL/Weer14OIIxqPZsSuKwoCqe/foGwAu0Tz3B865jpm1Pcc/FEXx5Hkt8OKfoTrnOsPh8HMYhn2fwXe73cY594VYUda5b9R2GIb92Wz2FEVRes3AcRwH8/m8v16v22ZGqCjl7E+/mVkUReloNPruMX7H4xrgDzxMQQKhQgKhQgKhQgKhQgKhQgKhQgKhQgKhQgKhQgKhQgKhQgKhQgKhQgKhQgKhQgKhQgKhQgKhQgKhQgKhQgKhQgKhQgKhQgKhQgKhQgKhQgKhQgKhQgKhQgKhQgKhQsJFB/k+Cu8PwLPKhsr7A/BaZUM13h+AV6ocqpnx/gD8wsMUJBAqJBAqJBAqJBAqJBAqJBAqJBAqJBAqJBAqJBAqJBAqJNx1U0qe5y0zC51zPpeHp9OpdeNbgqi7hZokSSvLso+TyaTRaDSu2qZnZpZlWZDn+Yc0Tb+Zmc/uKdTI3UI9HA7NIAi60+k0HY/Hm2uvXy6X/cVi0T0ej4173B+03H0/aq/X89pPutls2E+KFzxMQQKhQgKhQgKhQkLl/7nPV8k1XDPOBaiUWoZadg3XjHMBqqaWoZZdw+VcgOqpZajPfNdwf2Mdt0JqHWoZJee4zG9vjFDfUHaOy/z29gj1DWXmuGXntyVPMDSr6bf5RaHGcRxcO/B+vw/MzJIkCVarVfd/Xn+rz/aV53nT/KYNwWAw+BRF0Xvfz95ut3vn3Fcz81rteKAfRVH89Z5/AsHx6r/o2y2IAAAAAElFTkSuQmCC\"></img></td>\n",
       "      <td id=\"T_96931_row7_col5\" class=\"data row7 col5\" >0<br>(0.0%)</td>\n",
       "    </tr>\n",
       "    <tr>\n",
       "      <td id=\"T_96931_row8_col0\" class=\"data row8 col0\" >9</td>\n",
       "      <td id=\"T_96931_row8_col1\" class=\"data row8 col1\" ><strong>bathrooms</strong><br>[float64]</td>\n",
       "      <td id=\"T_96931_row8_col2\" class=\"data row8 col2\" >Mean (sd) : 1.2 (0.5)<br>min < med < max:<br>0.0 < 1.0 < 6.0<br>IQR (CV) : 0.0 (2.5)</td>\n",
       "      <td id=\"T_96931_row8_col3\" class=\"data row8 col3\" >11 distinct values</td>\n",
       "      <td id=\"T_96931_row8_col4\" class=\"data row8 col4\" ><img src = \"data:image/png;base64, iVBORw0KGgoAAAANSUhEUgAAAKoAAABGCAYAAABc8A97AAAAOXRFWHRTb2Z0d2FyZQBNYXRwbG90bGliIHZlcnNpb24zLjUuMiwgaHR0cHM6Ly9tYXRwbG90bGliLm9yZy8qNh9FAAAACXBIWXMAAA9hAAAPYQGoP6dpAAACf0lEQVR4nO3ZsW7aUBSH8XMKoRcSXceiIhtrhkodMrL0DfKwXbt1YI+UN8gWiYARBAcC7tStVWsbB//T77efq4P0CfvKXhSFAW334dQLAP+i2+Th7t43s16NI7ZFUWyOtQ90NRaqu/eHw+FtjDGtesZyuZy7+zdiRZP/qL0YYzqZTDZJkuRlh7MsC9PpNJ3NZj0zI9T/XKOPfjOzJEny0Wj0XHG8f9RlIIvLFCQQKiQQKiQQKiQQKiQQKiQQKiQQKiQQKiQQKiQQKiQQKiQQKiQQKiQQKiQQKiQQKiQQKiQQKiQQKiQQKiQQKiQQKiQQKiQQKiQQKiQQKiQQKiQQKiQQKiQQKiQQKiQQKiQQKiQQKiQQKiQQKiQQKiQQKiQQKiQQKiQQKiQQKiQQKiQQKiQQKiQQKiQQKiQQKiQQKiQQKiQQKiR0T71AU9y9b2a9Gkdsi6LYHGsf1PMuQ3X3/nA4vI0xplXPWC6Xc3f/Rqzt8C5DNbNejDGdTCabJEnyssNZloXpdJrOZrOemRFqC7zXUM3MLEmSfDQaPVcc7x91GdTCZQoSCBUSWv3o3+/3Z2YW3b3saDwcDmcNrIQTaW2o6/X6bLfbfRmPx51Op1PqQrTb7cJ+v/+c5/kPM6v6jooWaW2o2+22G0IY3Nzc5FdXV/Mysw8PD+n9/f3g9fW109R+eFutDfWX8/Pz0jf3+Xxe+8Ze47XDjI8FR9f6UE+hzmuHmdlisVi5+3czKz1rRP5bfw3V3YOZfaxwdjwcDt0sy0KFWVutVsHMbL1eh8fHx8FbzZqZPT09XYQQBtfX1355eflSZnaxWFzc3d19HY/Hn04QubKXoij++Jt/ApF/r0yvQvePAAAAAElFTkSuQmCC\"></img></td>\n",
       "      <td id=\"T_96931_row8_col5\" class=\"data row8 col5\" >14<br>(0.4%)</td>\n",
       "    </tr>\n",
       "    <tr>\n",
       "      <td id=\"T_96931_row9_col0\" class=\"data row9 col0\" >10</td>\n",
       "      <td id=\"T_96931_row9_col1\" class=\"data row9 col1\" ><strong>bedrooms</strong><br>[float64]</td>\n",
       "      <td id=\"T_96931_row9_col2\" class=\"data row9 col2\" >1. 1.0<br>2. 2.0<br>3. 0.0<br>4. 3.0<br>5. 4.0<br>6. 5.0<br>7. nan</td>\n",
       "      <td id=\"T_96931_row9_col3\" class=\"data row9 col3\" >2,367 (66.6%)<br>688 (19.4%)<br>287 (8.1%)<br>149 (4.2%)<br>41 (1.2%)<br>13 (0.4%)<br>10 (0.3%)</td>\n",
       "      <td id=\"T_96931_row9_col4\" class=\"data row9 col4\" ><img src = \"data:image/png;base64, iVBORw0KGgoAAAANSUhEUgAAAJsAAAChCAYAAADQgM1HAAAAOXRFWHRTb2Z0d2FyZQBNYXRwbG90bGliIHZlcnNpb24zLjUuMiwgaHR0cHM6Ly9tYXRwbG90bGliLm9yZy8qNh9FAAAACXBIWXMAAA9hAAAPYQGoP6dpAAADG0lEQVR4nO3dTU7bUBiG0c9WRJuJoygSS2hnLIBFsNguIgtg2D0ghAcNdJIOSv/ET0QUv7cy56zgSjzYceQXuv1+X5DQtz4A74fYiBEbMWIjRmzEdFW1rKqz1gfhWd/3+/2u9SFOZbHZbK6GYVi3PghPjeN423Xdl7kEtxiGYX15eblbrVb3rQ/DH3d3dx+32+365ubmrKrmEVtV1Wq1uj8/P//W+jA8sWx9gFPygECM2IgRGzFiI0ZsxIiNGLERIzZixEaM2IgRGzFiI0ZsxCyqfr7O0vog/GuOP5PFOI632+12XTN7nWUOxnG8rarvrc9xKl4L/7/N6rXwziKelJZXtln91nJYs8HL3MYcHNZk8DLHMQeHtRy8ePp9Z3ypS4zYiBEbMWIjRmzEiI0YsREjNmLERozYiBEbMWIjRmzEiI2YJuuqOS6HOKzZumpuyyEOs0EgxrqKmGOvbK5KvNlR6yrLKI7x5nWVZRTHOnZdZRnFm/lSlxixESM2YsRGjNiIERsxYiNGbMSIjRixESM2YsRGjNiIefPgxViFYx01eDFW4RheCyfG4IUYDwjEvHYbdavkpF5cV1lQcWrPrqssqJjCa+sqCypOygMCMWIjRmzEiI0YsREjNmLERozYiBEbMWIjRmzEiI0YsRHz7LrKgoopvLiusqDi1LwWTox1FTF/X9lcyZjU78GLgQtT64dhWF9cXNTjwqrFv4LkneirqpbL5UPrgzB/vtQlRmzEiI0YsREjNmLERozYiBEbMWIjRmzEiI0YsREjNmL6qqrdbveh9UGYv34cx9vr62sDFybntXBiDF6I8YBAzK/baLmFMrXFZrO5qqqyrGJq/TAMa8sqEnxmI0ZsxIiNGLERIzZixEaM2IgRGzFiI0ZsxIiNGLERIzZixEaM2IhZPK6qqiyrmJjXwomxriLGZzZi+q7rPndd5/+LMrm+qj5Vlb/1weTcRokRGzFiI0ZsxIiNGLERIzZixEaM2IgRGzFiI0ZsxIiNGLERIzZixEZMX1Vfq+qh9UGYP4MXYtxGiREbMWIjRmzEiI2YH6z0GgzddS5XAAAAAElFTkSuQmCC\"></img></td>\n",
       "      <td id=\"T_96931_row9_col5\" class=\"data row9 col5\" >10<br>(0.3%)</td>\n",
       "    </tr>\n",
       "    <tr>\n",
       "      <td id=\"T_96931_row10_col0\" class=\"data row10 col0\" >11</td>\n",
       "      <td id=\"T_96931_row10_col1\" class=\"data row10 col1\" ><strong>beds</strong><br>[float64]</td>\n",
       "      <td id=\"T_96931_row10_col2\" class=\"data row10 col2\" >Mean (sd) : 1.6 (1.0)<br>min < med < max:<br>0.0 < 1.0 < 16.0<br>IQR (CV) : 1.0 (1.6)</td>\n",
       "      <td id=\"T_96931_row10_col3\" class=\"data row10 col3\" >11 distinct values</td>\n",
       "      <td id=\"T_96931_row10_col4\" class=\"data row10 col4\" ><img src = \"data:image/png;base64, iVBORw0KGgoAAAANSUhEUgAAAKoAAABGCAYAAABc8A97AAAAOXRFWHRTb2Z0d2FyZQBNYXRwbG90bGliIHZlcnNpb24zLjUuMiwgaHR0cHM6Ly9tYXRwbG90bGliLm9yZy8qNh9FAAAACXBIWXMAAA9hAAAPYQGoP6dpAAACFklEQVR4nO3csW7aUBiG4f8vhBpQbRAJbF7ZOjCy9A56sV27w8htICQrGOFAsJC7NFWlqgUfC5Uvep+Zc+ThFZaXz6uqMuDeffjfDwBco33pB+7eNbNO4P2nqqoOgWeBX/4Zqrt3R6PR1ziOhyGX73a7Z3f/Rqxo6tI/aieO4+F8Pj8kSXKsc3Ge59FisRhmWdYxM0JFIxdf/WZmSZIcx+PxS8D93YAzwB/4mIIEQoUEQoUEQoUEQoUEQoUEQoUEQoUEQoUEQoUEQoUEQoUEQoUEQoUEQoUEQoUEQoUEQoUEQoUEQoUEQoUEQoUEQoUEQoUEQoUEQoWEqyZ9Qp3P5wczi9099ArWAGFmNwy1KIqHsiw/p2naarVatQbW3rAGiDc3C/V0OrWjKOrNZrPjZDJ5rnueNUD87qavfjOzfr8fugRoxhogfuJjChIIFRIIFRIIFRIIFRIIFRIIFRIIFRIIFRIIFRIIFRIIFRIIFRIIFRIIFRIIFRIIFRIIFRIIFRIIFRIIFRIIFRIIFRIIFRIIFRIIFRIIFRIIFRIIFRIIFRJuPjvZRMPFataq35G7DbXpYvV2u927+3czC1q7NkK/K3cbapPF6vV6/Wm5XH5J0/SRWfb34apQ8zyP6l683+8jM7OiKKLNZtMLPR+iLMt2FEW96XTqg8Hgte75w+HwcbVaPWVZ9ujuu9DnQC2vVVX99U/lB6yxmVAPT76zAAAAAElFTkSuQmCC\"></img></td>\n",
       "      <td id=\"T_96931_row10_col5\" class=\"data row10 col5\" >9<br>(0.3%)</td>\n",
       "    </tr>\n",
       "    <tr>\n",
       "      <td id=\"T_96931_row11_col0\" class=\"data row11 col0\" >12</td>\n",
       "      <td id=\"T_96931_row11_col1\" class=\"data row11 col1\" ><strong>bed_type</strong><br>[object]</td>\n",
       "      <td id=\"T_96931_row11_col2\" class=\"data row11 col2\" >1. Real Bed<br>2. Futon<br>3. Airbed<br>4. Pull-out Sofa<br>5. Couch</td>\n",
       "      <td id=\"T_96931_row11_col3\" class=\"data row11 col3\" >3,423 (96.3%)<br>51 (1.4%)<br>40 (1.1%)<br>31 (0.9%)<br>10 (0.3%)</td>\n",
       "      <td id=\"T_96931_row11_col4\" class=\"data row11 col4\" ><img src = \"data:image/png;base64, iVBORw0KGgoAAAANSUhEUgAAAJsAAABzCAYAAACPdnBjAAAAOXRFWHRTb2Z0d2FyZQBNYXRwbG90bGliIHZlcnNpb24zLjUuMiwgaHR0cHM6Ly9tYXRwbG90bGliLm9yZy8qNh9FAAAACXBIWXMAAA9hAAAPYQGoP6dpAAACTUlEQVR4nO3cQW7aUBSG0WsLpWFihJBYQjtjASwii+0iWADD7gEhPChJJs6gadVGUKkS/Jbcc4Ye3cEnOw+9m2YYhoKEduwB+H+IjRixEdNU1byqHsYehEl5HYbh/PHhbLVaPXVdtxxjIqap7/tj0zRfPwY367puud1uz4vF4nms4ZiO0+n0uNvtlofD4aGq/oytqmqxWDyv1+vvo0zHFM0vPXRAIEZsxIiNGLERIzZixEaM2IgRGzFiI0ZsxIiNGLERIzZiZlU/roWMPQjT8LeWZn3fH3e73bKuXAuBf9X3/bGqXj8+dy2ce7h4LbyxN0qKAwIxv39GL7764FZ+bVdd24iBW2m7rltuNpt6X+dzUOBu2qqq+Xz+MvYgTJ8DAjFiI0ZsxIiNGLERIzZixEaM2IgRGzFiI0ZsxIiNGLER01ZVnc/nT2MPwvS1fd8f9/v91Y0YuBXXwomxXUWMAwIxPqPE2K4ixnYVMbariHFAIEZsxIiNGLERIzZixEaM2IgRGzFiI0ZsxIiNGLERIzZibFcRY7uKGNfCibFdRczPN1t5q3Fvs9Vq9VRVZdmFe2u7rltadiHB72zEiI0YsREjNmLERozYiBEbMWIjRmzEiI0YsREjNmLERozYiBEbMWIjZva+VVVls4o7s4NAjO0qYvzNRkzbNM2Xpmkexx6E6Wur6nNV+V8f3J3PKDFiI0ZsxIiNGLERIzZixEaM2IgRGzFiI0ZsxIiNGLERIzZixEaM2Ihpq+pbVb2MPQjTZ+GFGJ9RYsRGjNiIeQOfLqAET4UDbQAAAABJRU5ErkJggg==\"></img></td>\n",
       "      <td id=\"T_96931_row11_col5\" class=\"data row11 col5\" >0<br>(0.0%)</td>\n",
       "    </tr>\n",
       "    <tr>\n",
       "      <td id=\"T_96931_row12_col0\" class=\"data row12 col0\" >13</td>\n",
       "      <td id=\"T_96931_row12_col1\" class=\"data row12 col1\" ><strong>Number of amenities</strong><br>[int64]</td>\n",
       "      <td id=\"T_96931_row12_col2\" class=\"data row12 col2\" >Mean (sd) : 14.9 (4.8)<br>min < med < max:<br>0.0 < 15.0 < 30.0<br>IQR (CV) : 6.0 (3.1)</td>\n",
       "      <td id=\"T_96931_row12_col3\" class=\"data row12 col3\" >31 distinct values</td>\n",
       "      <td id=\"T_96931_row12_col4\" class=\"data row12 col4\" ><img src = \"data:image/png;base64, iVBORw0KGgoAAAANSUhEUgAAAKoAAABGCAYAAABc8A97AAAAOXRFWHRTb2Z0d2FyZQBNYXRwbG90bGliIHZlcnNpb24zLjUuMiwgaHR0cHM6Ly9tYXRwbG90bGliLm9yZy8qNh9FAAAACXBIWXMAAA9hAAAPYQGoP6dpAAACrElEQVR4nO3dPW7iQBiA4W+WHw0g2eJH0HGBSFsg0XCALfewe4QtKLbmBnRICBnhhMUYbxFFYiWSgAfCfMP79ENcvArMeOwxRVEI4Ltv974A4BzVe19AiIwxDRGplxy+K4ri5ZrXEwJCvTJjTKPb7f6MoqhdZvx6vV4ZY34R6/8I9frqURS1J5PJSxzH20sGJklip9Npe7lc1kWEUI8Q6o3Ecbzt9/vPJYY2rn4xAWAyBRUIFSoQKlTgN+o7HJaYosPhULv29Tw6Qj3BZYkpyzKb5/nTdrv9LSJlJlM4gVBPK73ENJ/P27PZrLnf7yu3urhHRKgfKLPEtFqtWF66ASZTUIFQoQJf/Z7J87wmIpExpuxHBLmphVA9kqZpLcuy78PhsFKpVC6axL0JdVMLoXpkt9tVrbXN0Wi0HQwGq0vHh7yphVA91Gq1ym5oEQl0UwuTKahAqFCBUKECoUIFQoUKhAoVgl2ecnxkmT2lngkyVNdHltlT6p8gQxWH/aQi7Cn1Uaihikj5R5bZU+ofJlNQgVChAqFCBUKFCoQKFQgVKhAqVCBUqECoUIFQoQKhQgVChQqEChUIFSoEvc3vETm+u8rb91YRakBc313l83urCDUgLu+u8v29VYQaIId3V3n7ZAOTKahAqFCBUKECoUIFQoUKhAoVvF6e4jxSvPE2VM4jxTFvQxXOI8URn0MVEc4jxSsmU1CBUKECoUIFQoUKhAoVvJ/14+v4fAQ7oUJE/D+C/aahcoSOHr4fwf5pqA6x2U6n8yOO41aJsdwGvRNfj2D/MFTX++0i8jQej//0er31peO5DYpjn/1Hdb7fbq3NOEIHrs76jcr9dtzbWaEmSWIv/eDNZmNFRNI0tYvFovmV47X+ba3XLfLaSJ7nVSm/vPW3KIp3v7X/AcNceyGkaYJvAAAAAElFTkSuQmCC\"></img></td>\n",
       "      <td id=\"T_96931_row12_col5\" class=\"data row12 col5\" >0<br>(0.0%)</td>\n",
       "    </tr>\n",
       "    <tr>\n",
       "      <td id=\"T_96931_row13_col0\" class=\"data row13 col0\" >14</td>\n",
       "      <td id=\"T_96931_row13_col1\" class=\"data row13 col1\" ><strong>guests_included</strong><br>[int64]</td>\n",
       "      <td id=\"T_96931_row13_col2\" class=\"data row13 col2\" >Mean (sd) : 1.4 (1.1)<br>min < med < max:<br>0.0 < 1.0 < 14.0<br>IQR (CV) : 0.0 (1.4)</td>\n",
       "      <td id=\"T_96931_row13_col3\" class=\"data row13 col3\" >12 distinct values</td>\n",
       "      <td id=\"T_96931_row13_col4\" class=\"data row13 col4\" ><img src = \"data:image/png;base64, iVBORw0KGgoAAAANSUhEUgAAAKoAAABGCAYAAABc8A97AAAAOXRFWHRTb2Z0d2FyZQBNYXRwbG90bGliIHZlcnNpb24zLjUuMiwgaHR0cHM6Ly9tYXRwbG90bGliLm9yZy8qNh9FAAAACXBIWXMAAA9hAAAPYQGoP6dpAAACKUlEQVR4nO3avY7aQBSG4TP8ySzEFkIyHU36FJRcRC522/S+i/QIyQJbeCEgZ7baNFHCMsaJP/Z9aubIQq+M5gjnvTeg63r/+wGA9xhc+4Bzbmxmo8D5Z+/9MfAs8MtfQ3XOjefz+dc4jmchw8uy3DnnnokVTV17o47iOJ6t1+tjkiSnWwYXRRFlWTbL83xkZoSKRq7+9JuZJUlyStP0JWD+OOAM8BsuU5BAqJBAqJBAqJBAqJBAqJBAqJBAqJBAqJBAqJBAqJBAqJBAqJBAqJBAqJBAqJBAqJBAqJBAqJBAqJBAqJBAqJBAqJBAqJBAqJBAqJBAqJBAqJBAqJBAqJBAqJBAqJBAqJBAqJBAqJBAqJBAqJBAqJBAqJBAqJBAqJBAqJBAqJBAqJBAqJBAqJBAqJBAqJBAqJAwaHN4XddDM4udc6Ejzt774x0fCaJaC7WqquHlcvmyXC77/X7/FDKjLMudc+6ZWNFaqOfzeRBF0dNqtTotFovdreeLooiyLJvleT4yM0L94Fr96Tczm0wmpzRNXwKPj+/6MJDFZQoSCBUSCBUSCBUSWr9MNdFwD8sO9oF0NtSme1h2sI+ls6E22cOyg308nQ31TYM9LDvYB8JlChI6/0YNdYc/xPTM7GfgWS5yd/auUIuiiG4dfDgcIjOzqqqi7Xb79C/PbzabT00uYnVdD6uq+jydTr/3er3Lref3+/3BOffNzIL+jPNB/fDe//H7egUy5ajyyplB+AAAAABJRU5ErkJggg==\"></img></td>\n",
       "      <td id=\"T_96931_row13_col5\" class=\"data row13 col5\" >0<br>(0.0%)</td>\n",
       "    </tr>\n",
       "    <tr>\n",
       "      <td id=\"T_96931_row14_col0\" class=\"data row14 col0\" >15</td>\n",
       "      <td id=\"T_96931_row14_col1\" class=\"data row14 col1\" ><strong>price_per_extra_person</strong><br>[int64]</td>\n",
       "      <td id=\"T_96931_row14_col2\" class=\"data row14 col2\" >Mean (sd) : 10.9 (19.1)<br>min < med < max:<br>0.0 < 0.0 < 200.0<br>IQR (CV) : 20.0 (0.6)</td>\n",
       "      <td id=\"T_96931_row14_col3\" class=\"data row14 col3\" >51 distinct values</td>\n",
       "      <td id=\"T_96931_row14_col4\" class=\"data row14 col4\" ><img src = \"data:image/png;base64, iVBORw0KGgoAAAANSUhEUgAAAKoAAABGCAYAAABc8A97AAAAOXRFWHRTb2Z0d2FyZQBNYXRwbG90bGliIHZlcnNpb24zLjUuMiwgaHR0cHM6Ly9tYXRwbG90bGliLm9yZy8qNh9FAAAACXBIWXMAAA9hAAAPYQGoP6dpAAACJElEQVR4nO3dsW7aUBSH8XNKgkxobQGS2XiEDIzsXfuwWbv7WRCSBbZwIEbodmqXqgXsQPg732/mXhvpky1zLOEhBAPu3ZePPgHgHA+nPuDuAzPrN9y/DiHsGq4F/vhvqO4+mEwmP+I4HjXZvCzLtbu/ECvaOnVF7cdxPFosFrskSfaXbFwURZRl2SjP876ZESpaOXnrNzNLkmSfpulrg/0HDdYAf+FhChIIFRIIFRIIFRIIFRIIFRIIFRIIFRIIFRIIFRIIFRIIFRIIFRIIFRIIFRIIFRIIFRIIFRIIFRIIFRIIFRIIFRIIFRIIFRIIFRIIFRIIFRIIFRIIFRIIFRIIFRIIFRIIFRIIFRIIFRIIFRIIFRIIFRIIFRIIFRIIFRIIFRIIFRIIFRIIFRIIFRLO+hv0po7H46OZxe7edIs6hLB7x1OCqKuFWlXV4+FweJ7NZr1er7dvskdZlmt3fyFWXC3Uuq4foih6ms/n++l0ur50fVEUUZZlozzP+2ZGqJ/cVW/9ZmbD4XCfpulrw+WDdz0ZyOJhChIIFRIIFRIIFRIIFRIIFRIIFRKu/jtqGy1HsIxfO+RuQ207gmX82i13G2qbESzj1+6521B/azGCZfzaITxMQcLdX1Gb+sh3Yd19YGb9Wx+3y84KtSiK6NKNt9ttZGZWVVW0Wq2ebrl+uVx+a/su7Gaz2br7TzO7dH00Ho+/J0ny9cbHVfcWQvjnd/4F89GrKHMUSmkAAAAASUVORK5CYII=\"></img></td>\n",
       "      <td id=\"T_96931_row14_col5\" class=\"data row14 col5\" >0<br>(0.0%)</td>\n",
       "    </tr>\n",
       "    <tr>\n",
       "      <td id=\"T_96931_row15_col0\" class=\"data row15 col0\" >16</td>\n",
       "      <td id=\"T_96931_row15_col1\" class=\"data row15 col1\" ><strong>minimum_nights</strong><br>[int64]</td>\n",
       "      <td id=\"T_96931_row15_col2\" class=\"data row15 col2\" >Mean (sd) : 3.1 (8.3)<br>min < med < max:<br>1.0 < 2.0 < 300.0<br>IQR (CV) : 2.0 (0.4)</td>\n",
       "      <td id=\"T_96931_row15_col3\" class=\"data row15 col3\" >28 distinct values</td>\n",
       "      <td id=\"T_96931_row15_col4\" class=\"data row15 col4\" ><img src = \"data:image/png;base64, iVBORw0KGgoAAAANSUhEUgAAAKoAAABGCAYAAABc8A97AAAAOXRFWHRTb2Z0d2FyZQBNYXRwbG90bGliIHZlcnNpb24zLjUuMiwgaHR0cHM6Ly9tYXRwbG90bGliLm9yZy8qNh9FAAAACXBIWXMAAA9hAAAPYQGoP6dpAAABaUlEQVR4nO3XT2oCMRiH4aSI6GYGETyMh+hhewhvIyUuqi1Iuuum1D/jov3R59km+cjiZYbU3nuBv+7pty8At5hd21BrXZZS5hPnf/TejxPPwpeLodZal+v1+nkYhtWU4YfD4bXW+iJWHnXtizofhmG13W6P4zie7hncWlvsdrvVfr+fl1KEykOu/vpLKWUcx9Nms3mbMH854Qx84zFFBKESQahEECoRhEoEoRJBqEQQKhGESgShEkGoRBAqEYRKBKESQahEECoRhEoEoRJBqEQQKhGESgShEkGoRBAqEYRKBKESQahEECoRhEoEoRJBqEQQKhGESgShEkGoRBAqEYRKBKESQahEECoRhEoEoRJBqEQQKhGESgShEkGoRBAqEYRKBKESQahEECoRhEoEoRJBqEQQKhGESgShEkGoRBAqEYRKBKESQahEmN2yqbW2uHdwa21xPp9npZSh1nr3xfh33nvvp58WPwF79y3yrjldnwAAAABJRU5ErkJggg==\"></img></td>\n",
       "      <td id=\"T_96931_row15_col5\" class=\"data row15 col5\" >0<br>(0.0%)</td>\n",
       "    </tr>\n",
       "    <tr>\n",
       "      <td id=\"T_96931_row16_col0\" class=\"data row16 col0\" >17</td>\n",
       "      <td id=\"T_96931_row16_col1\" class=\"data row16 col1\" ><strong>number_of_reviews</strong><br>[int64]</td>\n",
       "      <td id=\"T_96931_row16_col2\" class=\"data row16 col2\" >Mean (sd) : 19.1 (35.7)<br>min < med < max:<br>0.0 < 5.0 < 404.0<br>IQR (CV) : 20.0 (0.5)</td>\n",
       "      <td id=\"T_96931_row16_col3\" class=\"data row16 col3\" >178 distinct values</td>\n",
       "      <td id=\"T_96931_row16_col4\" class=\"data row16 col4\" ><img src = \"data:image/png;base64, iVBORw0KGgoAAAANSUhEUgAAAKoAAABGCAYAAABc8A97AAAAOXRFWHRTb2Z0d2FyZQBNYXRwbG90bGliIHZlcnNpb24zLjUuMiwgaHR0cHM6Ly9tYXRwbG90bGliLm9yZy8qNh9FAAAACXBIWXMAAA9hAAAPYQGoP6dpAAACLUlEQVR4nO3Yu47aUBRG4X24yVxkg4hM5yYFXQpKmrxBHnba9O55gLwAksG28MCAnJMiUpooYWxAmT+zvpq9ZaFl+4Dz3hvw1nX+9QUAr9G79gHn3NDMBi33n733x5azwC9/DdU5N5zP51/CMJy1WV6W5d4590SsuNW1J+ogDMPZer0+RlF0arK4KIogTdNZlmUDMyNU3OTqq9/MLIqiUxzHzy32D1vMAL/hxxQkECokECokECokECokECokECokECokECokECokECokECokECokECokECokECokECokECokECokECokECokECokECokECokECokECokECokECokECokECokECokECokECokECokECokECokECokECokECokECokECokECokECokECokECokECokECokECokECokECokECokECokECokECokECokECokECok9B65vK7rvpmFzrm2K87e++MdLwmiHhZqVVX9y+XyKUmSbrfbPbXZUZbl3jn3RKx4WKjn87kXBMFotVqdFovFvul8URRBmqazLMsGZkao79xDX/1mZuPx+BTH8XPL8eFdLwayHh7qLW4843K+/Y+82VBvPePmeX5wzn01s1bnY/v5j8j3lrPcJHf2qlCLogiaLj4cDoGZWVVVwXa7HTWd3+12kyAIRsvl0k2n05cms3meTzabzeckST60ibyu635VVR8nk8m3TqdzaTp/h5vkPXrx3v/x+/oBoNaNeNQhs2kAAAAASUVORK5CYII=\"></img></td>\n",
       "      <td id=\"T_96931_row16_col5\" class=\"data row16 col5\" >0<br>(0.0%)</td>\n",
       "    </tr>\n",
       "    <tr>\n",
       "      <td id=\"T_96931_row17_col0\" class=\"data row17 col0\" >18</td>\n",
       "      <td id=\"T_96931_row17_col1\" class=\"data row17 col1\" ><strong>number_days_btw_first_last_review</strong><br>[int64]</td>\n",
       "      <td id=\"T_96931_row17_col2\" class=\"data row17 col2\" >Mean (sd) : 279.1 (408.7)<br>min < med < max:<br>0.0 < 92.0 < 2680.0<br>IQR (CV) : 402.0 (0.7)</td>\n",
       "      <td id=\"T_96931_row17_col3\" class=\"data row17 col3\" >953 distinct values</td>\n",
       "      <td id=\"T_96931_row17_col4\" class=\"data row17 col4\" ><img src = \"data:image/png;base64, iVBORw0KGgoAAAANSUhEUgAAAKoAAABGCAYAAABc8A97AAAAOXRFWHRTb2Z0d2FyZQBNYXRwbG90bGliIHZlcnNpb24zLjUuMiwgaHR0cHM6Ly9tYXRwbG90bGliLm9yZy8qNh9FAAAACXBIWXMAAA9hAAAPYQGoP6dpAAACZklEQVR4nO3dvY7aQBSG4TOwILMQI8TKdG7Sp6CkyR3kYrdNuRJcRXqEZBlbeCEgxymiTRMlwBgSf8771JwxxSv8M5ZwVVUZ0HSdf/0FgEs8nPuAc25gZn3P9Y9VVe09Z4Gf/hiqc24wnU4/hWE48Vk8z/PUOfdMrKjr3C9qPwzDyWKx2I/H48M1C2dZFiyXy0mSJH0zI1TUcvbUb2Y2Ho8PURS9eqw/8JgBfsHNFCQQKiQQKiQQKiQQKiQQKiQQKiQQKiQQKiQQKiQQKiQQKiQQKiQQKiQQKiQQKiQQKiQQKiQQKiQQKiQQKiQQKiQQKiQQKiQQKiQQKiQQKiQQKiQQKiQQKiQQKiQQKiQQKiQQKiQQKiQQKiQQKiQQKiQQKiQQKiQQKiQQKiQQKiQQKiQQKiRc9O/Svsqy7JlZ6JzzXeJYVRV/oY77hVoURe90On2I47jb7XYPPmvkeZ46556JFXcL9Xg8PgRB8Difzw+z2Sy9dj7LsmC5XE6SJOmbGaH+5+566jczGw6HhyiKXj3HBzf9MpDFzRQkECokECokECokECokECok3P3xVB01d7bY1WqRxoZad2eLXa12aWyodXa22NVqn8aG+qbGzha7Wi3S+FB98eZWu7Qy1Fu8ubXdbnfOuc9m5jNP5DfWylDrvrm1Xq/frVarj3EcP3Ej1wytDPWN7/VtmqaDOjdyLy8vUZIkT865/Npj249n29885m4x39gzwUWhZlkWXLvwbrcLzMyKogg2m83j35y/1bF97Pd778uOsix7RVG8H41GXzqdzunaY9edr3m5U9fXqqp+e9zvjRH6bBWH868AAAAASUVORK5CYII=\"></img></td>\n",
       "      <td id=\"T_96931_row17_col5\" class=\"data row17 col5\" >0<br>(0.0%)</td>\n",
       "    </tr>\n",
       "    <tr>\n",
       "      <td id=\"T_96931_row18_col0\" class=\"data row18 col0\" >19</td>\n",
       "      <td id=\"T_96931_row18_col1\" class=\"data row18 col1\" ><strong>review_scores_rating</strong><br>[float64]</td>\n",
       "      <td id=\"T_96931_row18_col2\" class=\"data row18 col2\" >Mean (sd) : 91.9 (9.5)<br>min < med < max:<br>20.0 < 94.0 < 100.0<br>IQR (CV) : 9.0 (9.6)</td>\n",
       "      <td id=\"T_96931_row18_col3\" class=\"data row18 col3\" >48 distinct values</td>\n",
       "      <td id=\"T_96931_row18_col4\" class=\"data row18 col4\" ><img src = \"data:image/png;base64, iVBORw0KGgoAAAANSUhEUgAAAKoAAABGCAYAAABc8A97AAAAOXRFWHRTb2Z0d2FyZQBNYXRwbG90bGliIHZlcnNpb24zLjUuMiwgaHR0cHM6Ly9tYXRwbG90bGliLm9yZy8qNh9FAAAACXBIWXMAAA9hAAAPYQGoP6dpAAACN0lEQVR4nO3dMY7aQBiG4X9IltjEskFoucAWFJE4AIfIYXOEFJyAliKis0DICO86C8Zpkigplo09OMtnvU9rfnmKt8Bm0Liqqgy4db23XgDwL96/9QLQHc650Mz6Dcefq6p6eukioeIqnHPheDz+HMfxqMn8fr/fOee+vBQroeJa+nEcj+bz+VOSJEWdwSzLgsViMdput30zI1S0L0mSYjKZPDYYDS9d5GEKEggVEggVEggVEggVEggVEggVEggVEggVEggVEggVEggVEggVEggVEggVEggVEggVEggVEggVEggVEggVEggVEggVEggVEggVEggVEggVEggVEggVEggVEggVEggVEggVEggVEggVEggVEggVEggVEggVEggVEggVEji5D795Hrobn8/nu2uu50+ECjPzP3T3eDwGZVl+Koriq5k1OWLyIkLFL40P3TUzW6/Xo+VyOTidTu/aWByh4i9ND93d7XYXD931xcMUJBAqJBAqJBAqJBAqJBAqJBAqJBAqJBAqJPDLVMd4bCxpdVOJL0LtEJ+NJW1vKvFFqN3SeGNJ25tKfBFqBzXZWNL2phJfPExBAqFCAqFCAt9RW+D536OemZ0bzt70KyYfhHplPq+IyrK8y/P8IYqiVa/XO9adv/VXTD5eDdU5F5jZh/+wlq6Ioyi6n81mpzAMv9cZ3Gw2wWq1up9Op9+Gw+Gh7o1/zg+yLPuYpulzndnD4RCYmeV5HqRpOqh7b5/5LMuC1z7zA4+3oSHvJff3AAAAAElFTkSuQmCC\"></img></td>\n",
       "      <td id=\"T_96931_row18_col5\" class=\"data row18 col5\" >800<br>(22.5%)</td>\n",
       "    </tr>\n",
       "    <tr>\n",
       "      <td id=\"T_96931_row19_col0\" class=\"data row19 col0\" >20</td>\n",
       "      <td id=\"T_96931_row19_col1\" class=\"data row19 col1\" ><strong>cancellation_policy</strong><br>[object]</td>\n",
       "      <td id=\"T_96931_row19_col2\" class=\"data row19 col2\" >1. strict<br>2. flexible<br>3. moderate<br>4. super_strict_30</td>\n",
       "      <td id=\"T_96931_row19_col3\" class=\"data row19 col3\" >1,564 (44.0%)<br>989 (27.8%)<br>919 (25.9%)<br>83 (2.3%)</td>\n",
       "      <td id=\"T_96931_row19_col4\" class=\"data row19 col4\" ><img src = \"data:image/png;base64, iVBORw0KGgoAAAANSUhEUgAAAJsAAABcCAYAAAB5jMeAAAAAOXRFWHRTb2Z0d2FyZQBNYXRwbG90bGliIHZlcnNpb24zLjUuMiwgaHR0cHM6Ly9tYXRwbG90bGliLm9yZy8qNh9FAAAACXBIWXMAAA9hAAAPYQGoP6dpAAAB9UlEQVR4nO3bQWrbUBiF0V/FhGYiYQxejBfRxXYR2o0J1iAJmaiDjIJDKSW60lPOWcHDfMg8odvN81yQ8GPtA/B9iI2Yrqoeq+ph7YNsyNs8zy9rH2KPDqfT6Vff98e1D7IV0zQ9dV33W3Bf79D3/fFyubwMw/C69mHWdrvdfo7jeLxerw9VJbYvdqiqGobh9Xw+P699mI14XPsAe+WCQIzYiBEbMWIjRmzEiI0YsREjNmLERozYiBEbMWIjRmzEHKreP61Z+yBb4HdY1mGapqdxHI/l05qqev94sqre1j7HHvks/J7PwhfSmfKR4oJATGt/o/7iGtbUusryqW3NrKssn9rX2rrK65mGuSAQIzZixEaM2IgRGzFiI0ZsxIiNGLERIzZixEaM2IgRGzFiI6aZKV8LZ+Tvmprymdm1zQaBGFM+Ylp4snma7cTm11UWVfux6XWVRdW+tLCu2vwtmX/jpS4xYiNGbMSIjRixESM2YsRGjNiIERsxYiNGbMSIjRixESM2Yja9rtrqufg/m19XWVTthw0CMdZVxHz2ZPMkYRF36yprJpbyYV1lzcSSPltXbfJWSvu81CVGbMSIjRixESM2YsRGjNiIERsxYiNGbMSIjRixESM2YsRGzId1lTUTS7pbV1kzsRQbBGKsq4hxQSDmD7NY2LkzRvDSAAAAAElFTkSuQmCC\"></img></td>\n",
       "      <td id=\"T_96931_row19_col5\" class=\"data row19 col5\" >0<br>(0.0%)</td>\n",
       "    </tr>\n",
       "    <tr>\n",
       "      <td id=\"T_96931_row20_col0\" class=\"data row20 col0\" >21</td>\n",
       "      <td id=\"T_96931_row20_col1\" class=\"data row20 col1\" ><strong>price</strong><br>[int64]</td>\n",
       "      <td id=\"T_96931_row20_col2\" class=\"data row20 col2\" >Mean (sd) : 166.1 (103.4)<br>min < med < max:<br>10.0 < 150.0 < 650.0<br>IQR (CV) : 134.0 (1.6)</td>\n",
       "      <td id=\"T_96931_row20_col3\" class=\"data row20 col3\" >301 distinct values</td>\n",
       "      <td id=\"T_96931_row20_col4\" class=\"data row20 col4\" ><img src = \"data:image/png;base64, iVBORw0KGgoAAAANSUhEUgAAAKoAAABGCAYAAABc8A97AAAAOXRFWHRTb2Z0d2FyZQBNYXRwbG90bGliIHZlcnNpb24zLjUuMiwgaHR0cHM6Ly9tYXRwbG90bGliLm9yZy8qNh9FAAAACXBIWXMAAA9hAAAPYQGoP6dpAAACuklEQVR4nO3dPW/aUBSA4XMhIPMhE0QEm5cODJU6MLL0H/THdu0WJHYk1k5sSOZLuKEYQ4cqU1LA13Z7j/s++wUPb4zt2MfmcrkI4LrKv94A4B4PRX64MaYhIvUMH3G8XC4veW0P9CosVGNMo9frffF9v2v7Gbvdbm2M+UqsKHKPWvd9vzsej186nc4h7eLtdutNp9NuGIZ1ESHU/1yhP/0iIp1O59Dv939YLm/kujFQi5MpqECoUKHwn/4skiSpiYhvjLFZzhWDEnE21CiKanEcfwqCoFqtVlOfjHHFoFycDfV4PD54ntccjUaHwWCwTrOWKwbl42yor1qtlu1VA64YlAgnU1CBUKECoUIFQoUKhAoVCBUqECpUIFSoQKhQgVChAqFCBUKFCoQKFQgVKhAqVCBUqHDzxukM00788/lcs1gHvHE11CzTTuI49pIk+Xg4HJ5FxPa5fkBEbu9RraedLBaL7nw+b55Op2qG7QNE5M5npmymnazXa55ZQm44mYIKhAoVCBUqECpUIFSoQKhQgVChAqFCBUKFCoQKFZwfO2kr47RqESZWO6WUoWadVi3CxGrXlDLULNOqRZhY7aJShvoqw7RqESZWO4WTKahAqFCBUKFCqY9Rs+BlbG4h1HfwMjb3EOo7eBmbewj1Cl7G5g5OpqACoUIFQoUKhAoVCBUqECpUIFSoQKhQgVChAv+ZKgA3tOSPUHPGDS3FINSccUNLMQi1ILY3tCRJ4guPeb9BqA7hMe8/I1SH5PGY92Qy6Ydh+GSM2dlsgquBE6qDbA8bsu6RN5vN3hjzTUSs9uby+3Ln2XLt1T+Su0Ldbrde2m/d7/eeiEgURd5yuWz+zfVavzvrdq9Wq7bnec3hcGgeHx9/plm72Wzas9nscxAETzaRJ0lSi6LoQ7vd/l6pVOK0628dsvwCOrl2jUUtXSoAAAAASUVORK5CYII=\"></img></td>\n",
       "      <td id=\"T_96931_row20_col5\" class=\"data row20 col5\" >0<br>(0.0%)</td>\n",
       "    </tr>\n",
       "    <tr>\n",
       "      <td id=\"T_96931_row21_col0\" class=\"data row21 col0\" >22</td>\n",
       "      <td id=\"T_96931_row21_col1\" class=\"data row21 col1\" ><strong>price_gte_150</strong><br>[int64]</td>\n",
       "      <td id=\"T_96931_row21_col2\" class=\"data row21 col2\" >Mean (sd) : 0.5 (0.5)<br>min < med < max:<br>0.0 < 1.0 < 1.0<br>IQR (CV) : 1.0 (1.0)</td>\n",
       "      <td id=\"T_96931_row21_col3\" class=\"data row21 col3\" >2 distinct values</td>\n",
       "      <td id=\"T_96931_row21_col4\" class=\"data row21 col4\" ><img src = \"data:image/png;base64, iVBORw0KGgoAAAANSUhEUgAAAKoAAABGCAYAAABc8A97AAAAOXRFWHRTb2Z0d2FyZQBNYXRwbG90bGliIHZlcnNpb24zLjUuMiwgaHR0cHM6Ly9tYXRwbG90bGliLm9yZy8qNh9FAAAACXBIWXMAAA9hAAAPYQGoP6dpAAABdElEQVR4nO3XT2rCQBiH4ZkSRDcJIngYD9HD9hDeRsq4qKWg6abragKh/cnzrL/5s3iZkDqOY4H/7uWvLwCP6O4N1Fo3pZTVzP2/xnG8zFxLmCVb+TXUWutmt9u99n2/nXPy+Xx+r7W+ifX5Ld3KvRd11ff99nA4XIZh+JxycGttfTwet6fTaVVKEerzW7SVu5/+UkoZhuFzv99/TDn8x2bGGoIt1YqfKSIIlQhCJYJQiSBUIgiVCEIlglCJIFQiCJUIQiWCUIkgVCIIlQhCJYJQiSBUIgiVCEIlglCJIFQiCJUIQiWCUIkgVCIIlQhCJYJQiSBUIgiVCEIlglCJIFQiCJUIQiWCUIkgVCIIlQhCJYJQiSBUIgiVCEIlglCJIFQiCJUIQiWCUIkgVCIIlQhCJYJQiSBUIgiVCEIlglCJIFQiCJUIQiWCUIkgVCIIlQhCJUL3yFBrbT1149ba+nq9dqWUvtY6+WLE6W+3Wze3lXsz34wFTnUdaiT+AAAAAElFTkSuQmCC\"></img></td>\n",
       "      <td id=\"T_96931_row21_col5\" class=\"data row21 col5\" >0<br>(0.0%)</td>\n",
       "    </tr>\n",
       "    <tr>\n",
       "      <td id=\"T_96931_row22_col0\" class=\"data row22 col0\" >23</td>\n",
       "      <td id=\"T_96931_row22_col1\" class=\"data row22 col1\" ><strong>price_category</strong><br>[object]</td>\n",
       "      <td id=\"T_96931_row22_col2\" class=\"data row22 col2\" >1. btw_$75-$150<br>2. btw_$151-$225<br>3. gte_226<br>4. lte_$75</td>\n",
       "      <td id=\"T_96931_row22_col3\" class=\"data row22 col3\" >1,187 (33.4%)<br>828 (23.3%)<br>807 (22.7%)<br>733 (20.6%)</td>\n",
       "      <td id=\"T_96931_row22_col4\" class=\"data row22 col4\" ><img src = \"data:image/png;base64, iVBORw0KGgoAAAANSUhEUgAAAJsAAABcCAYAAAB5jMeAAAAAOXRFWHRTb2Z0d2FyZQBNYXRwbG90bGliIHZlcnNpb24zLjUuMiwgaHR0cHM6Ly9tYXRwbG90bGliLm9yZy8qNh9FAAAACXBIWXMAAA9hAAAPYQGoP6dpAAAB7klEQVR4nO3bMWrjQACF4dEiQtJIGIMP40PsYfcQuo0xVpGENEqR0unWfjOMvu8EY/iRGaE3bNtWIOFP7QOwH2IjZiilvJVSXmof5IG+tm37qH0I7o3H4/HvNE2H2gd5lHVdr8Mw/BNce8Zpmg7n8/ljnufP2of5X7fb7XVZlsPlcnkppYitMWMppczz/Hk6nd5rH+ZB3mofgN+5IBAjNmLERozYiBEbMWIjRmzEiI0YsREjNmLERozYiBEbMWMpP5/m1D7II/TyO3o1rut6XZblUDr5NGdd12sp5av2Objns3BiBlM+UlwQiGnxb9TfYKeaW1dZR/WrqXWVdVTfWlxXdfEKhnsuCMSIjRixESM2YsRGjNiIERsxYiNGbMSIjRixESM2YsRGjNiIaWrK18o5eI7mpnymeP2yQSDGlI+Y1p5snmoda2pdZVnVt2bWVZZV/WttXdXEjZjn8FKXGLERIzZixEaM2IgRGzFiI0ZsxIiNGLERIzZixEaM2IgRGzHNrKtaOAPP1dS6yrKqbzYIxFhXEdPCk83TbCeqr6ssqvaj6rrKompfWlhXVb8Fk+GlLjFiI0ZsxIiNGLERIzZixEaM2IgRGzFiI0ZsxIiNGLERIzZiqq6rLKr2pfq6yqJqP2wQiLGuIsYFgZhvs1jYuTtZiZQAAAAASUVORK5CYII=\"></img></td>\n",
       "      <td id=\"T_96931_row22_col5\" class=\"data row22 col5\" >0<br>(0.0%)</td>\n",
       "    </tr>\n",
       "  </tbody>\n",
       "</table>\n"
      ],
      "text/plain": [
       "<pandas.io.formats.style.Styler at 0x1ecd670c550>"
      ]
     },
     "execution_count": 6,
     "metadata": {},
     "output_type": "execute_result"
    }
   ],
   "source": [
    "# there are many ways we could explore our data. A rather new library available is called \n",
    "# jupyter-summarytools this library provides functions that provide very thorough summaries \n",
    "# of your data. Though such detail is not always required, there are times when you want a \n",
    "# thorough summary\n",
    "\n",
    "# jupyter-summary tools is not part of the standard anaconda distribution of python, nor \n",
    "# is it in any conda channels. To install this library, you need to install it from the \n",
    "# terminal/command line using pip pip install jupyter-summarytools\n",
    "\n",
    "# once installed, you can import this library and use dfSummary to provide a more thorough \n",
    "# summary of your data\n",
    "import summarytools\n",
    "from summarytools import dfSummary\n",
    "dfSummary(airbnb)"
   ]
  },
  {
   "cell_type": "code",
   "execution_count": 7,
   "metadata": {},
   "outputs": [
    {
     "data": {
      "text/plain": [
       "host_is_superhost                      0\n",
       "host_identity_verified                 0\n",
       "neighbourhood_cleansed                 0\n",
       "latitude                               0\n",
       "longitude                              0\n",
       "property_type                          3\n",
       "room_type                              0\n",
       "accommodates                           0\n",
       "bathrooms                             14\n",
       "bedrooms                              10\n",
       "beds                                   9\n",
       "bed_type                               0\n",
       "Number of amenities                    0\n",
       "guests_included                        0\n",
       "price_per_extra_person                 0\n",
       "minimum_nights                         0\n",
       "number_of_reviews                      0\n",
       "number_days_btw_first_last_review      0\n",
       "review_scores_rating                 800\n",
       "cancellation_policy                    0\n",
       "price                                  0\n",
       "price_gte_150                          0\n",
       "price_category                         0\n",
       "dtype: int64"
      ]
     },
     "execution_count": 7,
     "metadata": {},
     "output_type": "execute_result"
    }
   ],
   "source": [
    "# Check the missing values by summing the total na's for each variable\n",
    "airbnb.isna().sum()"
   ]
  },
  {
   "cell_type": "code",
   "execution_count": 8,
   "metadata": {},
   "outputs": [
    {
     "data": {
      "text/plain": [
       "['neighbourhood_cleansed',\n",
       " 'property_type',\n",
       " 'room_type',\n",
       " 'bed_type',\n",
       " 'cancellation_policy',\n",
       " 'price_category']"
      ]
     },
     "execution_count": 8,
     "metadata": {},
     "output_type": "execute_result"
    }
   ],
   "source": [
    "# create a list of these catagorical variables\n",
    "category_var_list = list(airbnb.select_dtypes(include='object').columns)\n",
    "category_var_list"
   ]
  },
  {
   "cell_type": "code",
   "execution_count": 9,
   "metadata": {},
   "outputs": [
    {
     "name": "stdout",
     "output_type": "stream",
     "text": [
      "Category: neighbourhood_cleansed Values: ['Roslindale' 'Jamaica Plain' 'Mission Hill' 'Longwood Medical Area'\n",
      " 'Bay Village' 'Leather District' 'Chinatown' 'North End' 'Roxbury'\n",
      " 'South End' 'Back Bay' 'East Boston' 'Charlestown' 'West End'\n",
      " 'Beacon Hill' 'Downtown' 'Fenway' 'Brighton' 'West Roxbury' 'Hyde Park'\n",
      " 'Mattapan' 'Dorchester' 'South Boston Waterfront' 'South Boston'\n",
      " 'Allston']\n",
      "Category: property_type Values: ['House' 'Apartment' 'Condominium' 'Villa' 'Bed & Breakfast' 'Townhouse'\n",
      " 'Entire Floor' 'Loft' 'Guesthouse' 'Boat' 'Dorm' 'Other' nan 'Camper/RV']\n",
      "Category: room_type Values: ['Entire home/apt' 'Private room' 'Shared room']\n",
      "Category: bed_type Values: ['Real Bed' 'Pull-out Sofa' 'Futon' 'Airbed' 'Couch']\n",
      "Category: cancellation_policy Values: ['moderate' 'flexible' 'strict' 'super_strict_30']\n",
      "Category: price_category Values: ['gte_226' 'lte_$75' 'btw_$75-$150' 'btw_$151-$225']\n"
     ]
    }
   ],
   "source": [
    "# explore the categorical variable values - often there are typos here that need to be fixed.\n",
    "for cat in category_var_list: # generally, we want to avoid for loops and use a functional style (i.e. list comprehension)\n",
    "    print(f\"Category: {cat} Values: {airbnb[cat].unique()}\")"
   ]
  },
  {
   "cell_type": "markdown",
   "metadata": {},
   "source": [
    "### Summary the findings from our initial evaluation of the data\n",
    "\n",
    "* We have 6 categorical variables\n",
    "* We have 3 variables that have missing values\n",
    "* There doesn't seem to be a problem with the catogorical class names."
   ]
  },
  {
   "cell_type": "markdown",
   "metadata": {
    "tags": []
   },
   "source": [
    "## 4.0 Process the data\n",
    "\n",
    "* Conduct any data prepartion that should be done *BEFORE* the data split.\n",
    "* Split the data.\n",
    "* Conduct any data preparation that should be done *AFTER* the data split."
   ]
  },
  {
   "cell_type": "markdown",
   "metadata": {},
   "source": [
    "### 4.1  Conduct any data prepartion that should be done *BEFORE* the data split\n",
    "\n",
    "Tasks at this stage include:\n",
    "1. Drop any columns/features \n",
    "2. Decide if you with to exclude any observations (rows) due to missing na's.\n",
    "2. Conduct proper encoding of categorical variables\n",
    "    1. You can transform them using dummy variable encoding, one-hot-encoding, or label encoding. "
   ]
  },
  {
   "cell_type": "markdown",
   "metadata": {},
   "source": [
    "#### Drop any columns/variables we will not be using"
   ]
  },
  {
   "cell_type": "code",
   "execution_count": 10,
   "metadata": {},
   "outputs": [],
   "source": [
    "# Our target is price; but there are three related price variableds - price, price_gte_150, \n",
    "# and price_category. We need to drop price_gte_150, and price_category\n",
    "airbnb.drop(['price_category', 'price_gte_150'], axis=1, inplace = True)"
   ]
  },
  {
   "cell_type": "markdown",
   "metadata": {},
   "source": [
    "#### Drop observations with too many NA's"
   ]
  },
  {
   "cell_type": "markdown",
   "metadata": {
    "tags": []
   },
   "source": [
    "If we want to remove the rows with NA's use the following code that is commented out. For this exercise - we will not drop rows with NA's "
   ]
  },
  {
   "cell_type": "code",
   "execution_count": 11,
   "metadata": {},
   "outputs": [],
   "source": [
    "# If we want to remove rows with NA's use the following code:\n",
    "# airbnb.dropna(axis=0, inplace=True)"
   ]
  },
  {
   "cell_type": "code",
   "execution_count": 12,
   "metadata": {},
   "outputs": [],
   "source": [
    "# verify that there are now no missing values\n",
    "# airbnb.isna().sum()"
   ]
  },
  {
   "cell_type": "code",
   "execution_count": 13,
   "metadata": {},
   "outputs": [],
   "source": [
    "# investigage how many rows remain \n",
    "# airbnb.shape"
   ]
  },
  {
   "cell_type": "markdown",
   "metadata": {},
   "source": [
    "#### Encode our categorical variables"
   ]
  },
  {
   "cell_type": "markdown",
   "metadata": {},
   "source": [
    "Categorical variables usually have strings for their values. Many machine learning algorithms do not support string values for the input variables. Therefore, we need to replace these string values with numbers. This process is called categorical variable encoding.\n",
    "\n",
    "In a previous step we identified 5 catagorical variables and found no indication of typos in the class names. Our focus is now on encoding the variables. \n",
    "\n",
    "We have three main approaches to encoding variables (these will be discussed in greater detail in class)\n",
    "* One-Hot-Encoding\n",
    "* Dummy Encoding\n",
    "* Label Encoding\n",
    "\n",
    "In this exercise; we will dummy encode neighbourhood_cleansed, property_type using dummy encoding, and room_type, bed_type and cancelation policy using label encoding. (we will have more discussion on these choices in class)."
   ]
  },
  {
   "cell_type": "markdown",
   "metadata": {},
   "source": [
    "Before we do our encoding, we must identify if any of our categorical variables have a missing value. We will replace any missing values with the term 'unkown'."
   ]
  },
  {
   "cell_type": "code",
   "execution_count": 14,
   "metadata": {},
   "outputs": [
    {
     "data": {
      "text/plain": [
       "3"
      ]
     },
     "execution_count": 14,
     "metadata": {},
     "output_type": "execute_result"
    }
   ],
   "source": [
    "airbnb['property_type'].isna().sum() # check for missing values in this variable/column - we can see there are three for this variable"
   ]
  },
  {
   "cell_type": "code",
   "execution_count": 15,
   "metadata": {},
   "outputs": [],
   "source": [
    "airbnb[\"property_type\"].fillna(\"unkown\", inplace = True)"
   ]
  },
  {
   "cell_type": "code",
   "execution_count": 16,
   "metadata": {},
   "outputs": [
    {
     "data": {
      "text/plain": [
       "0"
      ]
     },
     "execution_count": 16,
     "metadata": {},
     "output_type": "execute_result"
    }
   ],
   "source": [
    "airbnb['neighbourhood_cleansed'].isna().sum() "
   ]
  },
  {
   "cell_type": "code",
   "execution_count": 17,
   "metadata": {},
   "outputs": [
    {
     "data": {
      "text/plain": [
       "0"
      ]
     },
     "execution_count": 17,
     "metadata": {},
     "output_type": "execute_result"
    }
   ],
   "source": [
    "airbnb['room_type'].isna().sum() # can see by the results below, no missing values"
   ]
  },
  {
   "cell_type": "code",
   "execution_count": 18,
   "metadata": {},
   "outputs": [
    {
     "data": {
      "text/plain": [
       "0"
      ]
     },
     "execution_count": 18,
     "metadata": {},
     "output_type": "execute_result"
    }
   ],
   "source": [
    "airbnb['bed_type'].isna().sum() # can see by the results below, no missing values"
   ]
  },
  {
   "cell_type": "code",
   "execution_count": 19,
   "metadata": {},
   "outputs": [
    {
     "data": {
      "text/plain": [
       "0"
      ]
     },
     "execution_count": 19,
     "metadata": {},
     "output_type": "execute_result"
    }
   ],
   "source": [
    "airbnb['cancellation_policy'].isna().sum() # can see by the results below, no missing values"
   ]
  },
  {
   "cell_type": "markdown",
   "metadata": {
    "tags": []
   },
   "source": [
    "Now, let's encode neighborhood_cleansed and property_type as dummy variables and room_type, bed_type and cancelation_policy labeled (numeric)"
   ]
  },
  {
   "cell_type": "code",
   "execution_count": 20,
   "metadata": {},
   "outputs": [],
   "source": [
    "dummies_df = pd.get_dummies(airbnb['neighbourhood_cleansed'], prefix='neighbourhood_cleansed', drop_first=True)"
   ]
  },
  {
   "cell_type": "code",
   "execution_count": 21,
   "metadata": {},
   "outputs": [],
   "source": [
    "airbnb = airbnb.join(dummies_df)\n",
    "airbnb.drop('neighbourhood_cleansed', axis=1, inplace = True)"
   ]
  },
  {
   "cell_type": "code",
   "execution_count": 22,
   "metadata": {},
   "outputs": [],
   "source": [
    "airbnb = airbnb.join(pd.get_dummies(airbnb['property_type'], prefix='property_type', drop_first=True))\n",
    "airbnb.drop('property_type', axis=1, inplace = True)"
   ]
  },
  {
   "cell_type": "code",
   "execution_count": 23,
   "metadata": {},
   "outputs": [],
   "source": [
    "labelencoder = LabelEncoder()\n",
    "airbnb['room_type'] = labelencoder.fit_transform(airbnb['room_type'])\n",
    "airbnb['bed_type'] = labelencoder.fit_transform(airbnb['bed_type'])\n",
    "airbnb['cancellation_policy'] = labelencoder.fit_transform(airbnb['cancellation_policy'])"
   ]
  },
  {
   "cell_type": "code",
   "execution_count": 24,
   "metadata": {},
   "outputs": [
    {
     "name": "stdout",
     "output_type": "stream",
     "text": [
      "<class 'pandas.core.frame.DataFrame'>\n",
      "RangeIndex: 3555 entries, 0 to 3554\n",
      "Data columns (total 56 columns):\n",
      " #   Column                                          Non-Null Count  Dtype  \n",
      "---  ------                                          --------------  -----  \n",
      " 0   host_is_superhost                               3555 non-null   int64  \n",
      " 1   host_identity_verified                          3555 non-null   int64  \n",
      " 2   latitude                                        3555 non-null   float64\n",
      " 3   longitude                                       3555 non-null   float64\n",
      " 4   room_type                                       3555 non-null   int32  \n",
      " 5   accommodates                                    3555 non-null   int64  \n",
      " 6   bathrooms                                       3541 non-null   float64\n",
      " 7   bedrooms                                        3545 non-null   float64\n",
      " 8   beds                                            3546 non-null   float64\n",
      " 9   bed_type                                        3555 non-null   int32  \n",
      " 10  Number of amenities                             3555 non-null   int64  \n",
      " 11  guests_included                                 3555 non-null   int64  \n",
      " 12  price_per_extra_person                          3555 non-null   int64  \n",
      " 13  minimum_nights                                  3555 non-null   int64  \n",
      " 14  number_of_reviews                               3555 non-null   int64  \n",
      " 15  number_days_btw_first_last_review               3555 non-null   int64  \n",
      " 16  review_scores_rating                            2755 non-null   float64\n",
      " 17  cancellation_policy                             3555 non-null   int32  \n",
      " 18  price                                           3555 non-null   int64  \n",
      " 19  neighbourhood_cleansed_Back Bay                 3555 non-null   uint8  \n",
      " 20  neighbourhood_cleansed_Bay Village              3555 non-null   uint8  \n",
      " 21  neighbourhood_cleansed_Beacon Hill              3555 non-null   uint8  \n",
      " 22  neighbourhood_cleansed_Brighton                 3555 non-null   uint8  \n",
      " 23  neighbourhood_cleansed_Charlestown              3555 non-null   uint8  \n",
      " 24  neighbourhood_cleansed_Chinatown                3555 non-null   uint8  \n",
      " 25  neighbourhood_cleansed_Dorchester               3555 non-null   uint8  \n",
      " 26  neighbourhood_cleansed_Downtown                 3555 non-null   uint8  \n",
      " 27  neighbourhood_cleansed_East Boston              3555 non-null   uint8  \n",
      " 28  neighbourhood_cleansed_Fenway                   3555 non-null   uint8  \n",
      " 29  neighbourhood_cleansed_Hyde Park                3555 non-null   uint8  \n",
      " 30  neighbourhood_cleansed_Jamaica Plain            3555 non-null   uint8  \n",
      " 31  neighbourhood_cleansed_Leather District         3555 non-null   uint8  \n",
      " 32  neighbourhood_cleansed_Longwood Medical Area    3555 non-null   uint8  \n",
      " 33  neighbourhood_cleansed_Mattapan                 3555 non-null   uint8  \n",
      " 34  neighbourhood_cleansed_Mission Hill             3555 non-null   uint8  \n",
      " 35  neighbourhood_cleansed_North End                3555 non-null   uint8  \n",
      " 36  neighbourhood_cleansed_Roslindale               3555 non-null   uint8  \n",
      " 37  neighbourhood_cleansed_Roxbury                  3555 non-null   uint8  \n",
      " 38  neighbourhood_cleansed_South Boston             3555 non-null   uint8  \n",
      " 39  neighbourhood_cleansed_South Boston Waterfront  3555 non-null   uint8  \n",
      " 40  neighbourhood_cleansed_South End                3555 non-null   uint8  \n",
      " 41  neighbourhood_cleansed_West End                 3555 non-null   uint8  \n",
      " 42  neighbourhood_cleansed_West Roxbury             3555 non-null   uint8  \n",
      " 43  property_type_Bed & Breakfast                   3555 non-null   uint8  \n",
      " 44  property_type_Boat                              3555 non-null   uint8  \n",
      " 45  property_type_Camper/RV                         3555 non-null   uint8  \n",
      " 46  property_type_Condominium                       3555 non-null   uint8  \n",
      " 47  property_type_Dorm                              3555 non-null   uint8  \n",
      " 48  property_type_Entire Floor                      3555 non-null   uint8  \n",
      " 49  property_type_Guesthouse                        3555 non-null   uint8  \n",
      " 50  property_type_House                             3555 non-null   uint8  \n",
      " 51  property_type_Loft                              3555 non-null   uint8  \n",
      " 52  property_type_Other                             3555 non-null   uint8  \n",
      " 53  property_type_Townhouse                         3555 non-null   uint8  \n",
      " 54  property_type_Villa                             3555 non-null   uint8  \n",
      " 55  property_type_unkown                            3555 non-null   uint8  \n",
      "dtypes: float64(6), int32(3), int64(10), uint8(37)\n",
      "memory usage: 614.6 KB\n"
     ]
    }
   ],
   "source": [
    "# explore the dataframe columns to verify encoding and dropped columns\n",
    "airbnb.info()"
   ]
  },
  {
   "cell_type": "markdown",
   "metadata": {},
   "source": [
    "### 4.2 Split data (train/test)"
   ]
  },
  {
   "cell_type": "code",
   "execution_count": 25,
   "metadata": {},
   "outputs": [],
   "source": [
    "# split the data into validation and training set\n",
    "train_df, test_df = train_test_split(airbnb, test_size=0.3)\n",
    "\n",
    "# to reduce repetition in later code, create variables to represent the columns\n",
    "# that are our predictors and target\n",
    "target = 'price'\n",
    "predictors = list(airbnb.columns)\n",
    "predictors.remove(target)"
   ]
  },
  {
   "cell_type": "markdown",
   "metadata": {},
   "source": [
    "### 4.3  Conduct any data prepartion that should be done *AFTER* the data split\n",
    "\n",
    "We will look at the following:\n",
    "1) imput any missing numeric values using the mean of the variable/column\n",
    "2) remove differences of scale by standardizing the numerica variables"
   ]
  },
  {
   "cell_type": "markdown",
   "metadata": {},
   "source": [
    "#### Impute missing values"
   ]
  },
  {
   "cell_type": "code",
   "execution_count": 26,
   "metadata": {},
   "outputs": [
    {
     "data": {
      "text/plain": [
       "['bathrooms', 'bedrooms', 'beds', 'review_scores_rating']"
      ]
     },
     "execution_count": 26,
     "metadata": {},
     "output_type": "execute_result"
    }
   ],
   "source": [
    "numeric_cols_with_nas = list(train_df.isna().sum()[train_df.isna().sum() > 0].index)\n",
    "numeric_cols_with_nas"
   ]
  },
  {
   "cell_type": "markdown",
   "metadata": {},
   "source": [
    "We can see from the code above that there are 4 variables (columns) that contain missing numeric values (we've already taken care of any missing values in the catagorical variables earlier)."
   ]
  },
  {
   "cell_type": "code",
   "execution_count": 27,
   "metadata": {},
   "outputs": [],
   "source": [
    "imputer = SimpleImputer(strategy=\"median\")\n",
    "\n",
    "train_df[numeric_cols_with_nas] = imputer.fit_transform(train_df[numeric_cols_with_nas])\n",
    "test_df[numeric_cols_with_nas] = imputer.transform(test_df[numeric_cols_with_nas])"
   ]
  },
  {
   "cell_type": "markdown",
   "metadata": {},
   "source": [
    "#### Standardize numeric values"
   ]
  },
  {
   "cell_type": "markdown",
   "metadata": {},
   "source": [
    "Now, let's create a common scale between the numberic columns by standardizing each numeric column"
   ]
  },
  {
   "cell_type": "code",
   "execution_count": 28,
   "metadata": {},
   "outputs": [],
   "source": [
    "# create a standard scaler and fit it to the training set of predictors\n",
    "scaler = preprocessing.StandardScaler()\n",
    "cols_to_stdize = ['latitude', 'longitude', 'accommodates', \n",
    "                   'bathrooms', 'bedrooms', 'beds', 'Number of amenities', \n",
    "                   'guests_included', 'price_per_extra_person', 'minimum_nights', \n",
    "                   'number_of_reviews', 'number_days_btw_first_last_review', \n",
    "                   'review_scores_rating']                \n",
    "               \n",
    "# Transform the predictors of training and validation sets\n",
    "train_df[cols_to_stdize] = scaler.fit_transform(train_df[cols_to_stdize]) # train_predictors is not a numpy array\n",
    "\n",
    "\n",
    "test_df[cols_to_stdize] = scaler.transform(test_df[cols_to_stdize]) # validation_target is now a series object\n"
   ]
  },
  {
   "cell_type": "markdown",
   "metadata": {},
   "source": [
    "## 5.0 Save the data"
   ]
  },
  {
   "cell_type": "code",
   "execution_count": 29,
   "metadata": {},
   "outputs": [],
   "source": [
    "train_X = train_df[predictors]\n",
    "train_y = train_df[target] # train_target is now a series objecttrain_df.to_csv('airbnb_train_df.csv', index=False)\n",
    "test_X = test_df[predictors]\n",
    "test_y = test_df[target] # validation_target is now a series object\n",
    "\n",
    "train_df.to_csv('data/airbnb_train_df_price.csv', index=False)\n",
    "train_X.to_csv('data/airbnb_train_X_price.csv', index=False)\n",
    "train_y.to_csv('data/airbnb_train_y_price.csv', index=False)\n",
    "test_df.to_csv('data/airbnb_test_df_price.csv', index=False)\n",
    "test_X.to_csv('data/airbnb_test_X_price.csv', index=False)\n",
    "test_y.to_csv('data/airbnb_test_y_price.csv', index=False)"
   ]
  },
  {
   "cell_type": "code",
   "execution_count": null,
   "metadata": {},
   "outputs": [],
   "source": []
  }
 ],
 "metadata": {
  "kernelspec": {
   "display_name": "Python 3 (ipykernel)",
   "language": "python",
   "name": "python3"
  },
  "language_info": {
   "codemirror_mode": {
    "name": "ipython",
    "version": 3
   },
   "file_extension": ".py",
   "mimetype": "text/x-python",
   "name": "python",
   "nbconvert_exporter": "python",
   "pygments_lexer": "ipython3",
   "version": "3.9.13"
  },
  "nav_menu": {
   "height": "279px",
   "width": "309px"
  },
  "toc": {
   "base_numbering": 1,
   "nav_menu": {},
   "number_sections": false,
   "sideBar": true,
   "skip_h1_title": false,
   "title_cell": "Table of Contents",
   "title_sidebar": "Contents",
   "toc_cell": false,
   "toc_position": {
    "height": "calc(100% - 180px)",
    "left": "10px",
    "top": "150px",
    "width": "235px"
   },
   "toc_section_display": "block",
   "toc_window_display": true
  },
  "varInspector": {
   "cols": {
    "lenName": 16,
    "lenType": 16,
    "lenVar": 40
   },
   "kernels_config": {
    "python": {
     "delete_cmd_postfix": "",
     "delete_cmd_prefix": "del ",
     "library": "var_list.py",
     "varRefreshCmd": "print(var_dic_list())"
    },
    "r": {
     "delete_cmd_postfix": ") ",
     "delete_cmd_prefix": "rm(",
     "library": "var_list.r",
     "varRefreshCmd": "cat(var_dic_list()) "
    }
   },
   "types_to_exclude": [
    "module",
    "function",
    "builtin_function_or_method",
    "instance",
    "_Feature"
   ],
   "window_display": false
  },
  "vscode": {
   "interpreter": {
    "hash": "b056086e24cb5602cbcb82122035cd3d6ee2ccbf5df29c16e348c108b0f83be3"
   }
  }
 },
 "nbformat": 4,
 "nbformat_minor": 4
}
