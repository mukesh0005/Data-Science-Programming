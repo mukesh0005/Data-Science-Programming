{
 "cells": [
  {
   "attachments": {},
   "cell_type": "markdown",
   "metadata": {},
   "source": [
    "# AirBNB Data Preparation (Target = price_gte_150)\n",
    "\n",
    "In this notebook we focus on the data loading, basic exploring, and prepatation.\n",
    "\n",
    "This notebook follows closely the previous data cleaning toturial from last week. We will be using the same input dataset and producing the same output with one small change - instead of the target being the continuous variable price, we will select the target price_category - and we will be using a logistic regression model instead of a linear regression model to identify where price_gte_150 is true.\n"
   ]
  },
  {
   "attachments": {},
   "cell_type": "markdown",
   "metadata": {},
   "source": [
    "## 1.0 Setup\n"
   ]
  },
  {
   "cell_type": "code",
   "execution_count": 33,
   "metadata": {},
   "outputs": [],
   "source": [
    "# import numpy and pandas libraries\n",
    "import numpy as np\n",
    "import pandas as pd\n",
    "from sklearn.preprocessing import LabelEncoder\n",
    "from sklearn.model_selection import train_test_split\n",
    "from sklearn import preprocessing\n",
    "from sklearn.impute import SimpleImputer\n",
    "# set random seed to ensure that results are repeatable\n",
    "np.random.seed(1)"
   ]
  },
  {
   "attachments": {},
   "cell_type": "markdown",
   "metadata": {},
   "source": [
    "## 2.0 Load data "
   ]
  },
  {
   "cell_type": "code",
   "execution_count": 34,
   "metadata": {},
   "outputs": [
    {
     "data": {
      "text/html": [
       "<div>\n",
       "<style scoped>\n",
       "    .dataframe tbody tr th:only-of-type {\n",
       "        vertical-align: middle;\n",
       "    }\n",
       "\n",
       "    .dataframe tbody tr th {\n",
       "        vertical-align: top;\n",
       "    }\n",
       "\n",
       "    .dataframe thead th {\n",
       "        text-align: right;\n",
       "    }\n",
       "</style>\n",
       "<table border=\"1\" class=\"dataframe\">\n",
       "  <thead>\n",
       "    <tr style=\"text-align: right;\">\n",
       "      <th></th>\n",
       "      <th>host_is_superhost</th>\n",
       "      <th>host_identity_verified</th>\n",
       "      <th>neighbourhood_cleansed</th>\n",
       "      <th>latitude</th>\n",
       "      <th>longitude</th>\n",
       "      <th>property_type</th>\n",
       "      <th>room_type</th>\n",
       "      <th>accommodates</th>\n",
       "      <th>bathrooms</th>\n",
       "      <th>bedrooms</th>\n",
       "      <th>...</th>\n",
       "      <th>guests_included</th>\n",
       "      <th>price_per_extra_person</th>\n",
       "      <th>minimum_nights</th>\n",
       "      <th>number_of_reviews</th>\n",
       "      <th>number_days_btw_first_last_review</th>\n",
       "      <th>review_scores_rating</th>\n",
       "      <th>cancellation_policy</th>\n",
       "      <th>price</th>\n",
       "      <th>price_gte_150</th>\n",
       "      <th>price_category</th>\n",
       "    </tr>\n",
       "  </thead>\n",
       "  <tbody>\n",
       "    <tr>\n",
       "      <th>0</th>\n",
       "      <td>0</td>\n",
       "      <td>0</td>\n",
       "      <td>Roslindale</td>\n",
       "      <td>42.282619</td>\n",
       "      <td>-71.133068</td>\n",
       "      <td>House</td>\n",
       "      <td>Entire home/apt</td>\n",
       "      <td>4</td>\n",
       "      <td>1.5</td>\n",
       "      <td>2.0</td>\n",
       "      <td>...</td>\n",
       "      <td>1</td>\n",
       "      <td>0</td>\n",
       "      <td>2</td>\n",
       "      <td>0</td>\n",
       "      <td>0</td>\n",
       "      <td>NaN</td>\n",
       "      <td>moderate</td>\n",
       "      <td>250</td>\n",
       "      <td>1</td>\n",
       "      <td>gte_226</td>\n",
       "    </tr>\n",
       "    <tr>\n",
       "      <th>1</th>\n",
       "      <td>0</td>\n",
       "      <td>1</td>\n",
       "      <td>Roslindale</td>\n",
       "      <td>42.286241</td>\n",
       "      <td>-71.134374</td>\n",
       "      <td>Apartment</td>\n",
       "      <td>Private room</td>\n",
       "      <td>2</td>\n",
       "      <td>1.0</td>\n",
       "      <td>1.0</td>\n",
       "      <td>...</td>\n",
       "      <td>0</td>\n",
       "      <td>0</td>\n",
       "      <td>2</td>\n",
       "      <td>36</td>\n",
       "      <td>804</td>\n",
       "      <td>94.0</td>\n",
       "      <td>moderate</td>\n",
       "      <td>65</td>\n",
       "      <td>0</td>\n",
       "      <td>lte_$75</td>\n",
       "    </tr>\n",
       "    <tr>\n",
       "      <th>2</th>\n",
       "      <td>1</td>\n",
       "      <td>1</td>\n",
       "      <td>Roslindale</td>\n",
       "      <td>42.292438</td>\n",
       "      <td>-71.135765</td>\n",
       "      <td>Apartment</td>\n",
       "      <td>Private room</td>\n",
       "      <td>2</td>\n",
       "      <td>1.0</td>\n",
       "      <td>1.0</td>\n",
       "      <td>...</td>\n",
       "      <td>1</td>\n",
       "      <td>20</td>\n",
       "      <td>3</td>\n",
       "      <td>41</td>\n",
       "      <td>2574</td>\n",
       "      <td>98.0</td>\n",
       "      <td>moderate</td>\n",
       "      <td>65</td>\n",
       "      <td>0</td>\n",
       "      <td>lte_$75</td>\n",
       "    </tr>\n",
       "  </tbody>\n",
       "</table>\n",
       "<p>3 rows × 23 columns</p>\n",
       "</div>"
      ],
      "text/plain": [
       "   host_is_superhost  host_identity_verified neighbourhood_cleansed  \\\n",
       "0                  0                       0             Roslindale   \n",
       "1                  0                       1             Roslindale   \n",
       "2                  1                       1             Roslindale   \n",
       "\n",
       "    latitude  longitude property_type        room_type  accommodates  \\\n",
       "0  42.282619 -71.133068         House  Entire home/apt             4   \n",
       "1  42.286241 -71.134374     Apartment     Private room             2   \n",
       "2  42.292438 -71.135765     Apartment     Private room             2   \n",
       "\n",
       "   bathrooms  bedrooms  ...  guests_included price_per_extra_person  \\\n",
       "0        1.5       2.0  ...                1                      0   \n",
       "1        1.0       1.0  ...                0                      0   \n",
       "2        1.0       1.0  ...                1                     20   \n",
       "\n",
       "   minimum_nights  number_of_reviews  number_days_btw_first_last_review  \\\n",
       "0               2                  0                                  0   \n",
       "1               2                 36                                804   \n",
       "2               3                 41                               2574   \n",
       "\n",
       "   review_scores_rating  cancellation_policy  price  price_gte_150  \\\n",
       "0                   NaN             moderate    250              1   \n",
       "1                  94.0             moderate     65              0   \n",
       "2                  98.0             moderate     65              0   \n",
       "\n",
       "  price_category  \n",
       "0        gte_226  \n",
       "1        lte_$75  \n",
       "2        lte_$75  \n",
       "\n",
       "[3 rows x 23 columns]"
      ]
     },
     "execution_count": 34,
     "metadata": {},
     "output_type": "execute_result"
    }
   ],
   "source": [
    "# load data\n",
    "airbnb = pd.read_csv(\"./airbnb.csv\")\n",
    "\n",
    "airbnb.head(3)"
   ]
  },
  {
   "attachments": {},
   "cell_type": "markdown",
   "metadata": {},
   "source": [
    "## 3.0 Conduct initial exploration of the data"
   ]
  },
  {
   "cell_type": "markdown",
   "metadata": {},
   "source": [
    "We have a number of input variables and one target variable. For this analysis, the target variable is price.\n",
    "\n",
    "First, our initial exploration of the data should answer the following questions:\n",
    "1. How many rows and columns\n",
    "2. How much of a problem do we have with na's?\n",
    "3. What types of data are there?\n",
    "4. What types of data are stored in columns\n",
    "    1. identify which variables are numeric and may need to be standardized later\n",
    "    2. identify which variables are categorical and may need to be transformed using and encoders such as one-hot-encoder.\n",
    "5. Identify errors in the data - this is a common problem with categorical vars where the category is mispelled or spelled differently in some instances.\n",
    " "
   ]
  },
  {
   "cell_type": "code",
   "execution_count": 35,
   "metadata": {},
   "outputs": [
    {
     "data": {
      "text/html": [
       "<div>\n",
       "<style scoped>\n",
       "    .dataframe tbody tr th:only-of-type {\n",
       "        vertical-align: middle;\n",
       "    }\n",
       "\n",
       "    .dataframe tbody tr th {\n",
       "        vertical-align: top;\n",
       "    }\n",
       "\n",
       "    .dataframe thead th {\n",
       "        text-align: right;\n",
       "    }\n",
       "</style>\n",
       "<table border=\"1\" class=\"dataframe\">\n",
       "  <thead>\n",
       "    <tr style=\"text-align: right;\">\n",
       "      <th></th>\n",
       "      <th>host_is_superhost</th>\n",
       "      <th>host_identity_verified</th>\n",
       "      <th>neighbourhood_cleansed</th>\n",
       "      <th>latitude</th>\n",
       "      <th>longitude</th>\n",
       "      <th>property_type</th>\n",
       "      <th>room_type</th>\n",
       "      <th>accommodates</th>\n",
       "      <th>bathrooms</th>\n",
       "      <th>bedrooms</th>\n",
       "      <th>...</th>\n",
       "      <th>guests_included</th>\n",
       "      <th>price_per_extra_person</th>\n",
       "      <th>minimum_nights</th>\n",
       "      <th>number_of_reviews</th>\n",
       "      <th>number_days_btw_first_last_review</th>\n",
       "      <th>review_scores_rating</th>\n",
       "      <th>cancellation_policy</th>\n",
       "      <th>price</th>\n",
       "      <th>price_gte_150</th>\n",
       "      <th>price_category</th>\n",
       "    </tr>\n",
       "  </thead>\n",
       "  <tbody>\n",
       "    <tr>\n",
       "      <th>0</th>\n",
       "      <td>0</td>\n",
       "      <td>0</td>\n",
       "      <td>Roslindale</td>\n",
       "      <td>42.282619</td>\n",
       "      <td>-71.133068</td>\n",
       "      <td>House</td>\n",
       "      <td>Entire home/apt</td>\n",
       "      <td>4</td>\n",
       "      <td>1.5</td>\n",
       "      <td>2.0</td>\n",
       "      <td>...</td>\n",
       "      <td>1</td>\n",
       "      <td>0</td>\n",
       "      <td>2</td>\n",
       "      <td>0</td>\n",
       "      <td>0</td>\n",
       "      <td>NaN</td>\n",
       "      <td>moderate</td>\n",
       "      <td>250</td>\n",
       "      <td>1</td>\n",
       "      <td>gte_226</td>\n",
       "    </tr>\n",
       "    <tr>\n",
       "      <th>1</th>\n",
       "      <td>0</td>\n",
       "      <td>1</td>\n",
       "      <td>Roslindale</td>\n",
       "      <td>42.286241</td>\n",
       "      <td>-71.134374</td>\n",
       "      <td>Apartment</td>\n",
       "      <td>Private room</td>\n",
       "      <td>2</td>\n",
       "      <td>1.0</td>\n",
       "      <td>1.0</td>\n",
       "      <td>...</td>\n",
       "      <td>0</td>\n",
       "      <td>0</td>\n",
       "      <td>2</td>\n",
       "      <td>36</td>\n",
       "      <td>804</td>\n",
       "      <td>94.0</td>\n",
       "      <td>moderate</td>\n",
       "      <td>65</td>\n",
       "      <td>0</td>\n",
       "      <td>lte_$75</td>\n",
       "    </tr>\n",
       "    <tr>\n",
       "      <th>2</th>\n",
       "      <td>1</td>\n",
       "      <td>1</td>\n",
       "      <td>Roslindale</td>\n",
       "      <td>42.292438</td>\n",
       "      <td>-71.135765</td>\n",
       "      <td>Apartment</td>\n",
       "      <td>Private room</td>\n",
       "      <td>2</td>\n",
       "      <td>1.0</td>\n",
       "      <td>1.0</td>\n",
       "      <td>...</td>\n",
       "      <td>1</td>\n",
       "      <td>20</td>\n",
       "      <td>3</td>\n",
       "      <td>41</td>\n",
       "      <td>2574</td>\n",
       "      <td>98.0</td>\n",
       "      <td>moderate</td>\n",
       "      <td>65</td>\n",
       "      <td>0</td>\n",
       "      <td>lte_$75</td>\n",
       "    </tr>\n",
       "  </tbody>\n",
       "</table>\n",
       "<p>3 rows × 23 columns</p>\n",
       "</div>"
      ],
      "text/plain": [
       "   host_is_superhost  host_identity_verified neighbourhood_cleansed  \\\n",
       "0                  0                       0             Roslindale   \n",
       "1                  0                       1             Roslindale   \n",
       "2                  1                       1             Roslindale   \n",
       "\n",
       "    latitude  longitude property_type        room_type  accommodates  \\\n",
       "0  42.282619 -71.133068         House  Entire home/apt             4   \n",
       "1  42.286241 -71.134374     Apartment     Private room             2   \n",
       "2  42.292438 -71.135765     Apartment     Private room             2   \n",
       "\n",
       "   bathrooms  bedrooms  ...  guests_included price_per_extra_person  \\\n",
       "0        1.5       2.0  ...                1                      0   \n",
       "1        1.0       1.0  ...                0                      0   \n",
       "2        1.0       1.0  ...                1                     20   \n",
       "\n",
       "   minimum_nights  number_of_reviews  number_days_btw_first_last_review  \\\n",
       "0               2                  0                                  0   \n",
       "1               2                 36                                804   \n",
       "2               3                 41                               2574   \n",
       "\n",
       "   review_scores_rating  cancellation_policy  price  price_gte_150  \\\n",
       "0                   NaN             moderate    250              1   \n",
       "1                  94.0             moderate     65              0   \n",
       "2                  98.0             moderate     65              0   \n",
       "\n",
       "  price_category  \n",
       "0        gte_226  \n",
       "1        lte_$75  \n",
       "2        lte_$75  \n",
       "\n",
       "[3 rows x 23 columns]"
      ]
     },
     "execution_count": 35,
     "metadata": {},
     "output_type": "execute_result"
    }
   ],
   "source": [
    "# look at the data\n",
    "airbnb.head(3) # note that we don't want to dump all the data to the screen"
   ]
  },
  {
   "cell_type": "code",
   "execution_count": 36,
   "metadata": {},
   "outputs": [
    {
     "name": "stdout",
     "output_type": "stream",
     "text": [
      "<class 'pandas.core.frame.DataFrame'>\n",
      "RangeIndex: 3555 entries, 0 to 3554\n",
      "Data columns (total 23 columns):\n",
      " #   Column                             Non-Null Count  Dtype  \n",
      "---  ------                             --------------  -----  \n",
      " 0   host_is_superhost                  3555 non-null   int64  \n",
      " 1   host_identity_verified             3555 non-null   int64  \n",
      " 2   neighbourhood_cleansed             3555 non-null   object \n",
      " 3   latitude                           3555 non-null   float64\n",
      " 4   longitude                          3555 non-null   float64\n",
      " 5   property_type                      3552 non-null   object \n",
      " 6   room_type                          3555 non-null   object \n",
      " 7   accommodates                       3555 non-null   int64  \n",
      " 8   bathrooms                          3541 non-null   float64\n",
      " 9   bedrooms                           3545 non-null   float64\n",
      " 10  beds                               3546 non-null   float64\n",
      " 11  bed_type                           3555 non-null   object \n",
      " 12  Number of amenities                3555 non-null   int64  \n",
      " 13  guests_included                    3555 non-null   int64  \n",
      " 14  price_per_extra_person             3555 non-null   int64  \n",
      " 15  minimum_nights                     3555 non-null   int64  \n",
      " 16  number_of_reviews                  3555 non-null   int64  \n",
      " 17  number_days_btw_first_last_review  3555 non-null   int64  \n",
      " 18  review_scores_rating               2755 non-null   float64\n",
      " 19  cancellation_policy                3555 non-null   object \n",
      " 20  price                              3555 non-null   int64  \n",
      " 21  price_gte_150                      3555 non-null   int64  \n",
      " 22  price_category                     3555 non-null   object \n",
      "dtypes: float64(6), int64(11), object(6)\n",
      "memory usage: 638.9+ KB\n"
     ]
    }
   ],
   "source": [
    "# generate a basic summary of the data\n",
    "airbnb.info()"
   ]
  },
  {
   "cell_type": "code",
   "execution_count": 37,
   "metadata": {},
   "outputs": [
    {
     "data": {
      "text/html": [
       "<div>\n",
       "<style scoped>\n",
       "    .dataframe tbody tr th:only-of-type {\n",
       "        vertical-align: middle;\n",
       "    }\n",
       "\n",
       "    .dataframe tbody tr th {\n",
       "        vertical-align: top;\n",
       "    }\n",
       "\n",
       "    .dataframe thead th {\n",
       "        text-align: right;\n",
       "    }\n",
       "</style>\n",
       "<table border=\"1\" class=\"dataframe\">\n",
       "  <thead>\n",
       "    <tr style=\"text-align: right;\">\n",
       "      <th></th>\n",
       "      <th>host_is_superhost</th>\n",
       "      <th>host_identity_verified</th>\n",
       "      <th>latitude</th>\n",
       "      <th>longitude</th>\n",
       "      <th>accommodates</th>\n",
       "      <th>bathrooms</th>\n",
       "      <th>bedrooms</th>\n",
       "      <th>beds</th>\n",
       "      <th>Number of amenities</th>\n",
       "      <th>guests_included</th>\n",
       "      <th>price_per_extra_person</th>\n",
       "      <th>minimum_nights</th>\n",
       "      <th>number_of_reviews</th>\n",
       "      <th>number_days_btw_first_last_review</th>\n",
       "      <th>review_scores_rating</th>\n",
       "      <th>price</th>\n",
       "      <th>price_gte_150</th>\n",
       "    </tr>\n",
       "  </thead>\n",
       "  <tbody>\n",
       "    <tr>\n",
       "      <th>count</th>\n",
       "      <td>3555.000000</td>\n",
       "      <td>3555.000000</td>\n",
       "      <td>3555.000000</td>\n",
       "      <td>3555.000000</td>\n",
       "      <td>3555.000000</td>\n",
       "      <td>3541.000000</td>\n",
       "      <td>3545.000000</td>\n",
       "      <td>3546.000000</td>\n",
       "      <td>3555.00000</td>\n",
       "      <td>3555.000000</td>\n",
       "      <td>3555.000000</td>\n",
       "      <td>3555.000000</td>\n",
       "      <td>3555.000000</td>\n",
       "      <td>3555.000000</td>\n",
       "      <td>2755.000000</td>\n",
       "      <td>3555.000000</td>\n",
       "      <td>3555.000000</td>\n",
       "    </tr>\n",
       "    <tr>\n",
       "      <th>mean</th>\n",
       "      <td>0.113080</td>\n",
       "      <td>0.727989</td>\n",
       "      <td>42.339973</td>\n",
       "      <td>-71.084874</td>\n",
       "      <td>3.023629</td>\n",
       "      <td>1.215899</td>\n",
       "      <td>1.246544</td>\n",
       "      <td>1.597293</td>\n",
       "      <td>14.85879</td>\n",
       "      <td>1.427004</td>\n",
       "      <td>10.886639</td>\n",
       "      <td>3.116737</td>\n",
       "      <td>19.126582</td>\n",
       "      <td>279.052602</td>\n",
       "      <td>91.891470</td>\n",
       "      <td>166.060478</td>\n",
       "      <td>0.500422</td>\n",
       "    </tr>\n",
       "    <tr>\n",
       "      <th>std</th>\n",
       "      <td>0.316735</td>\n",
       "      <td>0.445058</td>\n",
       "      <td>0.024464</td>\n",
       "      <td>0.031614</td>\n",
       "      <td>1.754808</td>\n",
       "      <td>0.492656</td>\n",
       "      <td>0.738440</td>\n",
       "      <td>0.995467</td>\n",
       "      <td>4.82126</td>\n",
       "      <td>1.050204</td>\n",
       "      <td>19.092755</td>\n",
       "      <td>8.273949</td>\n",
       "      <td>35.666178</td>\n",
       "      <td>408.686952</td>\n",
       "      <td>9.548381</td>\n",
       "      <td>103.378456</td>\n",
       "      <td>0.500070</td>\n",
       "    </tr>\n",
       "    <tr>\n",
       "      <th>min</th>\n",
       "      <td>0.000000</td>\n",
       "      <td>0.000000</td>\n",
       "      <td>42.235942</td>\n",
       "      <td>-71.171789</td>\n",
       "      <td>1.000000</td>\n",
       "      <td>0.000000</td>\n",
       "      <td>0.000000</td>\n",
       "      <td>0.000000</td>\n",
       "      <td>0.00000</td>\n",
       "      <td>0.000000</td>\n",
       "      <td>0.000000</td>\n",
       "      <td>1.000000</td>\n",
       "      <td>0.000000</td>\n",
       "      <td>0.000000</td>\n",
       "      <td>20.000000</td>\n",
       "      <td>10.000000</td>\n",
       "      <td>0.000000</td>\n",
       "    </tr>\n",
       "    <tr>\n",
       "      <th>25%</th>\n",
       "      <td>0.000000</td>\n",
       "      <td>0.000000</td>\n",
       "      <td>42.329875</td>\n",
       "      <td>-71.105183</td>\n",
       "      <td>2.000000</td>\n",
       "      <td>1.000000</td>\n",
       "      <td>1.000000</td>\n",
       "      <td>1.000000</td>\n",
       "      <td>12.00000</td>\n",
       "      <td>1.000000</td>\n",
       "      <td>0.000000</td>\n",
       "      <td>1.000000</td>\n",
       "      <td>1.000000</td>\n",
       "      <td>0.000000</td>\n",
       "      <td>89.000000</td>\n",
       "      <td>85.000000</td>\n",
       "      <td>0.000000</td>\n",
       "    </tr>\n",
       "    <tr>\n",
       "      <th>50%</th>\n",
       "      <td>0.000000</td>\n",
       "      <td>1.000000</td>\n",
       "      <td>42.345191</td>\n",
       "      <td>-71.078487</td>\n",
       "      <td>2.000000</td>\n",
       "      <td>1.000000</td>\n",
       "      <td>1.000000</td>\n",
       "      <td>1.000000</td>\n",
       "      <td>15.00000</td>\n",
       "      <td>1.000000</td>\n",
       "      <td>0.000000</td>\n",
       "      <td>2.000000</td>\n",
       "      <td>5.000000</td>\n",
       "      <td>92.000000</td>\n",
       "      <td>94.000000</td>\n",
       "      <td>150.000000</td>\n",
       "      <td>1.000000</td>\n",
       "    </tr>\n",
       "    <tr>\n",
       "      <th>75%</th>\n",
       "      <td>0.000000</td>\n",
       "      <td>1.000000</td>\n",
       "      <td>42.354672</td>\n",
       "      <td>-71.062142</td>\n",
       "      <td>4.000000</td>\n",
       "      <td>1.000000</td>\n",
       "      <td>2.000000</td>\n",
       "      <td>2.000000</td>\n",
       "      <td>18.00000</td>\n",
       "      <td>1.000000</td>\n",
       "      <td>20.000000</td>\n",
       "      <td>3.000000</td>\n",
       "      <td>21.000000</td>\n",
       "      <td>402.000000</td>\n",
       "      <td>98.000000</td>\n",
       "      <td>219.000000</td>\n",
       "      <td>1.000000</td>\n",
       "    </tr>\n",
       "    <tr>\n",
       "      <th>max</th>\n",
       "      <td>1.000000</td>\n",
       "      <td>1.000000</td>\n",
       "      <td>42.389982</td>\n",
       "      <td>-71.000100</td>\n",
       "      <td>16.000000</td>\n",
       "      <td>6.000000</td>\n",
       "      <td>5.000000</td>\n",
       "      <td>16.000000</td>\n",
       "      <td>30.00000</td>\n",
       "      <td>14.000000</td>\n",
       "      <td>200.000000</td>\n",
       "      <td>300.000000</td>\n",
       "      <td>404.000000</td>\n",
       "      <td>2680.000000</td>\n",
       "      <td>100.000000</td>\n",
       "      <td>650.000000</td>\n",
       "      <td>1.000000</td>\n",
       "    </tr>\n",
       "  </tbody>\n",
       "</table>\n",
       "</div>"
      ],
      "text/plain": [
       "       host_is_superhost  host_identity_verified     latitude    longitude  \\\n",
       "count        3555.000000             3555.000000  3555.000000  3555.000000   \n",
       "mean            0.113080                0.727989    42.339973   -71.084874   \n",
       "std             0.316735                0.445058     0.024464     0.031614   \n",
       "min             0.000000                0.000000    42.235942   -71.171789   \n",
       "25%             0.000000                0.000000    42.329875   -71.105183   \n",
       "50%             0.000000                1.000000    42.345191   -71.078487   \n",
       "75%             0.000000                1.000000    42.354672   -71.062142   \n",
       "max             1.000000                1.000000    42.389982   -71.000100   \n",
       "\n",
       "       accommodates    bathrooms     bedrooms         beds  \\\n",
       "count   3555.000000  3541.000000  3545.000000  3546.000000   \n",
       "mean       3.023629     1.215899     1.246544     1.597293   \n",
       "std        1.754808     0.492656     0.738440     0.995467   \n",
       "min        1.000000     0.000000     0.000000     0.000000   \n",
       "25%        2.000000     1.000000     1.000000     1.000000   \n",
       "50%        2.000000     1.000000     1.000000     1.000000   \n",
       "75%        4.000000     1.000000     2.000000     2.000000   \n",
       "max       16.000000     6.000000     5.000000    16.000000   \n",
       "\n",
       "       Number of amenities  guests_included  price_per_extra_person  \\\n",
       "count           3555.00000      3555.000000             3555.000000   \n",
       "mean              14.85879         1.427004               10.886639   \n",
       "std                4.82126         1.050204               19.092755   \n",
       "min                0.00000         0.000000                0.000000   \n",
       "25%               12.00000         1.000000                0.000000   \n",
       "50%               15.00000         1.000000                0.000000   \n",
       "75%               18.00000         1.000000               20.000000   \n",
       "max               30.00000        14.000000              200.000000   \n",
       "\n",
       "       minimum_nights  number_of_reviews  number_days_btw_first_last_review  \\\n",
       "count     3555.000000        3555.000000                        3555.000000   \n",
       "mean         3.116737          19.126582                         279.052602   \n",
       "std          8.273949          35.666178                         408.686952   \n",
       "min          1.000000           0.000000                           0.000000   \n",
       "25%          1.000000           1.000000                           0.000000   \n",
       "50%          2.000000           5.000000                          92.000000   \n",
       "75%          3.000000          21.000000                         402.000000   \n",
       "max        300.000000         404.000000                        2680.000000   \n",
       "\n",
       "       review_scores_rating        price  price_gte_150  \n",
       "count           2755.000000  3555.000000    3555.000000  \n",
       "mean              91.891470   166.060478       0.500422  \n",
       "std                9.548381   103.378456       0.500070  \n",
       "min               20.000000    10.000000       0.000000  \n",
       "25%               89.000000    85.000000       0.000000  \n",
       "50%               94.000000   150.000000       1.000000  \n",
       "75%               98.000000   219.000000       1.000000  \n",
       "max              100.000000   650.000000       1.000000  "
      ]
     },
     "execution_count": 37,
     "metadata": {},
     "output_type": "execute_result"
    }
   ],
   "source": [
    "# generate a statistical summary of the numeric value in the data\n",
    "airbnb.describe()"
   ]
  },
  {
   "cell_type": "code",
   "execution_count": 38,
   "metadata": {},
   "outputs": [
    {
     "data": {
      "text/html": [
       "<style type=\"text/css\">\n",
       "#T_b520d thead>tr>th {\n",
       "  text-align: left;\n",
       "}\n",
       "#T_b520d_row0_col0, #T_b520d_row1_col0, #T_b520d_row2_col0, #T_b520d_row3_col0, #T_b520d_row4_col0, #T_b520d_row5_col0, #T_b520d_row6_col0, #T_b520d_row7_col0, #T_b520d_row8_col0, #T_b520d_row9_col0, #T_b520d_row10_col0, #T_b520d_row11_col0, #T_b520d_row12_col0, #T_b520d_row13_col0, #T_b520d_row14_col0, #T_b520d_row15_col0, #T_b520d_row16_col0, #T_b520d_row17_col0, #T_b520d_row18_col0, #T_b520d_row19_col0, #T_b520d_row20_col0, #T_b520d_row21_col0, #T_b520d_row22_col0 {\n",
       "  text-align: left;\n",
       "  font-size: 12px;\n",
       "  vertical-align: middle;\n",
       "  width: 5%;\n",
       "  max-width: 50px;\n",
       "  min-width: 20px;\n",
       "}\n",
       "#T_b520d_row0_col1, #T_b520d_row1_col1, #T_b520d_row2_col1, #T_b520d_row3_col1, #T_b520d_row4_col1, #T_b520d_row5_col1, #T_b520d_row6_col1, #T_b520d_row7_col1, #T_b520d_row8_col1, #T_b520d_row9_col1, #T_b520d_row10_col1, #T_b520d_row11_col1, #T_b520d_row12_col1, #T_b520d_row13_col1, #T_b520d_row14_col1, #T_b520d_row15_col1, #T_b520d_row16_col1, #T_b520d_row17_col1, #T_b520d_row18_col1, #T_b520d_row19_col1, #T_b520d_row20_col1, #T_b520d_row21_col1, #T_b520d_row22_col1 {\n",
       "  text-align: left;\n",
       "  font-size: 12px;\n",
       "  vertical-align: middle;\n",
       "  width: 15%;\n",
       "  max-width: 200px;\n",
       "  min-width: 100px;\n",
       "  word-break: break-word;\n",
       "}\n",
       "#T_b520d_row0_col2, #T_b520d_row1_col2, #T_b520d_row2_col2, #T_b520d_row3_col2, #T_b520d_row4_col2, #T_b520d_row5_col2, #T_b520d_row6_col2, #T_b520d_row7_col2, #T_b520d_row8_col2, #T_b520d_row9_col2, #T_b520d_row10_col2, #T_b520d_row11_col2, #T_b520d_row12_col2, #T_b520d_row13_col2, #T_b520d_row14_col2, #T_b520d_row15_col2, #T_b520d_row16_col2, #T_b520d_row17_col2, #T_b520d_row18_col2, #T_b520d_row19_col2, #T_b520d_row20_col2, #T_b520d_row21_col2, #T_b520d_row22_col2 {\n",
       "  text-align: left;\n",
       "  font-size: 12px;\n",
       "  vertical-align: middle;\n",
       "  width: 30%;\n",
       "  min-width: 100px;\n",
       "}\n",
       "#T_b520d_row0_col3, #T_b520d_row1_col3, #T_b520d_row2_col3, #T_b520d_row3_col3, #T_b520d_row4_col3, #T_b520d_row5_col3, #T_b520d_row6_col3, #T_b520d_row7_col3, #T_b520d_row8_col3, #T_b520d_row9_col3, #T_b520d_row10_col3, #T_b520d_row11_col3, #T_b520d_row12_col3, #T_b520d_row13_col3, #T_b520d_row14_col3, #T_b520d_row15_col3, #T_b520d_row16_col3, #T_b520d_row17_col3, #T_b520d_row18_col3, #T_b520d_row19_col3, #T_b520d_row20_col3, #T_b520d_row21_col3, #T_b520d_row22_col3 {\n",
       "  text-align: left;\n",
       "  font-size: 12px;\n",
       "  vertical-align: middle;\n",
       "  width: 25%;\n",
       "  min-width: 100px;\n",
       "}\n",
       "#T_b520d_row0_col4, #T_b520d_row1_col4, #T_b520d_row2_col4, #T_b520d_row3_col4, #T_b520d_row4_col4, #T_b520d_row5_col4, #T_b520d_row6_col4, #T_b520d_row7_col4, #T_b520d_row8_col4, #T_b520d_row9_col4, #T_b520d_row10_col4, #T_b520d_row11_col4, #T_b520d_row12_col4, #T_b520d_row13_col4, #T_b520d_row14_col4, #T_b520d_row15_col4, #T_b520d_row16_col4, #T_b520d_row17_col4, #T_b520d_row18_col4, #T_b520d_row19_col4, #T_b520d_row20_col4, #T_b520d_row21_col4, #T_b520d_row22_col4 {\n",
       "  text-align: left;\n",
       "  font-size: 12px;\n",
       "  vertical-align: middle;\n",
       "  width: 20%;\n",
       "  min-width: 150px;\n",
       "}\n",
       "#T_b520d_row0_col5, #T_b520d_row1_col5, #T_b520d_row2_col5, #T_b520d_row3_col5, #T_b520d_row4_col5, #T_b520d_row5_col5, #T_b520d_row6_col5, #T_b520d_row7_col5, #T_b520d_row8_col5, #T_b520d_row9_col5, #T_b520d_row10_col5, #T_b520d_row11_col5, #T_b520d_row12_col5, #T_b520d_row13_col5, #T_b520d_row14_col5, #T_b520d_row15_col5, #T_b520d_row16_col5, #T_b520d_row17_col5, #T_b520d_row18_col5, #T_b520d_row19_col5, #T_b520d_row20_col5, #T_b520d_row21_col5, #T_b520d_row22_col5 {\n",
       "  text-align: left;\n",
       "  font-size: 12px;\n",
       "  vertical-align: middle;\n",
       "  width: 10%;\n",
       "}\n",
       "</style>\n",
       "<table id=\"T_b520d\">\n",
       "  <caption><strong>Data Frame Summary</strong><br>airbnb<br>Dimensions: 3,555 x 23<br>Duplicates: 0</caption>\n",
       "  <thead>\n",
       "    <tr>\n",
       "      <th id=\"T_b520d_level0_col0\" class=\"col_heading level0 col0\" >No</th>\n",
       "      <th id=\"T_b520d_level0_col1\" class=\"col_heading level0 col1\" >Variable</th>\n",
       "      <th id=\"T_b520d_level0_col2\" class=\"col_heading level0 col2\" >Stats / Values</th>\n",
       "      <th id=\"T_b520d_level0_col3\" class=\"col_heading level0 col3\" >Freqs / (% of Valid)</th>\n",
       "      <th id=\"T_b520d_level0_col4\" class=\"col_heading level0 col4\" >Graph</th>\n",
       "      <th id=\"T_b520d_level0_col5\" class=\"col_heading level0 col5\" >Missing</th>\n",
       "    </tr>\n",
       "  </thead>\n",
       "  <tbody>\n",
       "    <tr>\n",
       "      <td id=\"T_b520d_row0_col0\" class=\"data row0 col0\" >1</td>\n",
       "      <td id=\"T_b520d_row0_col1\" class=\"data row0 col1\" ><strong>host_is_superhost</strong><br>[int64]</td>\n",
       "      <td id=\"T_b520d_row0_col2\" class=\"data row0 col2\" >1. 0<br>2. 1</td>\n",
       "      <td id=\"T_b520d_row0_col3\" class=\"data row0 col3\" >3,153 (88.7%)<br>402 (11.3%)</td>\n",
       "      <td id=\"T_b520d_row0_col4\" class=\"data row0 col4\" ><img src = \"tmp/airbnb_000.png\"></img></td>\n",
       "      <td id=\"T_b520d_row0_col5\" class=\"data row0 col5\" >0<br>(0.0%)</td>\n",
       "    </tr>\n",
       "    <tr>\n",
       "      <td id=\"T_b520d_row1_col0\" class=\"data row1 col0\" >2</td>\n",
       "      <td id=\"T_b520d_row1_col1\" class=\"data row1 col1\" ><strong>host_identity_verified</strong><br>[int64]</td>\n",
       "      <td id=\"T_b520d_row1_col2\" class=\"data row1 col2\" >1. 1<br>2. 0</td>\n",
       "      <td id=\"T_b520d_row1_col3\" class=\"data row1 col3\" >2,588 (72.8%)<br>967 (27.2%)</td>\n",
       "      <td id=\"T_b520d_row1_col4\" class=\"data row1 col4\" ><img src = \"tmp/airbnb_001.png\"></img></td>\n",
       "      <td id=\"T_b520d_row1_col5\" class=\"data row1 col5\" >0<br>(0.0%)</td>\n",
       "    </tr>\n",
       "    <tr>\n",
       "      <td id=\"T_b520d_row2_col0\" class=\"data row2 col0\" >3</td>\n",
       "      <td id=\"T_b520d_row2_col1\" class=\"data row2 col1\" ><strong>neighbourhood_cleansed</strong><br>[object]</td>\n",
       "      <td id=\"T_b520d_row2_col2\" class=\"data row2 col2\" >1. Jamaica Plain<br>2. South End<br>3. Back Bay<br>4. Fenway<br>5. Dorchester<br>6. Allston<br>7. Beacon Hill<br>8. Brighton<br>9. Downtown<br>10. South Boston<br>11. other</td>\n",
       "      <td id=\"T_b520d_row2_col3\" class=\"data row2 col3\" >341 (9.6%)<br>323 (9.1%)<br>298 (8.4%)<br>285 (8.0%)<br>269 (7.6%)<br>260 (7.3%)<br>188 (5.3%)<br>184 (5.2%)<br>172 (4.8%)<br>171 (4.8%)<br>1,064 (29.9%)</td>\n",
       "      <td id=\"T_b520d_row2_col4\" class=\"data row2 col4\" ><img src = \"tmp/airbnb_002.png\"></img></td>\n",
       "      <td id=\"T_b520d_row2_col5\" class=\"data row2 col5\" >0<br>(0.0%)</td>\n",
       "    </tr>\n",
       "    <tr>\n",
       "      <td id=\"T_b520d_row3_col0\" class=\"data row3 col0\" >4</td>\n",
       "      <td id=\"T_b520d_row3_col1\" class=\"data row3 col1\" ><strong>latitude</strong><br>[float64]</td>\n",
       "      <td id=\"T_b520d_row3_col2\" class=\"data row3 col2\" >Mean (sd) : 42.3 (0.0)<br>min < med < max:<br>42.2 < 42.3 < 42.4<br>IQR (CV) : 0.0 (1730.7)</td>\n",
       "      <td id=\"T_b520d_row3_col3\" class=\"data row3 col3\" >3,554 distinct values</td>\n",
       "      <td id=\"T_b520d_row3_col4\" class=\"data row3 col4\" ><img src = \"tmp/airbnb_003.png\"></img></td>\n",
       "      <td id=\"T_b520d_row3_col5\" class=\"data row3 col5\" >0<br>(0.0%)</td>\n",
       "    </tr>\n",
       "    <tr>\n",
       "      <td id=\"T_b520d_row4_col0\" class=\"data row4 col0\" >5</td>\n",
       "      <td id=\"T_b520d_row4_col1\" class=\"data row4 col1\" ><strong>longitude</strong><br>[float64]</td>\n",
       "      <td id=\"T_b520d_row4_col2\" class=\"data row4 col2\" >Mean (sd) : -71.1 (0.0)<br>min < med < max:<br>-71.2 < -71.1 < -71.0<br>IQR (CV) : 0.0 (-2248.5)</td>\n",
       "      <td id=\"T_b520d_row4_col3\" class=\"data row4 col3\" >3,554 distinct values</td>\n",
       "      <td id=\"T_b520d_row4_col4\" class=\"data row4 col4\" ><img src = \"tmp/airbnb_004.png\"></img></td>\n",
       "      <td id=\"T_b520d_row4_col5\" class=\"data row4 col5\" >0<br>(0.0%)</td>\n",
       "    </tr>\n",
       "    <tr>\n",
       "      <td id=\"T_b520d_row5_col0\" class=\"data row5 col0\" >6</td>\n",
       "      <td id=\"T_b520d_row5_col1\" class=\"data row5 col1\" ><strong>property_type</strong><br>[object]</td>\n",
       "      <td id=\"T_b520d_row5_col2\" class=\"data row5 col2\" >1. Apartment<br>2. House<br>3. Condominium<br>4. Townhouse<br>5. Bed & Breakfast<br>6. Loft<br>7. Other<br>8. Boat<br>9. Villa<br>10. Entire Floor<br>11. other</td>\n",
       "      <td id=\"T_b520d_row5_col3\" class=\"data row5 col3\" >2,593 (72.9%)<br>555 (15.6%)<br>228 (6.4%)<br>53 (1.5%)<br>41 (1.2%)<br>39 (1.1%)<br>17 (0.5%)<br>12 (0.3%)<br>6 (0.2%)<br>4 (0.1%)<br>7 (0.2%)</td>\n",
       "      <td id=\"T_b520d_row5_col4\" class=\"data row5 col4\" ><img src = \"tmp/airbnb_005.png\"></img></td>\n",
       "      <td id=\"T_b520d_row5_col5\" class=\"data row5 col5\" >3<br>(0.1%)</td>\n",
       "    </tr>\n",
       "    <tr>\n",
       "      <td id=\"T_b520d_row6_col0\" class=\"data row6 col0\" >7</td>\n",
       "      <td id=\"T_b520d_row6_col1\" class=\"data row6 col1\" ><strong>room_type</strong><br>[object]</td>\n",
       "      <td id=\"T_b520d_row6_col2\" class=\"data row6 col2\" >1. Entire home/apt<br>2. Private room<br>3. Shared room</td>\n",
       "      <td id=\"T_b520d_row6_col3\" class=\"data row6 col3\" >2,103 (59.2%)<br>1,373 (38.6%)<br>79 (2.2%)</td>\n",
       "      <td id=\"T_b520d_row6_col4\" class=\"data row6 col4\" ><img src = \"tmp/airbnb_006.png\"></img></td>\n",
       "      <td id=\"T_b520d_row6_col5\" class=\"data row6 col5\" >0<br>(0.0%)</td>\n",
       "    </tr>\n",
       "    <tr>\n",
       "      <td id=\"T_b520d_row7_col0\" class=\"data row7 col0\" >8</td>\n",
       "      <td id=\"T_b520d_row7_col1\" class=\"data row7 col1\" ><strong>accommodates</strong><br>[int64]</td>\n",
       "      <td id=\"T_b520d_row7_col2\" class=\"data row7 col2\" >Mean (sd) : 3.0 (1.8)<br>min < med < max:<br>1.0 < 2.0 < 16.0<br>IQR (CV) : 2.0 (1.7)</td>\n",
       "      <td id=\"T_b520d_row7_col3\" class=\"data row7 col3\" >14 distinct values</td>\n",
       "      <td id=\"T_b520d_row7_col4\" class=\"data row7 col4\" ><img src = \"tmp/airbnb_007.png\"></img></td>\n",
       "      <td id=\"T_b520d_row7_col5\" class=\"data row7 col5\" >0<br>(0.0%)</td>\n",
       "    </tr>\n",
       "    <tr>\n",
       "      <td id=\"T_b520d_row8_col0\" class=\"data row8 col0\" >9</td>\n",
       "      <td id=\"T_b520d_row8_col1\" class=\"data row8 col1\" ><strong>bathrooms</strong><br>[float64]</td>\n",
       "      <td id=\"T_b520d_row8_col2\" class=\"data row8 col2\" >Mean (sd) : 1.2 (0.5)<br>min < med < max:<br>0.0 < 1.0 < 6.0<br>IQR (CV) : 0.0 (2.5)</td>\n",
       "      <td id=\"T_b520d_row8_col3\" class=\"data row8 col3\" >11 distinct values</td>\n",
       "      <td id=\"T_b520d_row8_col4\" class=\"data row8 col4\" ><img src = \"tmp/airbnb_008.png\"></img></td>\n",
       "      <td id=\"T_b520d_row8_col5\" class=\"data row8 col5\" >14<br>(0.4%)</td>\n",
       "    </tr>\n",
       "    <tr>\n",
       "      <td id=\"T_b520d_row9_col0\" class=\"data row9 col0\" >10</td>\n",
       "      <td id=\"T_b520d_row9_col1\" class=\"data row9 col1\" ><strong>bedrooms</strong><br>[float64]</td>\n",
       "      <td id=\"T_b520d_row9_col2\" class=\"data row9 col2\" >1. 1.0<br>2. 2.0<br>3. 0.0<br>4. 3.0<br>5. 4.0<br>6. 5.0<br>7. nan</td>\n",
       "      <td id=\"T_b520d_row9_col3\" class=\"data row9 col3\" >2,367 (66.6%)<br>688 (19.4%)<br>287 (8.1%)<br>149 (4.2%)<br>41 (1.2%)<br>13 (0.4%)<br>10 (0.3%)</td>\n",
       "      <td id=\"T_b520d_row9_col4\" class=\"data row9 col4\" ><img src = \"tmp/airbnb_009.png\"></img></td>\n",
       "      <td id=\"T_b520d_row9_col5\" class=\"data row9 col5\" >10<br>(0.3%)</td>\n",
       "    </tr>\n",
       "    <tr>\n",
       "      <td id=\"T_b520d_row10_col0\" class=\"data row10 col0\" >11</td>\n",
       "      <td id=\"T_b520d_row10_col1\" class=\"data row10 col1\" ><strong>beds</strong><br>[float64]</td>\n",
       "      <td id=\"T_b520d_row10_col2\" class=\"data row10 col2\" >Mean (sd) : 1.6 (1.0)<br>min < med < max:<br>0.0 < 1.0 < 16.0<br>IQR (CV) : 1.0 (1.6)</td>\n",
       "      <td id=\"T_b520d_row10_col3\" class=\"data row10 col3\" >11 distinct values</td>\n",
       "      <td id=\"T_b520d_row10_col4\" class=\"data row10 col4\" ><img src = \"tmp/airbnb_010.png\"></img></td>\n",
       "      <td id=\"T_b520d_row10_col5\" class=\"data row10 col5\" >9<br>(0.3%)</td>\n",
       "    </tr>\n",
       "    <tr>\n",
       "      <td id=\"T_b520d_row11_col0\" class=\"data row11 col0\" >12</td>\n",
       "      <td id=\"T_b520d_row11_col1\" class=\"data row11 col1\" ><strong>bed_type</strong><br>[object]</td>\n",
       "      <td id=\"T_b520d_row11_col2\" class=\"data row11 col2\" >1. Real Bed<br>2. Futon<br>3. Airbed<br>4. Pull-out Sofa<br>5. Couch</td>\n",
       "      <td id=\"T_b520d_row11_col3\" class=\"data row11 col3\" >3,423 (96.3%)<br>51 (1.4%)<br>40 (1.1%)<br>31 (0.9%)<br>10 (0.3%)</td>\n",
       "      <td id=\"T_b520d_row11_col4\" class=\"data row11 col4\" ><img src = \"tmp/airbnb_011.png\"></img></td>\n",
       "      <td id=\"T_b520d_row11_col5\" class=\"data row11 col5\" >0<br>(0.0%)</td>\n",
       "    </tr>\n",
       "    <tr>\n",
       "      <td id=\"T_b520d_row12_col0\" class=\"data row12 col0\" >13</td>\n",
       "      <td id=\"T_b520d_row12_col1\" class=\"data row12 col1\" ><strong>Number of amenities</strong><br>[int64]</td>\n",
       "      <td id=\"T_b520d_row12_col2\" class=\"data row12 col2\" >Mean (sd) : 14.9 (4.8)<br>min < med < max:<br>0.0 < 15.0 < 30.0<br>IQR (CV) : 6.0 (3.1)</td>\n",
       "      <td id=\"T_b520d_row12_col3\" class=\"data row12 col3\" >31 distinct values</td>\n",
       "      <td id=\"T_b520d_row12_col4\" class=\"data row12 col4\" ><img src = \"tmp/airbnb_012.png\"></img></td>\n",
       "      <td id=\"T_b520d_row12_col5\" class=\"data row12 col5\" >0<br>(0.0%)</td>\n",
       "    </tr>\n",
       "    <tr>\n",
       "      <td id=\"T_b520d_row13_col0\" class=\"data row13 col0\" >14</td>\n",
       "      <td id=\"T_b520d_row13_col1\" class=\"data row13 col1\" ><strong>guests_included</strong><br>[int64]</td>\n",
       "      <td id=\"T_b520d_row13_col2\" class=\"data row13 col2\" >Mean (sd) : 1.4 (1.1)<br>min < med < max:<br>0.0 < 1.0 < 14.0<br>IQR (CV) : 0.0 (1.4)</td>\n",
       "      <td id=\"T_b520d_row13_col3\" class=\"data row13 col3\" >12 distinct values</td>\n",
       "      <td id=\"T_b520d_row13_col4\" class=\"data row13 col4\" ><img src = \"tmp/airbnb_013.png\"></img></td>\n",
       "      <td id=\"T_b520d_row13_col5\" class=\"data row13 col5\" >0<br>(0.0%)</td>\n",
       "    </tr>\n",
       "    <tr>\n",
       "      <td id=\"T_b520d_row14_col0\" class=\"data row14 col0\" >15</td>\n",
       "      <td id=\"T_b520d_row14_col1\" class=\"data row14 col1\" ><strong>price_per_extra_person</strong><br>[int64]</td>\n",
       "      <td id=\"T_b520d_row14_col2\" class=\"data row14 col2\" >Mean (sd) : 10.9 (19.1)<br>min < med < max:<br>0.0 < 0.0 < 200.0<br>IQR (CV) : 20.0 (0.6)</td>\n",
       "      <td id=\"T_b520d_row14_col3\" class=\"data row14 col3\" >51 distinct values</td>\n",
       "      <td id=\"T_b520d_row14_col4\" class=\"data row14 col4\" ><img src = \"tmp/airbnb_014.png\"></img></td>\n",
       "      <td id=\"T_b520d_row14_col5\" class=\"data row14 col5\" >0<br>(0.0%)</td>\n",
       "    </tr>\n",
       "    <tr>\n",
       "      <td id=\"T_b520d_row15_col0\" class=\"data row15 col0\" >16</td>\n",
       "      <td id=\"T_b520d_row15_col1\" class=\"data row15 col1\" ><strong>minimum_nights</strong><br>[int64]</td>\n",
       "      <td id=\"T_b520d_row15_col2\" class=\"data row15 col2\" >Mean (sd) : 3.1 (8.3)<br>min < med < max:<br>1.0 < 2.0 < 300.0<br>IQR (CV) : 2.0 (0.4)</td>\n",
       "      <td id=\"T_b520d_row15_col3\" class=\"data row15 col3\" >28 distinct values</td>\n",
       "      <td id=\"T_b520d_row15_col4\" class=\"data row15 col4\" ><img src = \"tmp/airbnb_015.png\"></img></td>\n",
       "      <td id=\"T_b520d_row15_col5\" class=\"data row15 col5\" >0<br>(0.0%)</td>\n",
       "    </tr>\n",
       "    <tr>\n",
       "      <td id=\"T_b520d_row16_col0\" class=\"data row16 col0\" >17</td>\n",
       "      <td id=\"T_b520d_row16_col1\" class=\"data row16 col1\" ><strong>number_of_reviews</strong><br>[int64]</td>\n",
       "      <td id=\"T_b520d_row16_col2\" class=\"data row16 col2\" >Mean (sd) : 19.1 (35.7)<br>min < med < max:<br>0.0 < 5.0 < 404.0<br>IQR (CV) : 20.0 (0.5)</td>\n",
       "      <td id=\"T_b520d_row16_col3\" class=\"data row16 col3\" >178 distinct values</td>\n",
       "      <td id=\"T_b520d_row16_col4\" class=\"data row16 col4\" ><img src = \"tmp/airbnb_016.png\"></img></td>\n",
       "      <td id=\"T_b520d_row16_col5\" class=\"data row16 col5\" >0<br>(0.0%)</td>\n",
       "    </tr>\n",
       "    <tr>\n",
       "      <td id=\"T_b520d_row17_col0\" class=\"data row17 col0\" >18</td>\n",
       "      <td id=\"T_b520d_row17_col1\" class=\"data row17 col1\" ><strong>number_days_btw_first_last_review</strong><br>[int64]</td>\n",
       "      <td id=\"T_b520d_row17_col2\" class=\"data row17 col2\" >Mean (sd) : 279.1 (408.7)<br>min < med < max:<br>0.0 < 92.0 < 2680.0<br>IQR (CV) : 402.0 (0.7)</td>\n",
       "      <td id=\"T_b520d_row17_col3\" class=\"data row17 col3\" >953 distinct values</td>\n",
       "      <td id=\"T_b520d_row17_col4\" class=\"data row17 col4\" ><img src = \"tmp/airbnb_017.png\"></img></td>\n",
       "      <td id=\"T_b520d_row17_col5\" class=\"data row17 col5\" >0<br>(0.0%)</td>\n",
       "    </tr>\n",
       "    <tr>\n",
       "      <td id=\"T_b520d_row18_col0\" class=\"data row18 col0\" >19</td>\n",
       "      <td id=\"T_b520d_row18_col1\" class=\"data row18 col1\" ><strong>review_scores_rating</strong><br>[float64]</td>\n",
       "      <td id=\"T_b520d_row18_col2\" class=\"data row18 col2\" >Mean (sd) : 91.9 (9.5)<br>min < med < max:<br>20.0 < 94.0 < 100.0<br>IQR (CV) : 9.0 (9.6)</td>\n",
       "      <td id=\"T_b520d_row18_col3\" class=\"data row18 col3\" >48 distinct values</td>\n",
       "      <td id=\"T_b520d_row18_col4\" class=\"data row18 col4\" ><img src = \"tmp/airbnb_018.png\"></img></td>\n",
       "      <td id=\"T_b520d_row18_col5\" class=\"data row18 col5\" >800<br>(22.5%)</td>\n",
       "    </tr>\n",
       "    <tr>\n",
       "      <td id=\"T_b520d_row19_col0\" class=\"data row19 col0\" >20</td>\n",
       "      <td id=\"T_b520d_row19_col1\" class=\"data row19 col1\" ><strong>cancellation_policy</strong><br>[object]</td>\n",
       "      <td id=\"T_b520d_row19_col2\" class=\"data row19 col2\" >1. strict<br>2. flexible<br>3. moderate<br>4. super_strict_30</td>\n",
       "      <td id=\"T_b520d_row19_col3\" class=\"data row19 col3\" >1,564 (44.0%)<br>989 (27.8%)<br>919 (25.9%)<br>83 (2.3%)</td>\n",
       "      <td id=\"T_b520d_row19_col4\" class=\"data row19 col4\" ><img src = \"tmp/airbnb_019.png\"></img></td>\n",
       "      <td id=\"T_b520d_row19_col5\" class=\"data row19 col5\" >0<br>(0.0%)</td>\n",
       "    </tr>\n",
       "    <tr>\n",
       "      <td id=\"T_b520d_row20_col0\" class=\"data row20 col0\" >21</td>\n",
       "      <td id=\"T_b520d_row20_col1\" class=\"data row20 col1\" ><strong>price</strong><br>[int64]</td>\n",
       "      <td id=\"T_b520d_row20_col2\" class=\"data row20 col2\" >Mean (sd) : 166.1 (103.4)<br>min < med < max:<br>10.0 < 150.0 < 650.0<br>IQR (CV) : 134.0 (1.6)</td>\n",
       "      <td id=\"T_b520d_row20_col3\" class=\"data row20 col3\" >301 distinct values</td>\n",
       "      <td id=\"T_b520d_row20_col4\" class=\"data row20 col4\" ><img src = \"tmp/airbnb_020.png\"></img></td>\n",
       "      <td id=\"T_b520d_row20_col5\" class=\"data row20 col5\" >0<br>(0.0%)</td>\n",
       "    </tr>\n",
       "    <tr>\n",
       "      <td id=\"T_b520d_row21_col0\" class=\"data row21 col0\" >22</td>\n",
       "      <td id=\"T_b520d_row21_col1\" class=\"data row21 col1\" ><strong>price_gte_150</strong><br>[int64]</td>\n",
       "      <td id=\"T_b520d_row21_col2\" class=\"data row21 col2\" >1. 1<br>2. 0</td>\n",
       "      <td id=\"T_b520d_row21_col3\" class=\"data row21 col3\" >1,779 (50.0%)<br>1,776 (50.0%)</td>\n",
       "      <td id=\"T_b520d_row21_col4\" class=\"data row21 col4\" ><img src = \"tmp/airbnb_021.png\"></img></td>\n",
       "      <td id=\"T_b520d_row21_col5\" class=\"data row21 col5\" >0<br>(0.0%)</td>\n",
       "    </tr>\n",
       "    <tr>\n",
       "      <td id=\"T_b520d_row22_col0\" class=\"data row22 col0\" >23</td>\n",
       "      <td id=\"T_b520d_row22_col1\" class=\"data row22 col1\" ><strong>price_category</strong><br>[object]</td>\n",
       "      <td id=\"T_b520d_row22_col2\" class=\"data row22 col2\" >1. btw_$75-$150<br>2. btw_$151-$225<br>3. gte_226<br>4. lte_$75</td>\n",
       "      <td id=\"T_b520d_row22_col3\" class=\"data row22 col3\" >1,187 (33.4%)<br>828 (23.3%)<br>807 (22.7%)<br>733 (20.6%)</td>\n",
       "      <td id=\"T_b520d_row22_col4\" class=\"data row22 col4\" ><img src = \"tmp/airbnb_022.png\"></img></td>\n",
       "      <td id=\"T_b520d_row22_col5\" class=\"data row22 col5\" >0<br>(0.0%)</td>\n",
       "    </tr>\n",
       "  </tbody>\n",
       "</table>\n"
      ],
      "text/plain": [
       "<pandas.io.formats.style.Styler at 0x29a3d9b20>"
      ]
     },
     "execution_count": 38,
     "metadata": {},
     "output_type": "execute_result"
    }
   ],
   "source": [
    "# there are many ways we could explore our data. A rather new library available is called \n",
    "# jupyter-summarytools this library provides functions that provide very thorough summaries \n",
    "# of your data. Though such detail is not always required, there are times when you want a \n",
    "# thorough summary\n",
    "\n",
    "# jupyter-summary tools is not part of the standard anaconda distribution of python, nor \n",
    "# is it in any conda channels. To install this library, you need to install it from the \n",
    "# terminal/command line using pip pip install jupyter-summarytools\n",
    "\n",
    "# once installed, you can import this library and use dfSummary to provide a more thorough \n",
    "# summary of your data\n",
    "import summarytools\n",
    "from summarytools import dfSummary\n",
    "dfSummary(airbnb)"
   ]
  },
  {
   "cell_type": "code",
   "execution_count": 39,
   "metadata": {},
   "outputs": [
    {
     "data": {
      "text/plain": [
       "host_is_superhost                      0\n",
       "host_identity_verified                 0\n",
       "neighbourhood_cleansed                 0\n",
       "latitude                               0\n",
       "longitude                              0\n",
       "property_type                          3\n",
       "room_type                              0\n",
       "accommodates                           0\n",
       "bathrooms                             14\n",
       "bedrooms                              10\n",
       "beds                                   9\n",
       "bed_type                               0\n",
       "Number of amenities                    0\n",
       "guests_included                        0\n",
       "price_per_extra_person                 0\n",
       "minimum_nights                         0\n",
       "number_of_reviews                      0\n",
       "number_days_btw_first_last_review      0\n",
       "review_scores_rating                 800\n",
       "cancellation_policy                    0\n",
       "price                                  0\n",
       "price_gte_150                          0\n",
       "price_category                         0\n",
       "dtype: int64"
      ]
     },
     "execution_count": 39,
     "metadata": {},
     "output_type": "execute_result"
    }
   ],
   "source": [
    "# Check the missing values by summing the total na's for each variable\n",
    "airbnb.isna().sum()"
   ]
  },
  {
   "cell_type": "code",
   "execution_count": 40,
   "metadata": {},
   "outputs": [
    {
     "data": {
      "text/plain": [
       "['neighbourhood_cleansed',\n",
       " 'property_type',\n",
       " 'room_type',\n",
       " 'bed_type',\n",
       " 'cancellation_policy',\n",
       " 'price_category']"
      ]
     },
     "execution_count": 40,
     "metadata": {},
     "output_type": "execute_result"
    }
   ],
   "source": [
    "# create a list of these catagorical variables\n",
    "category_var_list = list(airbnb.select_dtypes(include='object').columns)\n",
    "category_var_list"
   ]
  },
  {
   "cell_type": "code",
   "execution_count": 41,
   "metadata": {},
   "outputs": [
    {
     "name": "stdout",
     "output_type": "stream",
     "text": [
      "Category: neighbourhood_cleansed Values: ['Roslindale' 'Jamaica Plain' 'Mission Hill' 'Longwood Medical Area'\n",
      " 'Bay Village' 'Leather District' 'Chinatown' 'North End' 'Roxbury'\n",
      " 'South End' 'Back Bay' 'East Boston' 'Charlestown' 'West End'\n",
      " 'Beacon Hill' 'Downtown' 'Fenway' 'Brighton' 'West Roxbury' 'Hyde Park'\n",
      " 'Mattapan' 'Dorchester' 'South Boston Waterfront' 'South Boston'\n",
      " 'Allston']\n",
      "Category: property_type Values: ['House' 'Apartment' 'Condominium' 'Villa' 'Bed & Breakfast' 'Townhouse'\n",
      " 'Entire Floor' 'Loft' 'Guesthouse' 'Boat' 'Dorm' 'Other' nan 'Camper/RV']\n",
      "Category: room_type Values: ['Entire home/apt' 'Private room' 'Shared room']\n",
      "Category: bed_type Values: ['Real Bed' 'Pull-out Sofa' 'Futon' 'Airbed' 'Couch']\n",
      "Category: cancellation_policy Values: ['moderate' 'flexible' 'strict' 'super_strict_30']\n",
      "Category: price_category Values: ['gte_226' 'lte_$75' 'btw_$75-$150' 'btw_$151-$225']\n"
     ]
    }
   ],
   "source": [
    "# explore the categorical variable values - often there are typos here that need to be fixed.\n",
    "for cat in category_var_list: # generally, we want to avoid for loops and use a functional style (i.e. list comprehension)\n",
    "    print(f\"Category: {cat} Values: {airbnb[cat].unique()}\")"
   ]
  },
  {
   "cell_type": "markdown",
   "metadata": {},
   "source": [
    "### Summary the findings from our initial evaluation of the data\n",
    "\n",
    "* We have 6 categorical variables\n",
    "* We have 3 variables that have missing values\n",
    "* There doesn't seem to be a problem with the catogorical class names."
   ]
  },
  {
   "attachments": {},
   "cell_type": "markdown",
   "metadata": {
    "tags": []
   },
   "source": [
    "## 4.0 Process the data\n",
    "\n",
    "* Conduct any data prepartion that should be done *BEFORE* the data split.\n",
    "* Split the data.\n",
    "* Conduct any data preparation that should be done *AFTER* the data split."
   ]
  },
  {
   "attachments": {},
   "cell_type": "markdown",
   "metadata": {},
   "source": [
    "### 4.1  Conduct any data prepartion that should be done *BEFORE* the data split\n",
    "\n",
    "Tasks at this stage include:\n",
    "1. Drop any columns/features \n",
    "2. Decide if you with to exclude any observations (rows) due to missing na's.\n",
    "2. Conduct proper encoding of categorical variables\n",
    "    1. You can transform them using dummy variable encoding, one-hot-encoding, or label encoding. "
   ]
  },
  {
   "cell_type": "markdown",
   "metadata": {},
   "source": [
    "#### Drop any columns/variables we will not be using"
   ]
  },
  {
   "cell_type": "code",
   "execution_count": 42,
   "metadata": {},
   "outputs": [],
   "source": [
    "# Our target is price; but there are three related price variableds - price, price_gte_150, \n",
    "# and price_category. We need to drop price_gte_150, and price_category\n",
    "airbnb.drop(['price', 'price_category'], axis=1, inplace = True) # keep price_gte_150 for our target"
   ]
  },
  {
   "cell_type": "markdown",
   "metadata": {},
   "source": [
    "#### Drop observations with too many NA's"
   ]
  },
  {
   "cell_type": "markdown",
   "metadata": {
    "tags": []
   },
   "source": [
    "If we want to remove the rows with NA's use the following code that is commented out. For this exercise - we will not drop rows with NA's "
   ]
  },
  {
   "cell_type": "code",
   "execution_count": 43,
   "metadata": {},
   "outputs": [],
   "source": [
    "# If we want to remove rows with NA's use the following code:\n",
    "# airbnb.dropna(axis=0, inplace=True)"
   ]
  },
  {
   "cell_type": "code",
   "execution_count": 44,
   "metadata": {},
   "outputs": [],
   "source": [
    "# verify that there are now no missing values\n",
    "# airbnb.isna().sum()"
   ]
  },
  {
   "cell_type": "code",
   "execution_count": 45,
   "metadata": {},
   "outputs": [],
   "source": [
    "# investigage how many rows remain \n",
    "# airbnb.shape"
   ]
  },
  {
   "cell_type": "markdown",
   "metadata": {},
   "source": [
    "#### Encode our categorical variables"
   ]
  },
  {
   "cell_type": "markdown",
   "metadata": {},
   "source": [
    "Categorical variables usually have strings for their values. Many machine learning algorithms do not support string values for the input variables. Therefore, we need to replace these string values with numbers. This process is called categorical variable encoding.\n",
    "\n",
    "In a previous step we identified 5 catagorical variables and found no indication of typos in the class names. Our focus is now on encoding the variables. \n",
    "\n",
    "We have three main approaches to encoding variables (these will be discussed in greater detail in class)\n",
    "* One-Hot-Encoding\n",
    "* Dummy Encoding\n",
    "* Label Encoding\n",
    "\n",
    "In this exercise; we will dummy encode neighbourhood_cleansed, property_type using dummy encoding, and room_type, bed_type and cancelation policy using label encoding. (we will have more discussion on these choices in class)."
   ]
  },
  {
   "cell_type": "markdown",
   "metadata": {},
   "source": [
    "Before we do our encoding, we must identify if any of our categorical variables have a missing value. We will replace any missing values with the term 'unkown'."
   ]
  },
  {
   "cell_type": "code",
   "execution_count": 46,
   "metadata": {},
   "outputs": [
    {
     "data": {
      "text/plain": [
       "3"
      ]
     },
     "execution_count": 46,
     "metadata": {},
     "output_type": "execute_result"
    }
   ],
   "source": [
    "airbnb['property_type'].isna().sum() # check for missing values in this variable/column - we can see there are three for this variable"
   ]
  },
  {
   "cell_type": "code",
   "execution_count": 47,
   "metadata": {},
   "outputs": [],
   "source": [
    "airbnb[\"property_type\"].fillna(\"unkown\", inplace = True)"
   ]
  },
  {
   "cell_type": "code",
   "execution_count": 48,
   "metadata": {},
   "outputs": [
    {
     "data": {
      "text/plain": [
       "0"
      ]
     },
     "execution_count": 48,
     "metadata": {},
     "output_type": "execute_result"
    }
   ],
   "source": [
    "airbnb['neighbourhood_cleansed'].isna().sum() "
   ]
  },
  {
   "cell_type": "code",
   "execution_count": 49,
   "metadata": {},
   "outputs": [
    {
     "data": {
      "text/plain": [
       "0"
      ]
     },
     "execution_count": 49,
     "metadata": {},
     "output_type": "execute_result"
    }
   ],
   "source": [
    "airbnb['room_type'].isna().sum() # can see by the results below, no missing values"
   ]
  },
  {
   "cell_type": "code",
   "execution_count": 50,
   "metadata": {},
   "outputs": [
    {
     "data": {
      "text/plain": [
       "0"
      ]
     },
     "execution_count": 50,
     "metadata": {},
     "output_type": "execute_result"
    }
   ],
   "source": [
    "airbnb['bed_type'].isna().sum() # can see by the results below, no missing values"
   ]
  },
  {
   "cell_type": "code",
   "execution_count": 51,
   "metadata": {},
   "outputs": [
    {
     "data": {
      "text/plain": [
       "0"
      ]
     },
     "execution_count": 51,
     "metadata": {},
     "output_type": "execute_result"
    }
   ],
   "source": [
    "airbnb['cancellation_policy'].isna().sum() # can see by the results below, no missing values"
   ]
  },
  {
   "cell_type": "markdown",
   "metadata": {
    "tags": []
   },
   "source": [
    "Now, let's encode neighborhood_cleansed and property_type as dummy variables and room_type, bed_type and cancelation_policy labeled (numeric)"
   ]
  },
  {
   "cell_type": "code",
   "execution_count": 52,
   "metadata": {},
   "outputs": [],
   "source": [
    "dummies_df = pd.get_dummies(airbnb['neighbourhood_cleansed'], prefix='neighbourhood_cleansed', drop_first=True)"
   ]
  },
  {
   "cell_type": "code",
   "execution_count": 53,
   "metadata": {},
   "outputs": [],
   "source": [
    "airbnb = airbnb.join(dummies_df)\n",
    "airbnb.drop('neighbourhood_cleansed', axis=1, inplace = True)"
   ]
  },
  {
   "cell_type": "code",
   "execution_count": 54,
   "metadata": {},
   "outputs": [],
   "source": [
    "airbnb = airbnb.join(pd.get_dummies(airbnb['property_type'], prefix='property_type', drop_first=True))\n",
    "airbnb.drop('property_type', axis=1, inplace = True)"
   ]
  },
  {
   "cell_type": "code",
   "execution_count": 55,
   "metadata": {},
   "outputs": [],
   "source": [
    "labelencoder = LabelEncoder()\n",
    "airbnb['room_type'] = labelencoder.fit_transform(airbnb['room_type'])\n",
    "airbnb['bed_type'] = labelencoder.fit_transform(airbnb['bed_type'])\n",
    "airbnb['cancellation_policy'] = labelencoder.fit_transform(airbnb['cancellation_policy'])"
   ]
  },
  {
   "cell_type": "code",
   "execution_count": 56,
   "metadata": {},
   "outputs": [
    {
     "name": "stdout",
     "output_type": "stream",
     "text": [
      "<class 'pandas.core.frame.DataFrame'>\n",
      "RangeIndex: 3555 entries, 0 to 3554\n",
      "Data columns (total 56 columns):\n",
      " #   Column                                          Non-Null Count  Dtype  \n",
      "---  ------                                          --------------  -----  \n",
      " 0   host_is_superhost                               3555 non-null   int64  \n",
      " 1   host_identity_verified                          3555 non-null   int64  \n",
      " 2   latitude                                        3555 non-null   float64\n",
      " 3   longitude                                       3555 non-null   float64\n",
      " 4   room_type                                       3555 non-null   int64  \n",
      " 5   accommodates                                    3555 non-null   int64  \n",
      " 6   bathrooms                                       3541 non-null   float64\n",
      " 7   bedrooms                                        3545 non-null   float64\n",
      " 8   beds                                            3546 non-null   float64\n",
      " 9   bed_type                                        3555 non-null   int64  \n",
      " 10  Number of amenities                             3555 non-null   int64  \n",
      " 11  guests_included                                 3555 non-null   int64  \n",
      " 12  price_per_extra_person                          3555 non-null   int64  \n",
      " 13  minimum_nights                                  3555 non-null   int64  \n",
      " 14  number_of_reviews                               3555 non-null   int64  \n",
      " 15  number_days_btw_first_last_review               3555 non-null   int64  \n",
      " 16  review_scores_rating                            2755 non-null   float64\n",
      " 17  cancellation_policy                             3555 non-null   int64  \n",
      " 18  price_gte_150                                   3555 non-null   int64  \n",
      " 19  neighbourhood_cleansed_Back Bay                 3555 non-null   uint8  \n",
      " 20  neighbourhood_cleansed_Bay Village              3555 non-null   uint8  \n",
      " 21  neighbourhood_cleansed_Beacon Hill              3555 non-null   uint8  \n",
      " 22  neighbourhood_cleansed_Brighton                 3555 non-null   uint8  \n",
      " 23  neighbourhood_cleansed_Charlestown              3555 non-null   uint8  \n",
      " 24  neighbourhood_cleansed_Chinatown                3555 non-null   uint8  \n",
      " 25  neighbourhood_cleansed_Dorchester               3555 non-null   uint8  \n",
      " 26  neighbourhood_cleansed_Downtown                 3555 non-null   uint8  \n",
      " 27  neighbourhood_cleansed_East Boston              3555 non-null   uint8  \n",
      " 28  neighbourhood_cleansed_Fenway                   3555 non-null   uint8  \n",
      " 29  neighbourhood_cleansed_Hyde Park                3555 non-null   uint8  \n",
      " 30  neighbourhood_cleansed_Jamaica Plain            3555 non-null   uint8  \n",
      " 31  neighbourhood_cleansed_Leather District         3555 non-null   uint8  \n",
      " 32  neighbourhood_cleansed_Longwood Medical Area    3555 non-null   uint8  \n",
      " 33  neighbourhood_cleansed_Mattapan                 3555 non-null   uint8  \n",
      " 34  neighbourhood_cleansed_Mission Hill             3555 non-null   uint8  \n",
      " 35  neighbourhood_cleansed_North End                3555 non-null   uint8  \n",
      " 36  neighbourhood_cleansed_Roslindale               3555 non-null   uint8  \n",
      " 37  neighbourhood_cleansed_Roxbury                  3555 non-null   uint8  \n",
      " 38  neighbourhood_cleansed_South Boston             3555 non-null   uint8  \n",
      " 39  neighbourhood_cleansed_South Boston Waterfront  3555 non-null   uint8  \n",
      " 40  neighbourhood_cleansed_South End                3555 non-null   uint8  \n",
      " 41  neighbourhood_cleansed_West End                 3555 non-null   uint8  \n",
      " 42  neighbourhood_cleansed_West Roxbury             3555 non-null   uint8  \n",
      " 43  property_type_Bed & Breakfast                   3555 non-null   uint8  \n",
      " 44  property_type_Boat                              3555 non-null   uint8  \n",
      " 45  property_type_Camper/RV                         3555 non-null   uint8  \n",
      " 46  property_type_Condominium                       3555 non-null   uint8  \n",
      " 47  property_type_Dorm                              3555 non-null   uint8  \n",
      " 48  property_type_Entire Floor                      3555 non-null   uint8  \n",
      " 49  property_type_Guesthouse                        3555 non-null   uint8  \n",
      " 50  property_type_House                             3555 non-null   uint8  \n",
      " 51  property_type_Loft                              3555 non-null   uint8  \n",
      " 52  property_type_Other                             3555 non-null   uint8  \n",
      " 53  property_type_Townhouse                         3555 non-null   uint8  \n",
      " 54  property_type_Villa                             3555 non-null   uint8  \n",
      " 55  property_type_unkown                            3555 non-null   uint8  \n",
      "dtypes: float64(6), int64(13), uint8(37)\n",
      "memory usage: 656.3 KB\n"
     ]
    }
   ],
   "source": [
    "# explore the dataframe columns to verify encoding and dropped columns\n",
    "airbnb.info()"
   ]
  },
  {
   "attachments": {},
   "cell_type": "markdown",
   "metadata": {},
   "source": [
    "### 4.2 Split data (train/test)"
   ]
  },
  {
   "cell_type": "code",
   "execution_count": 57,
   "metadata": {},
   "outputs": [],
   "source": [
    "# split the data into validation and training set\n",
    "train_df, test_df = train_test_split(airbnb, test_size=0.3)\n",
    "\n",
    "# to reduce repetition in later code, create variables to represent the columns\n",
    "# that are our predictors and target\n",
    "target = 'price_gte_150'\n",
    "predictors = list(airbnb.columns)\n",
    "predictors.remove(target)"
   ]
  },
  {
   "attachments": {},
   "cell_type": "markdown",
   "metadata": {},
   "source": [
    "### 4.3  Conduct any data prepartion that should be done *AFTER* the data split\n",
    "\n",
    "We will look at the following:\n",
    "1) imput any missing numeric values using the mean of the variable/column\n",
    "2) remove differences of scale by standardizing the numerica variables"
   ]
  },
  {
   "cell_type": "markdown",
   "metadata": {},
   "source": [
    "#### Impute missing values"
   ]
  },
  {
   "cell_type": "code",
   "execution_count": 58,
   "metadata": {},
   "outputs": [
    {
     "data": {
      "text/plain": [
       "['bathrooms', 'bedrooms', 'beds', 'review_scores_rating']"
      ]
     },
     "execution_count": 58,
     "metadata": {},
     "output_type": "execute_result"
    }
   ],
   "source": [
    "numeric_cols_with_nas = list(train_df.isna().sum()[train_df.isna().sum() > 0].index)\n",
    "numeric_cols_with_nas"
   ]
  },
  {
   "cell_type": "markdown",
   "metadata": {},
   "source": [
    "We can see from the code above that there are 4 variables (columns) that contain missing numeric values (we've already taken care of any missing values in the catagorical variables earlier)."
   ]
  },
  {
   "cell_type": "code",
   "execution_count": 59,
   "metadata": {},
   "outputs": [],
   "source": [
    "imputer = SimpleImputer(strategy=\"median\")\n",
    "\n",
    "train_df[numeric_cols_with_nas] = imputer.fit_transform(train_df[numeric_cols_with_nas])\n",
    "test_df[numeric_cols_with_nas] = imputer.transform(test_df[numeric_cols_with_nas])"
   ]
  },
  {
   "cell_type": "markdown",
   "metadata": {},
   "source": [
    "#### Standardize numeric values"
   ]
  },
  {
   "cell_type": "markdown",
   "metadata": {},
   "source": [
    "Now, let's create a common scale between the numberic columns by standardizing each numeric column"
   ]
  },
  {
   "cell_type": "code",
   "execution_count": 60,
   "metadata": {},
   "outputs": [],
   "source": [
    "# create a standard scaler and fit it to the training set of predictors\n",
    "scaler = preprocessing.StandardScaler()\n",
    "cols_to_stdize = ['latitude', 'longitude', 'accommodates', \n",
    "                   'bathrooms', 'bedrooms', 'beds', 'Number of amenities', \n",
    "                   'guests_included', 'price_per_extra_person', 'minimum_nights', \n",
    "                   'number_of_reviews', 'number_days_btw_first_last_review', \n",
    "                   'review_scores_rating']                \n",
    "               \n",
    "# Transform the predictors of training and validation sets\n",
    "train_df[cols_to_stdize] = scaler.fit_transform(train_df[cols_to_stdize]) # train_predictors is not a numpy array\n",
    "\n",
    "\n",
    "test_df[cols_to_stdize] = scaler.transform(test_df[cols_to_stdize]) # validation_target is now a series object\n"
   ]
  },
  {
   "attachments": {},
   "cell_type": "markdown",
   "metadata": {},
   "source": [
    "## 5.0 Save the data"
   ]
  },
  {
   "cell_type": "code",
   "execution_count": 61,
   "metadata": {},
   "outputs": [],
   "source": [
    "train_X = train_df[predictors]\n",
    "train_y = train_df[target] # train_target is now a series objecttrain_df.to_csv('airbnb_train_df.csv', index=False)\n",
    "test_X = test_df[predictors]\n",
    "test_y = test_df[target] # validation_target is now a series object\n",
    "\n",
    "train_df.to_csv('./airbnb_train_df_price_gte_150.csv', index=False)\n",
    "train_X.to_csv('./airbnb_train_X_price_gte_150.csv', index=False)\n",
    "train_y.to_csv('./airbnb_train_y_price_gte_150.csv', index=False)\n",
    "test_df.to_csv('./airbnb_test_df_price_gte_150.csv', index=False)\n",
    "test_X.to_csv('./airbnb_test_X_price_gte_150.csv', index=False)\n",
    "test_y.to_csv('./airbnb_test_y_price_gte_150.csv', index=False)"
   ]
  }
 ],
 "metadata": {
  "kernelspec": {
   "display_name": "base",
   "language": "python",
   "name": "python3"
  },
  "language_info": {
   "codemirror_mode": {
    "name": "ipython",
    "version": 3
   },
   "file_extension": ".py",
   "mimetype": "text/x-python",
   "name": "python",
   "nbconvert_exporter": "python",
   "pygments_lexer": "ipython3",
   "version": "3.9.13"
  },
  "nav_menu": {
   "height": "279px",
   "width": "309px"
  },
  "toc": {
   "base_numbering": 1,
   "nav_menu": {},
   "number_sections": false,
   "sideBar": true,
   "skip_h1_title": false,
   "title_cell": "Table of Contents",
   "title_sidebar": "Contents",
   "toc_cell": false,
   "toc_position": {
    "height": "calc(100% - 180px)",
    "left": "10px",
    "top": "150px",
    "width": "235px"
   },
   "toc_section_display": "block",
   "toc_window_display": true
  },
  "varInspector": {
   "cols": {
    "lenName": 16,
    "lenType": 16,
    "lenVar": 40
   },
   "kernels_config": {
    "python": {
     "delete_cmd_postfix": "",
     "delete_cmd_prefix": "del ",
     "library": "var_list.py",
     "varRefreshCmd": "print(var_dic_list())"
    },
    "r": {
     "delete_cmd_postfix": ") ",
     "delete_cmd_prefix": "rm(",
     "library": "var_list.r",
     "varRefreshCmd": "cat(var_dic_list()) "
    }
   },
   "types_to_exclude": [
    "module",
    "function",
    "builtin_function_or_method",
    "instance",
    "_Feature"
   ],
   "window_display": false
  }
 },
 "nbformat": 4,
 "nbformat_minor": 4
}
