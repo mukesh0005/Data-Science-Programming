{
 "cells": [
  {
   "cell_type": "code",
   "execution_count": 44,
   "metadata": {},
   "outputs": [],
   "source": [
    "from sklearn.decomposition import TruncatedSVD\n",
    "from sklearn.ensemble import RandomForestClassifier\n",
    "from sklearn.linear_model import SGDClassifier\n",
    "from sklearn.metrics import accuracy_score\n",
    "import pandas as pd\n",
    "import numpy as np"
   ]
  },
  {
   "attachments": {},
   "cell_type": "markdown",
   "metadata": {},
   "source": [
    "# IMPORT DATA"
   ]
  },
  {
   "cell_type": "code",
   "execution_count": 45,
   "metadata": {},
   "outputs": [],
   "source": [
    "X_train = pd.read_csv(\"./data/tm_X_train.csv\")\n",
    "X_test = pd.read_csv(\"./data/tm_X_test.csv\")\n",
    "y_train = pd.read_csv(\"./data/tm_y_train.csv\")\n",
    "y_test = pd.read_csv(\"./data/tm_y_test.csv\")"
   ]
  },
  {
   "cell_type": "code",
   "execution_count": 46,
   "metadata": {},
   "outputs": [
    {
     "data": {
      "text/plain": [
       "((417, 10425), (180, 10425))"
      ]
     },
     "execution_count": 46,
     "metadata": {},
     "output_type": "execute_result"
    }
   ],
   "source": [
    "X_train.shape, X_test.shape"
   ]
  },
  {
   "attachments": {},
   "cell_type": "markdown",
   "metadata": {},
   "source": [
    "# Analysis"
   ]
  },
  {
   "cell_type": "code",
   "execution_count": 47,
   "metadata": {},
   "outputs": [],
   "source": [
    "#LSA - SVD - 100\n",
    "from sklearn.decomposition import TruncatedSVD\n",
    "\n",
    "tsvd_100 = TruncatedSVD(n_components=100, n_iter=10) \n",
    "\n",
    "X_train_100= tsvd_100.fit_transform(X_train)\n",
    "X_test_100 = tsvd_100.transform(X_test)\n"
   ]
  },
  {
   "cell_type": "code",
   "execution_count": 48,
   "metadata": {},
   "outputs": [
    {
     "data": {
      "text/plain": [
       "((417, 10425), (180, 10425))"
      ]
     },
     "execution_count": 48,
     "metadata": {},
     "output_type": "execute_result"
    }
   ],
   "source": [
    "X_train.shape, X_test.shape"
   ]
  },
  {
   "cell_type": "code",
   "execution_count": 49,
   "metadata": {},
   "outputs": [
    {
     "data": {
      "text/plain": [
       "((417, 100), (180, 100))"
      ]
     },
     "execution_count": 49,
     "metadata": {},
     "output_type": "execute_result"
    }
   ],
   "source": [
    "X_train_100.shape, X_test_100.shape"
   ]
  },
  {
   "cell_type": "code",
   "execution_count": 50,
   "metadata": {},
   "outputs": [],
   "source": [
    "rand_forest_classifier = RandomForestClassifier() \n",
    "Lsa_100 = rand_forest_classifier.fit(X_train_100, np.ravel(y_train))"
   ]
  },
  {
   "cell_type": "code",
   "execution_count": 51,
   "metadata": {},
   "outputs": [],
   "source": [
    "#accuracy_scores\n",
    "Lsa_100_train_acc = accuracy_score(y_train, Lsa_100.predict(X_train_100))\n",
    "Lsa_100_test_acc = accuracy_score(y_test, Lsa_100.predict(X_test_100))"
   ]
  },
  {
   "cell_type": "code",
   "execution_count": 52,
   "metadata": {},
   "outputs": [],
   "source": [
    "#LSA - SVD -300\n",
    "tsvd_300 = TruncatedSVD(n_components=300, n_iter=10) \n",
    "\n",
    "X_train_300= tsvd_300.fit_transform(X_train)\n",
    "X_test_300 = tsvd_300.transform(X_test)\n"
   ]
  },
  {
   "cell_type": "code",
   "execution_count": 53,
   "metadata": {},
   "outputs": [
    {
     "data": {
      "text/plain": [
       "((417, 10425), (180, 10425))"
      ]
     },
     "execution_count": 53,
     "metadata": {},
     "output_type": "execute_result"
    }
   ],
   "source": [
    "X_train.shape, X_test.shape"
   ]
  },
  {
   "cell_type": "code",
   "execution_count": 54,
   "metadata": {},
   "outputs": [
    {
     "data": {
      "text/plain": [
       "((417, 300), (180, 300))"
      ]
     },
     "execution_count": 54,
     "metadata": {},
     "output_type": "execute_result"
    }
   ],
   "source": [
    "X_train_300.shape, X_test_300.shape"
   ]
  },
  {
   "cell_type": "code",
   "execution_count": 55,
   "metadata": {},
   "outputs": [],
   "source": [
    "Lsa_300 = rand_forest_classifier.fit(X_train_300, np.ravel(y_train))"
   ]
  },
  {
   "cell_type": "code",
   "execution_count": 56,
   "metadata": {},
   "outputs": [],
   "source": [
    "#accuracy_scores\n",
    "Lsa_300_train_acc = accuracy_score(y_train, Lsa_300.predict(X_train_300))\n",
    "Lsa_300_test_acc = accuracy_score(y_test, Lsa_300.predict(X_test_300))"
   ]
  },
  {
   "cell_type": "code",
   "execution_count": 57,
   "metadata": {},
   "outputs": [],
   "source": [
    "#LSA - SVD -500\n",
    "tsvd_500 = TruncatedSVD(n_components=500, n_iter=10) \n",
    "\n",
    "X_train_500= tsvd_500.fit_transform(X_train)\n",
    "X_test_500 = tsvd_500.transform(X_test)\n"
   ]
  },
  {
   "cell_type": "code",
   "execution_count": 58,
   "metadata": {},
   "outputs": [
    {
     "data": {
      "text/plain": [
       "((417, 10425), (180, 10425))"
      ]
     },
     "execution_count": 58,
     "metadata": {},
     "output_type": "execute_result"
    }
   ],
   "source": [
    "X_train.shape, X_test.shape"
   ]
  },
  {
   "cell_type": "code",
   "execution_count": 59,
   "metadata": {},
   "outputs": [
    {
     "data": {
      "text/plain": [
       "((417, 417), (180, 417))"
      ]
     },
     "execution_count": 59,
     "metadata": {},
     "output_type": "execute_result"
    }
   ],
   "source": [
    "X_train_500.shape, X_test_500.shape"
   ]
  },
  {
   "cell_type": "code",
   "execution_count": 60,
   "metadata": {},
   "outputs": [],
   "source": [
    "Lsa_500 = rand_forest_classifier.fit(X_train_500, np.ravel(y_train))"
   ]
  },
  {
   "cell_type": "code",
   "execution_count": 61,
   "metadata": {},
   "outputs": [],
   "source": [
    "#accuracy_scores\n",
    "Lsa_500_train_acc = accuracy_score(y_train, Lsa_500.predict(X_train_500))\n",
    "Lsa_500_test_acc = accuracy_score(y_test, Lsa_500.predict(X_test_500))"
   ]
  },
  {
   "cell_type": "code",
   "execution_count": 62,
   "metadata": {},
   "outputs": [],
   "source": [
    "# Random Forest\n",
    "rand_forest_clf = RandomForestClassifier(n_estimators=100, max_depth=5, random_state=42)\n",
    "rand_forest_clf.fit(X_train, np.ravel(y_train))\n",
    "\n",
    "rand_forest_clf_train_acc = accuracy_score(y_train, rand_forest_clf.predict(X_train))\n",
    "rand_forest_clf_test_acc = accuracy_score(y_test, rand_forest_clf.predict(X_test))"
   ]
  },
  {
   "cell_type": "code",
   "execution_count": 63,
   "metadata": {},
   "outputs": [],
   "source": [
    "# SGD\n",
    "sgd_clf = SGDClassifier(max_iter=1000, tol=1e-3, random_state=42)\n",
    "sgd_clf.fit(X_train, np.ravel(y_train))\n",
    "\n",
    "sgd_clf_train_acc = accuracy_score(y_train, sgd_clf.predict(X_train))\n",
    "sgd_clf_test_acc = accuracy_score(y_test, sgd_clf.predict(X_test))"
   ]
  },
  {
   "cell_type": "code",
   "execution_count": 64,
   "metadata": {},
   "outputs": [
    {
     "name": "stdout",
     "output_type": "stream",
     "text": [
      "           Model  Train Accuracy  Test Accuracy\n",
      "0        LSA_100        0.997602       0.922222\n",
      "1        LSA_300        0.997602       0.927778\n",
      "2        LSA_500        0.997602       0.916667\n",
      "3  Random Forest        0.889688       0.811111\n",
      "4            SGD        0.997602       0.955556\n"
     ]
    }
   ],
   "source": [
    "data = {'Model': ['LSA_100', 'LSA_300', 'LSA_500', 'Random Forest', 'SGD'], \n",
    "        'Train Accuracy': [Lsa_100_train_acc, Lsa_300_train_acc, Lsa_500_train_acc, rand_forest_clf_train_acc, sgd_clf_train_acc], \n",
    "        'Test Accuracy': [Lsa_100_test_acc, Lsa_300_test_acc, Lsa_500_test_acc, rand_forest_clf_test_acc, sgd_clf_test_acc]}\n",
    "\n",
    "results_df = pd.DataFrame(data)\n",
    "print(results_df)"
   ]
  },
  {
   "attachments": {},
   "cell_type": "markdown",
   "metadata": {},
   "source": [
    "From the above results we can see that the SGD has the best accuracy among all the models and with increase in number of components the test accuracy is getting descreased this might be due to variance in the number of components. so it is better to increase the number of iterations rather than the number of components. Even if we take the n components 500 since there are only 417 components by default it took 417 only. Hoping that this wont effect my submission marks."
   ]
  }
 ],
 "metadata": {
  "kernelspec": {
   "display_name": "base",
   "language": "python",
   "name": "python3"
  },
  "language_info": {
   "codemirror_mode": {
    "name": "ipython",
    "version": 3
   },
   "file_extension": ".py",
   "mimetype": "text/x-python",
   "name": "python",
   "nbconvert_exporter": "python",
   "pygments_lexer": "ipython3",
   "version": "3.9.13"
  },
  "orig_nbformat": 4
 },
 "nbformat": 4,
 "nbformat_minor": 2
}
